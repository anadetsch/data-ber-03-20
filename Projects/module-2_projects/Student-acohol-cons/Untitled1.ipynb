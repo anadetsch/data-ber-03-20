{
 "cells": [
  {
   "cell_type": "code",
   "execution_count": 1,
   "metadata": {},
   "outputs": [],
   "source": [
    "import pandas as pd\n",
    "import numpy as np"
   ]
  },
  {
   "cell_type": "code",
   "execution_count": 2,
   "metadata": {},
   "outputs": [],
   "source": [
    "student_port = pd.read_csv(\"student_port_clean.csv\")"
   ]
  },
  {
   "cell_type": "code",
   "execution_count": 3,
   "metadata": {},
   "outputs": [
    {
     "data": {
      "text/html": [
       "<div>\n",
       "<style scoped>\n",
       "    .dataframe tbody tr th:only-of-type {\n",
       "        vertical-align: middle;\n",
       "    }\n",
       "\n",
       "    .dataframe tbody tr th {\n",
       "        vertical-align: top;\n",
       "    }\n",
       "\n",
       "    .dataframe thead th {\n",
       "        text-align: right;\n",
       "    }\n",
       "</style>\n",
       "<table border=\"1\" class=\"dataframe\">\n",
       "  <thead>\n",
       "    <tr style=\"text-align: right;\">\n",
       "      <th></th>\n",
       "      <th>Unnamed: 0</th>\n",
       "      <th>school</th>\n",
       "      <th>sex</th>\n",
       "      <th>age</th>\n",
       "      <th>address</th>\n",
       "      <th>family_size</th>\n",
       "      <th>parent_status</th>\n",
       "      <th>mothers_education</th>\n",
       "      <th>fathers_education</th>\n",
       "      <th>mothers_job</th>\n",
       "      <th>...</th>\n",
       "      <th>family_relation</th>\n",
       "      <th>freetime</th>\n",
       "      <th>out_with_friends</th>\n",
       "      <th>daily_acohol_cons</th>\n",
       "      <th>weekend_alcohol_cons</th>\n",
       "      <th>health</th>\n",
       "      <th>absences</th>\n",
       "      <th>first_grade</th>\n",
       "      <th>second_grade</th>\n",
       "      <th>final_grade</th>\n",
       "    </tr>\n",
       "  </thead>\n",
       "  <tbody>\n",
       "    <tr>\n",
       "      <td>0</td>\n",
       "      <td>0</td>\n",
       "      <td>Gabriel Pereira</td>\n",
       "      <td>Female</td>\n",
       "      <td>18</td>\n",
       "      <td>Urban</td>\n",
       "      <td>4 or more</td>\n",
       "      <td>Apart</td>\n",
       "      <td>higher</td>\n",
       "      <td>higher</td>\n",
       "      <td>at_home</td>\n",
       "      <td>...</td>\n",
       "      <td>good</td>\n",
       "      <td>normal</td>\n",
       "      <td>high</td>\n",
       "      <td>very low</td>\n",
       "      <td>very low</td>\n",
       "      <td>normal</td>\n",
       "      <td>4</td>\n",
       "      <td>0</td>\n",
       "      <td>11</td>\n",
       "      <td>11</td>\n",
       "    </tr>\n",
       "    <tr>\n",
       "      <td>1</td>\n",
       "      <td>1</td>\n",
       "      <td>Gabriel Pereira</td>\n",
       "      <td>Female</td>\n",
       "      <td>17</td>\n",
       "      <td>Urban</td>\n",
       "      <td>4 or more</td>\n",
       "      <td>Together</td>\n",
       "      <td>primary</td>\n",
       "      <td>primary</td>\n",
       "      <td>at_home</td>\n",
       "      <td>...</td>\n",
       "      <td>excellent</td>\n",
       "      <td>normal</td>\n",
       "      <td>normal</td>\n",
       "      <td>very low</td>\n",
       "      <td>very low</td>\n",
       "      <td>normal</td>\n",
       "      <td>2</td>\n",
       "      <td>9</td>\n",
       "      <td>11</td>\n",
       "      <td>11</td>\n",
       "    </tr>\n",
       "    <tr>\n",
       "      <td>2</td>\n",
       "      <td>2</td>\n",
       "      <td>Gabriel Pereira</td>\n",
       "      <td>Female</td>\n",
       "      <td>15</td>\n",
       "      <td>Urban</td>\n",
       "      <td>3 or less</td>\n",
       "      <td>Together</td>\n",
       "      <td>primary</td>\n",
       "      <td>primary</td>\n",
       "      <td>at_home</td>\n",
       "      <td>...</td>\n",
       "      <td>good</td>\n",
       "      <td>normal</td>\n",
       "      <td>low</td>\n",
       "      <td>low</td>\n",
       "      <td>normal</td>\n",
       "      <td>normal</td>\n",
       "      <td>6</td>\n",
       "      <td>12</td>\n",
       "      <td>13</td>\n",
       "      <td>12</td>\n",
       "    </tr>\n",
       "    <tr>\n",
       "      <td>3</td>\n",
       "      <td>3</td>\n",
       "      <td>Gabriel Pereira</td>\n",
       "      <td>Female</td>\n",
       "      <td>15</td>\n",
       "      <td>Urban</td>\n",
       "      <td>4 or more</td>\n",
       "      <td>Together</td>\n",
       "      <td>higher</td>\n",
       "      <td>5th - 9th</td>\n",
       "      <td>health</td>\n",
       "      <td>...</td>\n",
       "      <td>normal</td>\n",
       "      <td>low</td>\n",
       "      <td>low</td>\n",
       "      <td>very low</td>\n",
       "      <td>very low</td>\n",
       "      <td>excellent</td>\n",
       "      <td>0</td>\n",
       "      <td>14</td>\n",
       "      <td>14</td>\n",
       "      <td>14</td>\n",
       "    </tr>\n",
       "    <tr>\n",
       "      <td>4</td>\n",
       "      <td>4</td>\n",
       "      <td>Gabriel Pereira</td>\n",
       "      <td>Female</td>\n",
       "      <td>16</td>\n",
       "      <td>Urban</td>\n",
       "      <td>4 or more</td>\n",
       "      <td>Together</td>\n",
       "      <td>secondary</td>\n",
       "      <td>secondary</td>\n",
       "      <td>other</td>\n",
       "      <td>...</td>\n",
       "      <td>good</td>\n",
       "      <td>normal</td>\n",
       "      <td>low</td>\n",
       "      <td>very low</td>\n",
       "      <td>low</td>\n",
       "      <td>excellent</td>\n",
       "      <td>0</td>\n",
       "      <td>11</td>\n",
       "      <td>13</td>\n",
       "      <td>13</td>\n",
       "    </tr>\n",
       "  </tbody>\n",
       "</table>\n",
       "<p>5 rows × 34 columns</p>\n",
       "</div>"
      ],
      "text/plain": [
       "   Unnamed: 0           school     sex  age address family_size parent_status  \\\n",
       "0           0  Gabriel Pereira  Female   18   Urban   4 or more         Apart   \n",
       "1           1  Gabriel Pereira  Female   17   Urban   4 or more      Together   \n",
       "2           2  Gabriel Pereira  Female   15   Urban   3 or less      Together   \n",
       "3           3  Gabriel Pereira  Female   15   Urban   4 or more      Together   \n",
       "4           4  Gabriel Pereira  Female   16   Urban   4 or more      Together   \n",
       "\n",
       "  mothers_education fathers_education mothers_job  ... family_relation  \\\n",
       "0            higher            higher     at_home  ...            good   \n",
       "1           primary           primary     at_home  ...       excellent   \n",
       "2           primary           primary     at_home  ...            good   \n",
       "3            higher         5th - 9th      health  ...          normal   \n",
       "4         secondary         secondary       other  ...            good   \n",
       "\n",
       "  freetime out_with_friends  daily_acohol_cons  weekend_alcohol_cons  \\\n",
       "0   normal             high           very low              very low   \n",
       "1   normal           normal           very low              very low   \n",
       "2   normal              low                low                normal   \n",
       "3      low              low           very low              very low   \n",
       "4   normal              low           very low                   low   \n",
       "\n",
       "      health absences first_grade second_grade final_grade  \n",
       "0     normal        4           0           11          11  \n",
       "1     normal        2           9           11          11  \n",
       "2     normal        6          12           13          12  \n",
       "3  excellent        0          14           14          14  \n",
       "4  excellent        0          11           13          13  \n",
       "\n",
       "[5 rows x 34 columns]"
      ]
     },
     "execution_count": 3,
     "metadata": {},
     "output_type": "execute_result"
    }
   ],
   "source": [
    "student_port.head()"
   ]
  },
  {
   "cell_type": "code",
   "execution_count": 6,
   "metadata": {},
   "outputs": [
    {
     "data": {
      "text/plain": [
       "649"
      ]
     },
     "execution_count": 6,
     "metadata": {},
     "output_type": "execute_result"
    }
   ],
   "source": [
    "len(student_port[\"daily_acohol_cons\"])"
   ]
  },
  {
   "cell_type": "code",
   "execution_count": 8,
   "metadata": {},
   "outputs": [
    {
     "data": {
      "text/plain": [
       "649"
      ]
     },
     "execution_count": 8,
     "metadata": {},
     "output_type": "execute_result"
    }
   ],
   "source": [
    "len(student_port[\"weekend_alcohol_cons\"])"
   ]
  },
  {
   "cell_type": "code",
   "execution_count": 9,
   "metadata": {},
   "outputs": [
    {
     "data": {
      "text/plain": [
       "Female    383\n",
       "Male      266\n",
       "Name: sex, dtype: int64"
      ]
     },
     "execution_count": 9,
     "metadata": {},
     "output_type": "execute_result"
    }
   ],
   "source": [
    "student_port[\"sex\"].value_counts()"
   ]
  },
  {
   "cell_type": "code",
   "execution_count": null,
   "metadata": {},
   "outputs": [],
   "source": []
  }
 ],
 "metadata": {
  "kernelspec": {
   "display_name": "Python 3",
   "language": "python",
   "name": "python3"
  },
  "language_info": {
   "codemirror_mode": {
    "name": "ipython",
    "version": 3
   },
   "file_extension": ".py",
   "mimetype": "text/x-python",
   "name": "python",
   "nbconvert_exporter": "python",
   "pygments_lexer": "ipython3",
   "version": "3.7.4"
  }
 },
 "nbformat": 4,
 "nbformat_minor": 2
}
