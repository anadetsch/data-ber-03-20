{
 "cells": [
  {
   "cell_type": "code",
   "execution_count": 1,
   "metadata": {},
   "outputs": [],
   "source": [
    "import pandas as pd\n",
    "import numpy as np"
   ]
  },
  {
   "cell_type": "markdown",
   "metadata": {},
   "source": [
    "### Household debt"
   ]
  },
  {
   "cell_type": "code",
   "execution_count": 2,
   "metadata": {},
   "outputs": [
    {
     "ename": "FileNotFoundError",
     "evalue": "[Errno 2] File b'data/korea/hausehold_debt.csv' does not exist: b'data/korea/hausehold_debt.csv'",
     "output_type": "error",
     "traceback": [
      "\u001b[1;31m---------------------------------------------------------------------------\u001b[0m",
      "\u001b[1;31mFileNotFoundError\u001b[0m                         Traceback (most recent call last)",
      "\u001b[1;32m<ipython-input-2-ea13f5ca7792>\u001b[0m in \u001b[0;36m<module>\u001b[1;34m\u001b[0m\n\u001b[1;32m----> 1\u001b[1;33m \u001b[0mhouse_debt\u001b[0m \u001b[1;33m=\u001b[0m \u001b[0mpd\u001b[0m\u001b[1;33m.\u001b[0m\u001b[0mread_csv\u001b[0m\u001b[1;33m(\u001b[0m\u001b[1;34m\"data/korea/hausehold_debt.csv\"\u001b[0m\u001b[1;33m)\u001b[0m\u001b[1;33m\u001b[0m\u001b[1;33m\u001b[0m\u001b[0m\n\u001b[0m\u001b[0;32m      2\u001b[0m \u001b[1;33m\u001b[0m\u001b[0m\n\u001b[0;32m      3\u001b[0m \u001b[0mhouse_debt\u001b[0m\u001b[1;33m.\u001b[0m\u001b[0mhead\u001b[0m\u001b[1;33m(\u001b[0m\u001b[1;33m)\u001b[0m\u001b[1;33m\u001b[0m\u001b[1;33m\u001b[0m\u001b[0m\n",
      "\u001b[1;32mC:\\Anaconda\\lib\\site-packages\\pandas\\io\\parsers.py\u001b[0m in \u001b[0;36mparser_f\u001b[1;34m(filepath_or_buffer, sep, delimiter, header, names, index_col, usecols, squeeze, prefix, mangle_dupe_cols, dtype, engine, converters, true_values, false_values, skipinitialspace, skiprows, skipfooter, nrows, na_values, keep_default_na, na_filter, verbose, skip_blank_lines, parse_dates, infer_datetime_format, keep_date_col, date_parser, dayfirst, cache_dates, iterator, chunksize, compression, thousands, decimal, lineterminator, quotechar, quoting, doublequote, escapechar, comment, encoding, dialect, error_bad_lines, warn_bad_lines, delim_whitespace, low_memory, memory_map, float_precision)\u001b[0m\n\u001b[0;32m    683\u001b[0m         )\n\u001b[0;32m    684\u001b[0m \u001b[1;33m\u001b[0m\u001b[0m\n\u001b[1;32m--> 685\u001b[1;33m         \u001b[1;32mreturn\u001b[0m \u001b[0m_read\u001b[0m\u001b[1;33m(\u001b[0m\u001b[0mfilepath_or_buffer\u001b[0m\u001b[1;33m,\u001b[0m \u001b[0mkwds\u001b[0m\u001b[1;33m)\u001b[0m\u001b[1;33m\u001b[0m\u001b[1;33m\u001b[0m\u001b[0m\n\u001b[0m\u001b[0;32m    686\u001b[0m \u001b[1;33m\u001b[0m\u001b[0m\n\u001b[0;32m    687\u001b[0m     \u001b[0mparser_f\u001b[0m\u001b[1;33m.\u001b[0m\u001b[0m__name__\u001b[0m \u001b[1;33m=\u001b[0m \u001b[0mname\u001b[0m\u001b[1;33m\u001b[0m\u001b[1;33m\u001b[0m\u001b[0m\n",
      "\u001b[1;32mC:\\Anaconda\\lib\\site-packages\\pandas\\io\\parsers.py\u001b[0m in \u001b[0;36m_read\u001b[1;34m(filepath_or_buffer, kwds)\u001b[0m\n\u001b[0;32m    455\u001b[0m \u001b[1;33m\u001b[0m\u001b[0m\n\u001b[0;32m    456\u001b[0m     \u001b[1;31m# Create the parser.\u001b[0m\u001b[1;33m\u001b[0m\u001b[1;33m\u001b[0m\u001b[1;33m\u001b[0m\u001b[0m\n\u001b[1;32m--> 457\u001b[1;33m     \u001b[0mparser\u001b[0m \u001b[1;33m=\u001b[0m \u001b[0mTextFileReader\u001b[0m\u001b[1;33m(\u001b[0m\u001b[0mfp_or_buf\u001b[0m\u001b[1;33m,\u001b[0m \u001b[1;33m**\u001b[0m\u001b[0mkwds\u001b[0m\u001b[1;33m)\u001b[0m\u001b[1;33m\u001b[0m\u001b[1;33m\u001b[0m\u001b[0m\n\u001b[0m\u001b[0;32m    458\u001b[0m \u001b[1;33m\u001b[0m\u001b[0m\n\u001b[0;32m    459\u001b[0m     \u001b[1;32mif\u001b[0m \u001b[0mchunksize\u001b[0m \u001b[1;32mor\u001b[0m \u001b[0miterator\u001b[0m\u001b[1;33m:\u001b[0m\u001b[1;33m\u001b[0m\u001b[1;33m\u001b[0m\u001b[0m\n",
      "\u001b[1;32mC:\\Anaconda\\lib\\site-packages\\pandas\\io\\parsers.py\u001b[0m in \u001b[0;36m__init__\u001b[1;34m(self, f, engine, **kwds)\u001b[0m\n\u001b[0;32m    893\u001b[0m             \u001b[0mself\u001b[0m\u001b[1;33m.\u001b[0m\u001b[0moptions\u001b[0m\u001b[1;33m[\u001b[0m\u001b[1;34m\"has_index_names\"\u001b[0m\u001b[1;33m]\u001b[0m \u001b[1;33m=\u001b[0m \u001b[0mkwds\u001b[0m\u001b[1;33m[\u001b[0m\u001b[1;34m\"has_index_names\"\u001b[0m\u001b[1;33m]\u001b[0m\u001b[1;33m\u001b[0m\u001b[1;33m\u001b[0m\u001b[0m\n\u001b[0;32m    894\u001b[0m \u001b[1;33m\u001b[0m\u001b[0m\n\u001b[1;32m--> 895\u001b[1;33m         \u001b[0mself\u001b[0m\u001b[1;33m.\u001b[0m\u001b[0m_make_engine\u001b[0m\u001b[1;33m(\u001b[0m\u001b[0mself\u001b[0m\u001b[1;33m.\u001b[0m\u001b[0mengine\u001b[0m\u001b[1;33m)\u001b[0m\u001b[1;33m\u001b[0m\u001b[1;33m\u001b[0m\u001b[0m\n\u001b[0m\u001b[0;32m    896\u001b[0m \u001b[1;33m\u001b[0m\u001b[0m\n\u001b[0;32m    897\u001b[0m     \u001b[1;32mdef\u001b[0m \u001b[0mclose\u001b[0m\u001b[1;33m(\u001b[0m\u001b[0mself\u001b[0m\u001b[1;33m)\u001b[0m\u001b[1;33m:\u001b[0m\u001b[1;33m\u001b[0m\u001b[1;33m\u001b[0m\u001b[0m\n",
      "\u001b[1;32mC:\\Anaconda\\lib\\site-packages\\pandas\\io\\parsers.py\u001b[0m in \u001b[0;36m_make_engine\u001b[1;34m(self, engine)\u001b[0m\n\u001b[0;32m   1133\u001b[0m     \u001b[1;32mdef\u001b[0m \u001b[0m_make_engine\u001b[0m\u001b[1;33m(\u001b[0m\u001b[0mself\u001b[0m\u001b[1;33m,\u001b[0m \u001b[0mengine\u001b[0m\u001b[1;33m=\u001b[0m\u001b[1;34m\"c\"\u001b[0m\u001b[1;33m)\u001b[0m\u001b[1;33m:\u001b[0m\u001b[1;33m\u001b[0m\u001b[1;33m\u001b[0m\u001b[0m\n\u001b[0;32m   1134\u001b[0m         \u001b[1;32mif\u001b[0m \u001b[0mengine\u001b[0m \u001b[1;33m==\u001b[0m \u001b[1;34m\"c\"\u001b[0m\u001b[1;33m:\u001b[0m\u001b[1;33m\u001b[0m\u001b[1;33m\u001b[0m\u001b[0m\n\u001b[1;32m-> 1135\u001b[1;33m             \u001b[0mself\u001b[0m\u001b[1;33m.\u001b[0m\u001b[0m_engine\u001b[0m \u001b[1;33m=\u001b[0m \u001b[0mCParserWrapper\u001b[0m\u001b[1;33m(\u001b[0m\u001b[0mself\u001b[0m\u001b[1;33m.\u001b[0m\u001b[0mf\u001b[0m\u001b[1;33m,\u001b[0m \u001b[1;33m**\u001b[0m\u001b[0mself\u001b[0m\u001b[1;33m.\u001b[0m\u001b[0moptions\u001b[0m\u001b[1;33m)\u001b[0m\u001b[1;33m\u001b[0m\u001b[1;33m\u001b[0m\u001b[0m\n\u001b[0m\u001b[0;32m   1136\u001b[0m         \u001b[1;32melse\u001b[0m\u001b[1;33m:\u001b[0m\u001b[1;33m\u001b[0m\u001b[1;33m\u001b[0m\u001b[0m\n\u001b[0;32m   1137\u001b[0m             \u001b[1;32mif\u001b[0m \u001b[0mengine\u001b[0m \u001b[1;33m==\u001b[0m \u001b[1;34m\"python\"\u001b[0m\u001b[1;33m:\u001b[0m\u001b[1;33m\u001b[0m\u001b[1;33m\u001b[0m\u001b[0m\n",
      "\u001b[1;32mC:\\Anaconda\\lib\\site-packages\\pandas\\io\\parsers.py\u001b[0m in \u001b[0;36m__init__\u001b[1;34m(self, src, **kwds)\u001b[0m\n\u001b[0;32m   1915\u001b[0m         \u001b[0mkwds\u001b[0m\u001b[1;33m[\u001b[0m\u001b[1;34m\"usecols\"\u001b[0m\u001b[1;33m]\u001b[0m \u001b[1;33m=\u001b[0m \u001b[0mself\u001b[0m\u001b[1;33m.\u001b[0m\u001b[0musecols\u001b[0m\u001b[1;33m\u001b[0m\u001b[1;33m\u001b[0m\u001b[0m\n\u001b[0;32m   1916\u001b[0m \u001b[1;33m\u001b[0m\u001b[0m\n\u001b[1;32m-> 1917\u001b[1;33m         \u001b[0mself\u001b[0m\u001b[1;33m.\u001b[0m\u001b[0m_reader\u001b[0m \u001b[1;33m=\u001b[0m \u001b[0mparsers\u001b[0m\u001b[1;33m.\u001b[0m\u001b[0mTextReader\u001b[0m\u001b[1;33m(\u001b[0m\u001b[0msrc\u001b[0m\u001b[1;33m,\u001b[0m \u001b[1;33m**\u001b[0m\u001b[0mkwds\u001b[0m\u001b[1;33m)\u001b[0m\u001b[1;33m\u001b[0m\u001b[1;33m\u001b[0m\u001b[0m\n\u001b[0m\u001b[0;32m   1918\u001b[0m         \u001b[0mself\u001b[0m\u001b[1;33m.\u001b[0m\u001b[0munnamed_cols\u001b[0m \u001b[1;33m=\u001b[0m \u001b[0mself\u001b[0m\u001b[1;33m.\u001b[0m\u001b[0m_reader\u001b[0m\u001b[1;33m.\u001b[0m\u001b[0munnamed_cols\u001b[0m\u001b[1;33m\u001b[0m\u001b[1;33m\u001b[0m\u001b[0m\n\u001b[0;32m   1919\u001b[0m \u001b[1;33m\u001b[0m\u001b[0m\n",
      "\u001b[1;32mpandas\\_libs\\parsers.pyx\u001b[0m in \u001b[0;36mpandas._libs.parsers.TextReader.__cinit__\u001b[1;34m()\u001b[0m\n",
      "\u001b[1;32mpandas\\_libs\\parsers.pyx\u001b[0m in \u001b[0;36mpandas._libs.parsers.TextReader._setup_parser_source\u001b[1;34m()\u001b[0m\n",
      "\u001b[1;31mFileNotFoundError\u001b[0m: [Errno 2] File b'data/korea/hausehold_debt.csv' does not exist: b'data/korea/hausehold_debt.csv'"
     ]
    }
   ],
   "source": [
    "house_debt = pd.read_csv(\"data/korea/hausehold_debt.csv\")\n",
    "\n",
    "house_debt.head()"
   ]
  },
  {
   "cell_type": "code",
   "execution_count": null,
   "metadata": {},
   "outputs": [],
   "source": [
    "house_debt.isna().sum()"
   ]
  },
  {
   "cell_type": "code",
   "execution_count": 3,
   "metadata": {},
   "outputs": [
    {
     "ename": "NameError",
     "evalue": "name 'house_debt' is not defined",
     "output_type": "error",
     "traceback": [
      "\u001b[1;31m---------------------------------------------------------------------------\u001b[0m",
      "\u001b[1;31mNameError\u001b[0m                                 Traceback (most recent call last)",
      "\u001b[1;32m<ipython-input-3-5c8324c60025>\u001b[0m in \u001b[0;36m<module>\u001b[1;34m\u001b[0m\n\u001b[0;32m      1\u001b[0m \u001b[1;31m#check how many locations\u001b[0m\u001b[1;33m\u001b[0m\u001b[1;33m\u001b[0m\u001b[1;33m\u001b[0m\u001b[0m\n\u001b[0;32m      2\u001b[0m \u001b[1;33m\u001b[0m\u001b[0m\n\u001b[1;32m----> 3\u001b[1;33m \u001b[0mhouse_debt\u001b[0m\u001b[1;33m[\u001b[0m\u001b[1;34m\"LOCATION\"\u001b[0m\u001b[1;33m]\u001b[0m\u001b[1;33m.\u001b[0m\u001b[0mvalue_counts\u001b[0m\u001b[1;33m(\u001b[0m\u001b[1;33m)\u001b[0m\u001b[1;33m\u001b[0m\u001b[1;33m\u001b[0m\u001b[0m\n\u001b[0m",
      "\u001b[1;31mNameError\u001b[0m: name 'house_debt' is not defined"
     ]
    }
   ],
   "source": [
    "#check how many locations\n",
    "\n",
    "house_debt[\"LOCATION\"].value_counts()"
   ]
  },
  {
   "cell_type": "code",
   "execution_count": 4,
   "metadata": {},
   "outputs": [
    {
     "ename": "NameError",
     "evalue": "name 'house_debt' is not defined",
     "output_type": "error",
     "traceback": [
      "\u001b[1;31m---------------------------------------------------------------------------\u001b[0m",
      "\u001b[1;31mNameError\u001b[0m                                 Traceback (most recent call last)",
      "\u001b[1;32m<ipython-input-4-f67c646fb2b2>\u001b[0m in \u001b[0;36m<module>\u001b[1;34m\u001b[0m\n\u001b[0;32m      1\u001b[0m \u001b[1;31m# check if equal time for all locations\u001b[0m\u001b[1;33m\u001b[0m\u001b[1;33m\u001b[0m\u001b[1;33m\u001b[0m\u001b[0m\n\u001b[0;32m      2\u001b[0m \u001b[1;33m\u001b[0m\u001b[0m\n\u001b[1;32m----> 3\u001b[1;33m \u001b[0mhouse_debt\u001b[0m\u001b[1;33m[\u001b[0m\u001b[1;34m\"TIME\"\u001b[0m\u001b[1;33m]\u001b[0m\u001b[1;33m.\u001b[0m\u001b[0mvalue_counts\u001b[0m\u001b[1;33m(\u001b[0m\u001b[1;33m)\u001b[0m\u001b[1;33m\u001b[0m\u001b[1;33m\u001b[0m\u001b[0m\n\u001b[0m",
      "\u001b[1;31mNameError\u001b[0m: name 'house_debt' is not defined"
     ]
    }
   ],
   "source": [
    "# check if equal time for all locations\n",
    "\n",
    "house_debt[\"TIME\"].value_counts()"
   ]
  },
  {
   "cell_type": "code",
   "execution_count": 5,
   "metadata": {},
   "outputs": [
    {
     "ename": "NameError",
     "evalue": "name 'house_debt' is not defined",
     "output_type": "error",
     "traceback": [
      "\u001b[1;31m---------------------------------------------------------------------------\u001b[0m",
      "\u001b[1;31mNameError\u001b[0m                                 Traceback (most recent call last)",
      "\u001b[1;32m<ipython-input-5-5009ba90a8b6>\u001b[0m in \u001b[0;36m<module>\u001b[1;34m\u001b[0m\n\u001b[1;32m----> 1\u001b[1;33m \u001b[0mhouse_debt\u001b[0m\u001b[1;33m[\u001b[0m\u001b[1;34m\"INDICATOR\"\u001b[0m\u001b[1;33m]\u001b[0m\u001b[1;33m.\u001b[0m\u001b[0mvalue_counts\u001b[0m\u001b[1;33m(\u001b[0m\u001b[1;33m)\u001b[0m\u001b[1;33m\u001b[0m\u001b[1;33m\u001b[0m\u001b[0m\n\u001b[0m",
      "\u001b[1;31mNameError\u001b[0m: name 'house_debt' is not defined"
     ]
    }
   ],
   "source": [
    "house_debt[\"INDICATOR\"].value_counts()"
   ]
  },
  {
   "cell_type": "code",
   "execution_count": 7,
   "metadata": {},
   "outputs": [
    {
     "data": {
      "text/plain": [
       "TOT    732\n",
       "Name: SUBJECT, dtype: int64"
      ]
     },
     "execution_count": 7,
     "metadata": {},
     "output_type": "execute_result"
    }
   ],
   "source": [
    "house_debt[\"SUBJECT\"].value_counts()"
   ]
  },
  {
   "cell_type": "code",
   "execution_count": 8,
   "metadata": {},
   "outputs": [
    {
     "data": {
      "text/plain": [
       "PC_NDI    732\n",
       "Name: MEASURE, dtype: int64"
      ]
     },
     "execution_count": 8,
     "metadata": {},
     "output_type": "execute_result"
    }
   ],
   "source": [
    "house_debt[\"MEASURE\"].value_counts()"
   ]
  },
  {
   "cell_type": "code",
   "execution_count": 9,
   "metadata": {},
   "outputs": [
    {
     "data": {
      "text/plain": [
       "A    732\n",
       "Name: FREQUENCY, dtype: int64"
      ]
     },
     "execution_count": 9,
     "metadata": {},
     "output_type": "execute_result"
    }
   ],
   "source": [
    "house_debt[\"FREQUENCY\"].value_counts()"
   ]
  },
  {
   "cell_type": "code",
   "execution_count": 10,
   "metadata": {},
   "outputs": [],
   "source": [
    "# drop columns \tINDICATOR\tSUBJECT\tMEASURE\tFREQUENCY flag codes\n",
    "\n",
    "house_debt = house_debt.drop(columns = [\"Flag Codes\", \"INDICATOR\", \"SUBJECT\", \"MEASURE\", \"FREQUENCY\"])"
   ]
  },
  {
   "cell_type": "code",
   "execution_count": 11,
   "metadata": {},
   "outputs": [],
   "source": [
    "# rename columns LOCATION\tTIME\tValue\n",
    "\n",
    "house_debt = house_debt.rename(columns = {\"LOCATION\" : \"country\", \"TIME\" : \"year\", \"Value\" : \"household debt\"})"
   ]
  },
  {
   "cell_type": "markdown",
   "metadata": {},
   "source": [
    "### Household spending"
   ]
  },
  {
   "cell_type": "code",
   "execution_count": 12,
   "metadata": {},
   "outputs": [
    {
     "data": {
      "text/html": [
       "<div>\n",
       "<style scoped>\n",
       "    .dataframe tbody tr th:only-of-type {\n",
       "        vertical-align: middle;\n",
       "    }\n",
       "\n",
       "    .dataframe tbody tr th {\n",
       "        vertical-align: top;\n",
       "    }\n",
       "\n",
       "    .dataframe thead th {\n",
       "        text-align: right;\n",
       "    }\n",
       "</style>\n",
       "<table border=\"1\" class=\"dataframe\">\n",
       "  <thead>\n",
       "    <tr style=\"text-align: right;\">\n",
       "      <th></th>\n",
       "      <th>LOCATION</th>\n",
       "      <th>INDICATOR</th>\n",
       "      <th>SUBJECT</th>\n",
       "      <th>MEASURE</th>\n",
       "      <th>FREQUENCY</th>\n",
       "      <th>TIME</th>\n",
       "      <th>Value</th>\n",
       "      <th>Flag Codes</th>\n",
       "    </tr>\n",
       "  </thead>\n",
       "  <tbody>\n",
       "    <tr>\n",
       "      <td>0</td>\n",
       "      <td>AUS</td>\n",
       "      <td>HHEXP</td>\n",
       "      <td>TOT</td>\n",
       "      <td>MLN_USD</td>\n",
       "      <td>A</td>\n",
       "      <td>1960</td>\n",
       "      <td>14526.0841</td>\n",
       "      <td>NaN</td>\n",
       "    </tr>\n",
       "    <tr>\n",
       "      <td>1</td>\n",
       "      <td>AUS</td>\n",
       "      <td>HHEXP</td>\n",
       "      <td>TOT</td>\n",
       "      <td>MLN_USD</td>\n",
       "      <td>A</td>\n",
       "      <td>1961</td>\n",
       "      <td>14964.5525</td>\n",
       "      <td>NaN</td>\n",
       "    </tr>\n",
       "    <tr>\n",
       "      <td>2</td>\n",
       "      <td>AUS</td>\n",
       "      <td>HHEXP</td>\n",
       "      <td>TOT</td>\n",
       "      <td>MLN_USD</td>\n",
       "      <td>A</td>\n",
       "      <td>1962</td>\n",
       "      <td>16296.7539</td>\n",
       "      <td>NaN</td>\n",
       "    </tr>\n",
       "    <tr>\n",
       "      <td>3</td>\n",
       "      <td>AUS</td>\n",
       "      <td>HHEXP</td>\n",
       "      <td>TOT</td>\n",
       "      <td>MLN_USD</td>\n",
       "      <td>A</td>\n",
       "      <td>1963</td>\n",
       "      <td>17437.5301</td>\n",
       "      <td>NaN</td>\n",
       "    </tr>\n",
       "    <tr>\n",
       "      <td>4</td>\n",
       "      <td>AUS</td>\n",
       "      <td>HHEXP</td>\n",
       "      <td>TOT</td>\n",
       "      <td>MLN_USD</td>\n",
       "      <td>A</td>\n",
       "      <td>1964</td>\n",
       "      <td>18637.7800</td>\n",
       "      <td>NaN</td>\n",
       "    </tr>\n",
       "    <tr>\n",
       "      <td>...</td>\n",
       "      <td>...</td>\n",
       "      <td>...</td>\n",
       "      <td>...</td>\n",
       "      <td>...</td>\n",
       "      <td>...</td>\n",
       "      <td>...</td>\n",
       "      <td>...</td>\n",
       "      <td>...</td>\n",
       "    </tr>\n",
       "    <tr>\n",
       "      <td>8409</td>\n",
       "      <td>ZMB</td>\n",
       "      <td>HHEXP</td>\n",
       "      <td>TOT</td>\n",
       "      <td>MLN_USD</td>\n",
       "      <td>A</td>\n",
       "      <td>2012</td>\n",
       "      <td>25715.2984</td>\n",
       "      <td>NaN</td>\n",
       "    </tr>\n",
       "    <tr>\n",
       "      <td>8410</td>\n",
       "      <td>ZMB</td>\n",
       "      <td>HHEXP</td>\n",
       "      <td>TOT</td>\n",
       "      <td>MLN_USD</td>\n",
       "      <td>A</td>\n",
       "      <td>2013</td>\n",
       "      <td>27207.4129</td>\n",
       "      <td>NaN</td>\n",
       "    </tr>\n",
       "    <tr>\n",
       "      <td>8411</td>\n",
       "      <td>ZMB</td>\n",
       "      <td>HHEXP</td>\n",
       "      <td>TOT</td>\n",
       "      <td>MLN_USD</td>\n",
       "      <td>A</td>\n",
       "      <td>2014</td>\n",
       "      <td>29183.2200</td>\n",
       "      <td>NaN</td>\n",
       "    </tr>\n",
       "    <tr>\n",
       "      <td>8412</td>\n",
       "      <td>ZMB</td>\n",
       "      <td>HHEXP</td>\n",
       "      <td>TOT</td>\n",
       "      <td>MLN_USD</td>\n",
       "      <td>A</td>\n",
       "      <td>2015</td>\n",
       "      <td>29721.2614</td>\n",
       "      <td>NaN</td>\n",
       "    </tr>\n",
       "    <tr>\n",
       "      <td>8413</td>\n",
       "      <td>ZMB</td>\n",
       "      <td>HHEXP</td>\n",
       "      <td>TOT</td>\n",
       "      <td>MLN_USD</td>\n",
       "      <td>A</td>\n",
       "      <td>2016</td>\n",
       "      <td>31786.3475</td>\n",
       "      <td>NaN</td>\n",
       "    </tr>\n",
       "  </tbody>\n",
       "</table>\n",
       "<p>8414 rows × 8 columns</p>\n",
       "</div>"
      ],
      "text/plain": [
       "     LOCATION INDICATOR SUBJECT  MEASURE FREQUENCY  TIME       Value  \\\n",
       "0         AUS     HHEXP     TOT  MLN_USD         A  1960  14526.0841   \n",
       "1         AUS     HHEXP     TOT  MLN_USD         A  1961  14964.5525   \n",
       "2         AUS     HHEXP     TOT  MLN_USD         A  1962  16296.7539   \n",
       "3         AUS     HHEXP     TOT  MLN_USD         A  1963  17437.5301   \n",
       "4         AUS     HHEXP     TOT  MLN_USD         A  1964  18637.7800   \n",
       "...       ...       ...     ...      ...       ...   ...         ...   \n",
       "8409      ZMB     HHEXP     TOT  MLN_USD         A  2012  25715.2984   \n",
       "8410      ZMB     HHEXP     TOT  MLN_USD         A  2013  27207.4129   \n",
       "8411      ZMB     HHEXP     TOT  MLN_USD         A  2014  29183.2200   \n",
       "8412      ZMB     HHEXP     TOT  MLN_USD         A  2015  29721.2614   \n",
       "8413      ZMB     HHEXP     TOT  MLN_USD         A  2016  31786.3475   \n",
       "\n",
       "     Flag Codes  \n",
       "0           NaN  \n",
       "1           NaN  \n",
       "2           NaN  \n",
       "3           NaN  \n",
       "4           NaN  \n",
       "...         ...  \n",
       "8409        NaN  \n",
       "8410        NaN  \n",
       "8411        NaN  \n",
       "8412        NaN  \n",
       "8413        NaN  \n",
       "\n",
       "[8414 rows x 8 columns]"
      ]
     },
     "execution_count": 12,
     "metadata": {},
     "output_type": "execute_result"
    }
   ],
   "source": [
    "house_spending = pd.read_csv(\"data/korea/haushold_spending.csv\")\n",
    "\n",
    "house_spending"
   ]
  },
  {
   "cell_type": "code",
   "execution_count": 13,
   "metadata": {},
   "outputs": [
    {
     "data": {
      "text/plain": [
       "LOCATION         0\n",
       "INDICATOR        0\n",
       "SUBJECT          0\n",
       "MEASURE          0\n",
       "FREQUENCY        0\n",
       "TIME             0\n",
       "Value            0\n",
       "Flag Codes    5842\n",
       "dtype: int64"
      ]
     },
     "execution_count": 13,
     "metadata": {},
     "output_type": "execute_result"
    }
   ],
   "source": [
    "house_spending.isna().sum()"
   ]
  },
  {
   "cell_type": "code",
   "execution_count": 14,
   "metadata": {},
   "outputs": [
    {
     "data": {
      "text/plain": [
       "AUS     255\n",
       "FRA     251\n",
       "USA     243\n",
       "NOR     240\n",
       "CAN     235\n",
       "       ... \n",
       "MKD      18\n",
       "ARG      15\n",
       "ZMB      11\n",
       "PER       8\n",
       "OECD      4\n",
       "Name: LOCATION, Length: 61, dtype: int64"
      ]
     },
     "execution_count": 14,
     "metadata": {},
     "output_type": "execute_result"
    }
   ],
   "source": [
    "house_spending[\"LOCATION\"].value_counts()"
   ]
  },
  {
   "cell_type": "code",
   "execution_count": 15,
   "metadata": {},
   "outputs": [],
   "source": [
    "# house_spending[\"TIME\"].value_counts()"
   ]
  },
  {
   "cell_type": "code",
   "execution_count": 16,
   "metadata": {},
   "outputs": [],
   "source": [
    "house_spending = house_spending.drop(columns = [\"Flag Codes\", \"INDICATOR\", \"SUBJECT\", \"MEASURE\", \"FREQUENCY\"])"
   ]
  },
  {
   "cell_type": "code",
   "execution_count": 17,
   "metadata": {},
   "outputs": [],
   "source": [
    "house_spending = house_spending.rename(columns = {\"LOCATION\" : \"country\", \"TIME\" : \"year\", \"Value\" : \"household spent\"})"
   ]
  },
  {
   "cell_type": "code",
   "execution_count": 18,
   "metadata": {},
   "outputs": [
    {
     "data": {
      "text/html": [
       "<div>\n",
       "<style scoped>\n",
       "    .dataframe tbody tr th:only-of-type {\n",
       "        vertical-align: middle;\n",
       "    }\n",
       "\n",
       "    .dataframe tbody tr th {\n",
       "        vertical-align: top;\n",
       "    }\n",
       "\n",
       "    .dataframe thead th {\n",
       "        text-align: right;\n",
       "    }\n",
       "</style>\n",
       "<table border=\"1\" class=\"dataframe\">\n",
       "  <thead>\n",
       "    <tr style=\"text-align: right;\">\n",
       "      <th></th>\n",
       "      <th>country</th>\n",
       "      <th>year</th>\n",
       "      <th>household spent</th>\n",
       "    </tr>\n",
       "  </thead>\n",
       "  <tbody>\n",
       "    <tr>\n",
       "      <td>0</td>\n",
       "      <td>AUS</td>\n",
       "      <td>1960</td>\n",
       "      <td>14526.0841</td>\n",
       "    </tr>\n",
       "    <tr>\n",
       "      <td>1</td>\n",
       "      <td>AUS</td>\n",
       "      <td>1961</td>\n",
       "      <td>14964.5525</td>\n",
       "    </tr>\n",
       "    <tr>\n",
       "      <td>2</td>\n",
       "      <td>AUS</td>\n",
       "      <td>1962</td>\n",
       "      <td>16296.7539</td>\n",
       "    </tr>\n",
       "    <tr>\n",
       "      <td>3</td>\n",
       "      <td>AUS</td>\n",
       "      <td>1963</td>\n",
       "      <td>17437.5301</td>\n",
       "    </tr>\n",
       "    <tr>\n",
       "      <td>4</td>\n",
       "      <td>AUS</td>\n",
       "      <td>1964</td>\n",
       "      <td>18637.7800</td>\n",
       "    </tr>\n",
       "  </tbody>\n",
       "</table>\n",
       "</div>"
      ],
      "text/plain": [
       "  country  year  household spent\n",
       "0     AUS  1960       14526.0841\n",
       "1     AUS  1961       14964.5525\n",
       "2     AUS  1962       16296.7539\n",
       "3     AUS  1963       17437.5301\n",
       "4     AUS  1964       18637.7800"
      ]
     },
     "execution_count": 18,
     "metadata": {},
     "output_type": "execute_result"
    }
   ],
   "source": [
    "house_spending.head()"
   ]
  },
  {
   "cell_type": "markdown",
   "metadata": {},
   "source": [
    "### Poverty rate"
   ]
  },
  {
   "cell_type": "code",
   "execution_count": 19,
   "metadata": {},
   "outputs": [
    {
     "data": {
      "text/html": [
       "<div>\n",
       "<style scoped>\n",
       "    .dataframe tbody tr th:only-of-type {\n",
       "        vertical-align: middle;\n",
       "    }\n",
       "\n",
       "    .dataframe tbody tr th {\n",
       "        vertical-align: top;\n",
       "    }\n",
       "\n",
       "    .dataframe thead th {\n",
       "        text-align: right;\n",
       "    }\n",
       "</style>\n",
       "<table border=\"1\" class=\"dataframe\">\n",
       "  <thead>\n",
       "    <tr style=\"text-align: right;\">\n",
       "      <th></th>\n",
       "      <th>LOCATION</th>\n",
       "      <th>INDICATOR</th>\n",
       "      <th>SUBJECT</th>\n",
       "      <th>MEASURE</th>\n",
       "      <th>FREQUENCY</th>\n",
       "      <th>TIME</th>\n",
       "      <th>Value</th>\n",
       "      <th>Flag Codes</th>\n",
       "    </tr>\n",
       "  </thead>\n",
       "  <tbody>\n",
       "    <tr>\n",
       "      <td>0</td>\n",
       "      <td>AUS</td>\n",
       "      <td>POVERTY</td>\n",
       "      <td>0_17</td>\n",
       "      <td>RT</td>\n",
       "      <td>A</td>\n",
       "      <td>2012</td>\n",
       "      <td>0.129</td>\n",
       "      <td>NaN</td>\n",
       "    </tr>\n",
       "    <tr>\n",
       "      <td>1</td>\n",
       "      <td>AUS</td>\n",
       "      <td>POVERTY</td>\n",
       "      <td>0_17</td>\n",
       "      <td>RT</td>\n",
       "      <td>A</td>\n",
       "      <td>2014</td>\n",
       "      <td>0.130</td>\n",
       "      <td>NaN</td>\n",
       "    </tr>\n",
       "    <tr>\n",
       "      <td>2</td>\n",
       "      <td>AUS</td>\n",
       "      <td>POVERTY</td>\n",
       "      <td>0_17</td>\n",
       "      <td>RT</td>\n",
       "      <td>A</td>\n",
       "      <td>2016</td>\n",
       "      <td>0.125</td>\n",
       "      <td>NaN</td>\n",
       "    </tr>\n",
       "    <tr>\n",
       "      <td>3</td>\n",
       "      <td>AUS</td>\n",
       "      <td>POVERTY</td>\n",
       "      <td>0_17</td>\n",
       "      <td>RT</td>\n",
       "      <td>A</td>\n",
       "      <td>2018</td>\n",
       "      <td>0.133</td>\n",
       "      <td>NaN</td>\n",
       "    </tr>\n",
       "    <tr>\n",
       "      <td>4</td>\n",
       "      <td>AUS</td>\n",
       "      <td>POVERTY</td>\n",
       "      <td>TOT</td>\n",
       "      <td>RT</td>\n",
       "      <td>A</td>\n",
       "      <td>2012</td>\n",
       "      <td>0.140</td>\n",
       "      <td>NaN</td>\n",
       "    </tr>\n",
       "  </tbody>\n",
       "</table>\n",
       "</div>"
      ],
      "text/plain": [
       "  LOCATION INDICATOR SUBJECT MEASURE FREQUENCY  TIME  Value Flag Codes\n",
       "0      AUS   POVERTY    0_17      RT         A  2012  0.129        NaN\n",
       "1      AUS   POVERTY    0_17      RT         A  2014  0.130        NaN\n",
       "2      AUS   POVERTY    0_17      RT         A  2016  0.125        NaN\n",
       "3      AUS   POVERTY    0_17      RT         A  2018  0.133        NaN\n",
       "4      AUS   POVERTY     TOT      RT         A  2012  0.140        NaN"
      ]
     },
     "execution_count": 19,
     "metadata": {},
     "output_type": "execute_result"
    }
   ],
   "source": [
    "poverty = pd.read_csv(\"data/korea/poverty_rate.csv\")\n",
    "\n",
    "poverty.head()"
   ]
  },
  {
   "cell_type": "code",
   "execution_count": 20,
   "metadata": {},
   "outputs": [
    {
     "data": {
      "text/plain": [
       "LOCATION         0\n",
       "INDICATOR        0\n",
       "SUBJECT          0\n",
       "MEASURE          0\n",
       "FREQUENCY        0\n",
       "TIME             0\n",
       "Value            0\n",
       "Flag Codes    1708\n",
       "dtype: int64"
      ]
     },
     "execution_count": 20,
     "metadata": {},
     "output_type": "execute_result"
    }
   ],
   "source": [
    "poverty.isna().sum()"
   ]
  },
  {
   "cell_type": "code",
   "execution_count": 21,
   "metadata": {},
   "outputs": [],
   "source": [
    "# poverty[\"LOCATION\"].value_counts()"
   ]
  },
  {
   "cell_type": "code",
   "execution_count": 22,
   "metadata": {},
   "outputs": [
    {
     "data": {
      "text/plain": [
       "66MORE    430\n",
       "18_65     430\n",
       "TOT       430\n",
       "0_17      430\n",
       "Name: SUBJECT, dtype: int64"
      ]
     },
     "execution_count": 22,
     "metadata": {},
     "output_type": "execute_result"
    }
   ],
   "source": [
    "# in this case subject contain the age group (0_17 / 18_65 / 66MORE / TOT: Total)\n",
    "# decided to keep the age group, but change the values and column name.\n",
    "\n",
    "poverty[\"SUBJECT\"].value_counts()"
   ]
  },
  {
   "cell_type": "code",
   "execution_count": 23,
   "metadata": {},
   "outputs": [],
   "source": [
    "poverty[\"SUBJECT\"] = poverty[\"SUBJECT\"].replace({\"0_17\": \"0-17\", \"18_65\" : \"18-65\", \"66MORE\" : \"66+\", \"TOT\": \"total\"})"
   ]
  },
  {
   "cell_type": "code",
   "execution_count": 24,
   "metadata": {},
   "outputs": [
    {
     "data": {
      "text/plain": [
       "POVERTY    1720\n",
       "Name: INDICATOR, dtype: int64"
      ]
     },
     "execution_count": 24,
     "metadata": {},
     "output_type": "execute_result"
    }
   ],
   "source": [
    "poverty[\"INDICATOR\"].value_counts()"
   ]
  },
  {
   "cell_type": "code",
   "execution_count": 25,
   "metadata": {},
   "outputs": [
    {
     "data": {
      "text/plain": [
       "RT    1720\n",
       "Name: MEASURE, dtype: int64"
      ]
     },
     "execution_count": 25,
     "metadata": {},
     "output_type": "execute_result"
    }
   ],
   "source": [
    "poverty[\"MEASURE\"].value_counts()"
   ]
  },
  {
   "cell_type": "code",
   "execution_count": 26,
   "metadata": {},
   "outputs": [
    {
     "data": {
      "text/plain": [
       "A    1720\n",
       "Name: FREQUENCY, dtype: int64"
      ]
     },
     "execution_count": 26,
     "metadata": {},
     "output_type": "execute_result"
    }
   ],
   "source": [
    "poverty[\"FREQUENCY\"].value_counts()"
   ]
  },
  {
   "cell_type": "code",
   "execution_count": 27,
   "metadata": {},
   "outputs": [],
   "source": [
    "poverty = poverty.drop(columns = [\"Flag Codes\", \"INDICATOR\", \"MEASURE\", \"FREQUENCY\"])"
   ]
  },
  {
   "cell_type": "code",
   "execution_count": 28,
   "metadata": {},
   "outputs": [
    {
     "data": {
      "text/html": [
       "<div>\n",
       "<style scoped>\n",
       "    .dataframe tbody tr th:only-of-type {\n",
       "        vertical-align: middle;\n",
       "    }\n",
       "\n",
       "    .dataframe tbody tr th {\n",
       "        vertical-align: top;\n",
       "    }\n",
       "\n",
       "    .dataframe thead th {\n",
       "        text-align: right;\n",
       "    }\n",
       "</style>\n",
       "<table border=\"1\" class=\"dataframe\">\n",
       "  <thead>\n",
       "    <tr style=\"text-align: right;\">\n",
       "      <th></th>\n",
       "      <th>LOCATION</th>\n",
       "      <th>SUBJECT</th>\n",
       "      <th>TIME</th>\n",
       "      <th>Value</th>\n",
       "    </tr>\n",
       "  </thead>\n",
       "  <tbody>\n",
       "    <tr>\n",
       "      <td>0</td>\n",
       "      <td>AUS</td>\n",
       "      <td>0-17</td>\n",
       "      <td>2012</td>\n",
       "      <td>0.129</td>\n",
       "    </tr>\n",
       "    <tr>\n",
       "      <td>1</td>\n",
       "      <td>AUS</td>\n",
       "      <td>0-17</td>\n",
       "      <td>2014</td>\n",
       "      <td>0.130</td>\n",
       "    </tr>\n",
       "    <tr>\n",
       "      <td>2</td>\n",
       "      <td>AUS</td>\n",
       "      <td>0-17</td>\n",
       "      <td>2016</td>\n",
       "      <td>0.125</td>\n",
       "    </tr>\n",
       "    <tr>\n",
       "      <td>3</td>\n",
       "      <td>AUS</td>\n",
       "      <td>0-17</td>\n",
       "      <td>2018</td>\n",
       "      <td>0.133</td>\n",
       "    </tr>\n",
       "    <tr>\n",
       "      <td>4</td>\n",
       "      <td>AUS</td>\n",
       "      <td>total</td>\n",
       "      <td>2012</td>\n",
       "      <td>0.140</td>\n",
       "    </tr>\n",
       "  </tbody>\n",
       "</table>\n",
       "</div>"
      ],
      "text/plain": [
       "  LOCATION SUBJECT  TIME  Value\n",
       "0      AUS    0-17  2012  0.129\n",
       "1      AUS    0-17  2014  0.130\n",
       "2      AUS    0-17  2016  0.125\n",
       "3      AUS    0-17  2018  0.133\n",
       "4      AUS   total  2012  0.140"
      ]
     },
     "execution_count": 28,
     "metadata": {},
     "output_type": "execute_result"
    }
   ],
   "source": [
    "poverty.head()"
   ]
  },
  {
   "cell_type": "code",
   "execution_count": 29,
   "metadata": {},
   "outputs": [],
   "source": [
    "poverty = poverty.rename(columns = {\"LOCATION\" : \"country\", \"TIME\" : \"year\", \"Value\" : \"poverty rate\", \"SUBJECT\": \"age group\"})"
   ]
  },
  {
   "cell_type": "markdown",
   "metadata": {},
   "source": [
    "### Internet access\n",
    "\n",
    "\n",
    "Percentages of households who has internet access"
   ]
  },
  {
   "cell_type": "code",
   "execution_count": 30,
   "metadata": {},
   "outputs": [],
   "source": [
    "int_access = pd.read_csv(\"data/korea/internet_access.csv\")"
   ]
  },
  {
   "cell_type": "code",
   "execution_count": 31,
   "metadata": {},
   "outputs": [
    {
     "data": {
      "text/html": [
       "<div>\n",
       "<style scoped>\n",
       "    .dataframe tbody tr th:only-of-type {\n",
       "        vertical-align: middle;\n",
       "    }\n",
       "\n",
       "    .dataframe tbody tr th {\n",
       "        vertical-align: top;\n",
       "    }\n",
       "\n",
       "    .dataframe thead th {\n",
       "        text-align: right;\n",
       "    }\n",
       "</style>\n",
       "<table border=\"1\" class=\"dataframe\">\n",
       "  <thead>\n",
       "    <tr style=\"text-align: right;\">\n",
       "      <th></th>\n",
       "      <th>LOCATION</th>\n",
       "      <th>INDICATOR</th>\n",
       "      <th>SUBJECT</th>\n",
       "      <th>MEASURE</th>\n",
       "      <th>FREQUENCY</th>\n",
       "      <th>TIME</th>\n",
       "      <th>Value</th>\n",
       "      <th>Flag Codes</th>\n",
       "    </tr>\n",
       "  </thead>\n",
       "  <tbody>\n",
       "    <tr>\n",
       "      <td>0</td>\n",
       "      <td>BEL</td>\n",
       "      <td>INTERNET</td>\n",
       "      <td>TOT</td>\n",
       "      <td>PC_HH</td>\n",
       "      <td>A</td>\n",
       "      <td>2005</td>\n",
       "      <td>50.1575</td>\n",
       "      <td>NaN</td>\n",
       "    </tr>\n",
       "    <tr>\n",
       "      <td>1</td>\n",
       "      <td>BEL</td>\n",
       "      <td>INTERNET</td>\n",
       "      <td>TOT</td>\n",
       "      <td>PC_HH</td>\n",
       "      <td>A</td>\n",
       "      <td>2006</td>\n",
       "      <td>53.9597</td>\n",
       "      <td>NaN</td>\n",
       "    </tr>\n",
       "    <tr>\n",
       "      <td>2</td>\n",
       "      <td>BEL</td>\n",
       "      <td>INTERNET</td>\n",
       "      <td>TOT</td>\n",
       "      <td>PC_HH</td>\n",
       "      <td>A</td>\n",
       "      <td>2007</td>\n",
       "      <td>60.1640</td>\n",
       "      <td>NaN</td>\n",
       "    </tr>\n",
       "    <tr>\n",
       "      <td>3</td>\n",
       "      <td>BEL</td>\n",
       "      <td>INTERNET</td>\n",
       "      <td>TOT</td>\n",
       "      <td>PC_HH</td>\n",
       "      <td>A</td>\n",
       "      <td>2008</td>\n",
       "      <td>63.6276</td>\n",
       "      <td>NaN</td>\n",
       "    </tr>\n",
       "    <tr>\n",
       "      <td>4</td>\n",
       "      <td>BEL</td>\n",
       "      <td>INTERNET</td>\n",
       "      <td>TOT</td>\n",
       "      <td>PC_HH</td>\n",
       "      <td>A</td>\n",
       "      <td>2009</td>\n",
       "      <td>67.4352</td>\n",
       "      <td>NaN</td>\n",
       "    </tr>\n",
       "  </tbody>\n",
       "</table>\n",
       "</div>"
      ],
      "text/plain": [
       "  LOCATION INDICATOR SUBJECT MEASURE FREQUENCY  TIME    Value Flag Codes\n",
       "0      BEL  INTERNET     TOT   PC_HH         A  2005  50.1575        NaN\n",
       "1      BEL  INTERNET     TOT   PC_HH         A  2006  53.9597        NaN\n",
       "2      BEL  INTERNET     TOT   PC_HH         A  2007  60.1640        NaN\n",
       "3      BEL  INTERNET     TOT   PC_HH         A  2008  63.6276        NaN\n",
       "4      BEL  INTERNET     TOT   PC_HH         A  2009  67.4352        NaN"
      ]
     },
     "execution_count": 31,
     "metadata": {},
     "output_type": "execute_result"
    }
   ],
   "source": [
    "int_access.head()"
   ]
  },
  {
   "cell_type": "code",
   "execution_count": 32,
   "metadata": {},
   "outputs": [],
   "source": [
    "# int_access[\"LOCATION\"].value_counts()"
   ]
  },
  {
   "cell_type": "code",
   "execution_count": 33,
   "metadata": {},
   "outputs": [
    {
     "data": {
      "text/plain": [
       "LOCATION        0\n",
       "INDICATOR       0\n",
       "SUBJECT         0\n",
       "MEASURE         0\n",
       "FREQUENCY       0\n",
       "TIME            0\n",
       "Value           0\n",
       "Flag Codes    456\n",
       "dtype: int64"
      ]
     },
     "execution_count": 33,
     "metadata": {},
     "output_type": "execute_result"
    }
   ],
   "source": [
    "int_access.isna().sum()"
   ]
  },
  {
   "cell_type": "code",
   "execution_count": 34,
   "metadata": {},
   "outputs": [
    {
     "data": {
      "text/plain": [
       "INTERNET    476\n",
       "Name: INDICATOR, dtype: int64"
      ]
     },
     "execution_count": 34,
     "metadata": {},
     "output_type": "execute_result"
    }
   ],
   "source": [
    "int_access[\"INDICATOR\"].value_counts()"
   ]
  },
  {
   "cell_type": "code",
   "execution_count": 35,
   "metadata": {},
   "outputs": [
    {
     "data": {
      "text/plain": [
       "TOT    476\n",
       "Name: SUBJECT, dtype: int64"
      ]
     },
     "execution_count": 35,
     "metadata": {},
     "output_type": "execute_result"
    }
   ],
   "source": [
    "int_access[\"SUBJECT\"].value_counts()"
   ]
  },
  {
   "cell_type": "code",
   "execution_count": 36,
   "metadata": {},
   "outputs": [
    {
     "data": {
      "text/plain": [
       "PC_HH    476\n",
       "Name: MEASURE, dtype: int64"
      ]
     },
     "execution_count": 36,
     "metadata": {},
     "output_type": "execute_result"
    }
   ],
   "source": [
    "int_access[\"MEASURE\"].value_counts()"
   ]
  },
  {
   "cell_type": "code",
   "execution_count": 37,
   "metadata": {},
   "outputs": [
    {
     "data": {
      "text/plain": [
       "A    476\n",
       "Name: FREQUENCY, dtype: int64"
      ]
     },
     "execution_count": 37,
     "metadata": {},
     "output_type": "execute_result"
    }
   ],
   "source": [
    "int_access[\"FREQUENCY\"].value_counts()"
   ]
  },
  {
   "cell_type": "code",
   "execution_count": 38,
   "metadata": {},
   "outputs": [],
   "source": [
    "int_access = int_access.drop(columns = [\"INDICATOR\", \"SUBJECT\", \"MEASURE\", \"FREQUENCY\", \"Flag Codes\"])"
   ]
  },
  {
   "cell_type": "code",
   "execution_count": 39,
   "metadata": {},
   "outputs": [],
   "source": [
    "int_access = int_access.rename(columns = {\"LOCATION\" : \"country\", \"TIME\" : \"year\", \"Value\" : \"internet access\"})"
   ]
  },
  {
   "cell_type": "code",
   "execution_count": null,
   "metadata": {},
   "outputs": [],
   "source": []
  },
  {
   "cell_type": "markdown",
   "metadata": {},
   "source": [
    "### Labour compensation per hour"
   ]
  },
  {
   "cell_type": "code",
   "execution_count": 40,
   "metadata": {},
   "outputs": [
    {
     "data": {
      "text/html": [
       "<div>\n",
       "<style scoped>\n",
       "    .dataframe tbody tr th:only-of-type {\n",
       "        vertical-align: middle;\n",
       "    }\n",
       "\n",
       "    .dataframe tbody tr th {\n",
       "        vertical-align: top;\n",
       "    }\n",
       "\n",
       "    .dataframe thead th {\n",
       "        text-align: right;\n",
       "    }\n",
       "</style>\n",
       "<table border=\"1\" class=\"dataframe\">\n",
       "  <thead>\n",
       "    <tr style=\"text-align: right;\">\n",
       "      <th></th>\n",
       "      <th>LOCATION</th>\n",
       "      <th>INDICATOR</th>\n",
       "      <th>SUBJECT</th>\n",
       "      <th>MEASURE</th>\n",
       "      <th>FREQUENCY</th>\n",
       "      <th>TIME</th>\n",
       "      <th>Value</th>\n",
       "      <th>Flag Codes</th>\n",
       "    </tr>\n",
       "  </thead>\n",
       "  <tbody>\n",
       "    <tr>\n",
       "      <td>0</td>\n",
       "      <td>AUS</td>\n",
       "      <td>LABCOMP</td>\n",
       "      <td>TOT</td>\n",
       "      <td>AGRWTH</td>\n",
       "      <td>A</td>\n",
       "      <td>1986</td>\n",
       "      <td>5.168118</td>\n",
       "      <td>NaN</td>\n",
       "    </tr>\n",
       "    <tr>\n",
       "      <td>1</td>\n",
       "      <td>AUS</td>\n",
       "      <td>LABCOMP</td>\n",
       "      <td>TOT</td>\n",
       "      <td>AGRWTH</td>\n",
       "      <td>A</td>\n",
       "      <td>1987</td>\n",
       "      <td>5.915590</td>\n",
       "      <td>NaN</td>\n",
       "    </tr>\n",
       "    <tr>\n",
       "      <td>2</td>\n",
       "      <td>AUS</td>\n",
       "      <td>LABCOMP</td>\n",
       "      <td>TOT</td>\n",
       "      <td>AGRWTH</td>\n",
       "      <td>A</td>\n",
       "      <td>1988</td>\n",
       "      <td>7.255069</td>\n",
       "      <td>NaN</td>\n",
       "    </tr>\n",
       "    <tr>\n",
       "      <td>3</td>\n",
       "      <td>AUS</td>\n",
       "      <td>LABCOMP</td>\n",
       "      <td>TOT</td>\n",
       "      <td>AGRWTH</td>\n",
       "      <td>A</td>\n",
       "      <td>1989</td>\n",
       "      <td>5.978699</td>\n",
       "      <td>NaN</td>\n",
       "    </tr>\n",
       "    <tr>\n",
       "      <td>4</td>\n",
       "      <td>AUS</td>\n",
       "      <td>LABCOMP</td>\n",
       "      <td>TOT</td>\n",
       "      <td>AGRWTH</td>\n",
       "      <td>A</td>\n",
       "      <td>1990</td>\n",
       "      <td>6.079849</td>\n",
       "      <td>NaN</td>\n",
       "    </tr>\n",
       "  </tbody>\n",
       "</table>\n",
       "</div>"
      ],
      "text/plain": [
       "  LOCATION INDICATOR SUBJECT MEASURE FREQUENCY  TIME     Value  Flag Codes\n",
       "0      AUS   LABCOMP     TOT  AGRWTH         A  1986  5.168118         NaN\n",
       "1      AUS   LABCOMP     TOT  AGRWTH         A  1987  5.915590         NaN\n",
       "2      AUS   LABCOMP     TOT  AGRWTH         A  1988  7.255069         NaN\n",
       "3      AUS   LABCOMP     TOT  AGRWTH         A  1989  5.978699         NaN\n",
       "4      AUS   LABCOMP     TOT  AGRWTH         A  1990  6.079849         NaN"
      ]
     },
     "execution_count": 40,
     "metadata": {},
     "output_type": "execute_result"
    }
   ],
   "source": [
    "lab_hour = pd.read_csv(\"data/korea/labour_compensation_per_hour.csv\")\n",
    "\n",
    "lab_hour.head()"
   ]
  },
  {
   "cell_type": "code",
   "execution_count": 41,
   "metadata": {},
   "outputs": [],
   "source": [
    "# lab_hour[\"LOCATION\"].value_counts()"
   ]
  },
  {
   "cell_type": "code",
   "execution_count": 42,
   "metadata": {},
   "outputs": [
    {
     "data": {
      "text/plain": [
       "LABCOMP    2323\n",
       "Name: INDICATOR, dtype: int64"
      ]
     },
     "execution_count": 42,
     "metadata": {},
     "output_type": "execute_result"
    }
   ],
   "source": [
    "lab_hour[\"INDICATOR\"].value_counts()\n"
   ]
  },
  {
   "cell_type": "code",
   "execution_count": 43,
   "metadata": {},
   "outputs": [
    {
     "data": {
      "text/plain": [
       "TOT    2323\n",
       "Name: SUBJECT, dtype: int64"
      ]
     },
     "execution_count": 43,
     "metadata": {},
     "output_type": "execute_result"
    }
   ],
   "source": [
    "lab_hour[\"SUBJECT\"].value_counts()"
   ]
  },
  {
   "cell_type": "code",
   "execution_count": 44,
   "metadata": {},
   "outputs": [
    {
     "data": {
      "text/plain": [
       "IDX2010    1183\n",
       "AGRWTH     1140\n",
       "Name: MEASURE, dtype: int64"
      ]
     },
     "execution_count": 44,
     "metadata": {},
     "output_type": "execute_result"
    }
   ],
   "source": [
    "lab_hour[\"MEASURE\"].value_counts()"
   ]
  },
  {
   "cell_type": "code",
   "execution_count": 45,
   "metadata": {},
   "outputs": [
    {
     "data": {
      "text/plain": [
       "A    2323\n",
       "Name: FREQUENCY, dtype: int64"
      ]
     },
     "execution_count": 45,
     "metadata": {},
     "output_type": "execute_result"
    }
   ],
   "source": [
    "lab_hour[\"FREQUENCY\"].value_counts()"
   ]
  },
  {
   "cell_type": "code",
   "execution_count": 46,
   "metadata": {},
   "outputs": [],
   "source": [
    "lab_hour = lab_hour.drop(columns = [\"INDICATOR\", \"SUBJECT\", \"MEASURE\", \"FREQUENCY\", \"Flag Codes\"])"
   ]
  },
  {
   "cell_type": "code",
   "execution_count": 47,
   "metadata": {},
   "outputs": [],
   "source": [
    "lab_hour = lab_hour.rename(columns = {\"LOCATION\" : \"country\", \"TIME\" : \"year\", \"Value\" : \"labour comp per hour\"})"
   ]
  },
  {
   "cell_type": "code",
   "execution_count": null,
   "metadata": {},
   "outputs": [],
   "source": []
  },
  {
   "cell_type": "markdown",
   "metadata": {},
   "source": [
    "### Unenployment Rate"
   ]
  },
  {
   "cell_type": "code",
   "execution_count": 48,
   "metadata": {},
   "outputs": [
    {
     "data": {
      "text/html": [
       "<div>\n",
       "<style scoped>\n",
       "    .dataframe tbody tr th:only-of-type {\n",
       "        vertical-align: middle;\n",
       "    }\n",
       "\n",
       "    .dataframe tbody tr th {\n",
       "        vertical-align: top;\n",
       "    }\n",
       "\n",
       "    .dataframe thead th {\n",
       "        text-align: right;\n",
       "    }\n",
       "</style>\n",
       "<table border=\"1\" class=\"dataframe\">\n",
       "  <thead>\n",
       "    <tr style=\"text-align: right;\">\n",
       "      <th></th>\n",
       "      <th>LOCATION</th>\n",
       "      <th>INDICATOR</th>\n",
       "      <th>SUBJECT</th>\n",
       "      <th>MEASURE</th>\n",
       "      <th>FREQUENCY</th>\n",
       "      <th>TIME</th>\n",
       "      <th>Value</th>\n",
       "      <th>Flag Codes</th>\n",
       "    </tr>\n",
       "  </thead>\n",
       "  <tbody>\n",
       "    <tr>\n",
       "      <td>0</td>\n",
       "      <td>AUS</td>\n",
       "      <td>UNEMP</td>\n",
       "      <td>MEN</td>\n",
       "      <td>PC_LF</td>\n",
       "      <td>A</td>\n",
       "      <td>1979</td>\n",
       "      <td>5.162579</td>\n",
       "      <td>NaN</td>\n",
       "    </tr>\n",
       "    <tr>\n",
       "      <td>1</td>\n",
       "      <td>AUS</td>\n",
       "      <td>UNEMP</td>\n",
       "      <td>MEN</td>\n",
       "      <td>PC_LF</td>\n",
       "      <td>A</td>\n",
       "      <td>1980</td>\n",
       "      <td>5.068766</td>\n",
       "      <td>NaN</td>\n",
       "    </tr>\n",
       "    <tr>\n",
       "      <td>2</td>\n",
       "      <td>AUS</td>\n",
       "      <td>UNEMP</td>\n",
       "      <td>MEN</td>\n",
       "      <td>PC_LF</td>\n",
       "      <td>A</td>\n",
       "      <td>1981</td>\n",
       "      <td>4.808415</td>\n",
       "      <td>NaN</td>\n",
       "    </tr>\n",
       "    <tr>\n",
       "      <td>3</td>\n",
       "      <td>AUS</td>\n",
       "      <td>UNEMP</td>\n",
       "      <td>MEN</td>\n",
       "      <td>PC_LF</td>\n",
       "      <td>A</td>\n",
       "      <td>1982</td>\n",
       "      <td>6.345981</td>\n",
       "      <td>NaN</td>\n",
       "    </tr>\n",
       "    <tr>\n",
       "      <td>4</td>\n",
       "      <td>AUS</td>\n",
       "      <td>UNEMP</td>\n",
       "      <td>MEN</td>\n",
       "      <td>PC_LF</td>\n",
       "      <td>A</td>\n",
       "      <td>1983</td>\n",
       "      <td>9.716337</td>\n",
       "      <td>NaN</td>\n",
       "    </tr>\n",
       "  </tbody>\n",
       "</table>\n",
       "</div>"
      ],
      "text/plain": [
       "  LOCATION INDICATOR SUBJECT MEASURE FREQUENCY  TIME     Value Flag Codes\n",
       "0      AUS     UNEMP     MEN   PC_LF         A  1979  5.162579        NaN\n",
       "1      AUS     UNEMP     MEN   PC_LF         A  1980  5.068766        NaN\n",
       "2      AUS     UNEMP     MEN   PC_LF         A  1981  4.808415        NaN\n",
       "3      AUS     UNEMP     MEN   PC_LF         A  1982  6.345981        NaN\n",
       "4      AUS     UNEMP     MEN   PC_LF         A  1983  9.716337        NaN"
      ]
     },
     "execution_count": 48,
     "metadata": {},
     "output_type": "execute_result"
    }
   ],
   "source": [
    "unemp_rate = pd.read_csv(\"data/korea/unemployment_rate.csv\")\n",
    "\n",
    "unemp_rate.head()"
   ]
  },
  {
   "cell_type": "code",
   "execution_count": 49,
   "metadata": {},
   "outputs": [
    {
     "data": {
      "text/plain": [
       "LOCATION          0\n",
       "INDICATOR         0\n",
       "SUBJECT           0\n",
       "MEASURE           0\n",
       "FREQUENCY         0\n",
       "TIME              0\n",
       "Value             0\n",
       "Flag Codes    28995\n",
       "dtype: int64"
      ]
     },
     "execution_count": 49,
     "metadata": {},
     "output_type": "execute_result"
    }
   ],
   "source": [
    "unemp_rate.isna().sum()"
   ]
  },
  {
   "cell_type": "code",
   "execution_count": 50,
   "metadata": {},
   "outputs": [],
   "source": [
    "# unemp_rate[\"LOCATION\"].value_counts()"
   ]
  },
  {
   "cell_type": "code",
   "execution_count": 51,
   "metadata": {},
   "outputs": [
    {
     "data": {
      "text/plain": [
       "UNEMP    29501\n",
       "Name: INDICATOR, dtype: int64"
      ]
     },
     "execution_count": 51,
     "metadata": {},
     "output_type": "execute_result"
    }
   ],
   "source": [
    "unemp_rate[\"INDICATOR\"].value_counts()"
   ]
  },
  {
   "cell_type": "code",
   "execution_count": 52,
   "metadata": {},
   "outputs": [
    {
     "data": {
      "text/plain": [
       "TOT      10460\n",
       "MEN       9525\n",
       "WOMEN     9516\n",
       "Name: SUBJECT, dtype: int64"
      ]
     },
     "execution_count": 52,
     "metadata": {},
     "output_type": "execute_result"
    }
   ],
   "source": [
    "unemp_rate[\"SUBJECT\"].value_counts()"
   ]
  },
  {
   "cell_type": "code",
   "execution_count": 53,
   "metadata": {},
   "outputs": [
    {
     "data": {
      "text/plain": [
       "PC_LF    29501\n",
       "Name: MEASURE, dtype: int64"
      ]
     },
     "execution_count": 53,
     "metadata": {},
     "output_type": "execute_result"
    }
   ],
   "source": [
    "unemp_rate[\"MEASURE\"].value_counts()"
   ]
  },
  {
   "cell_type": "code",
   "execution_count": 54,
   "metadata": {},
   "outputs": [
    {
     "data": {
      "text/plain": [
       "Q    13457\n",
       "M    12614\n",
       "A     3430\n",
       "Name: FREQUENCY, dtype: int64"
      ]
     },
     "execution_count": 54,
     "metadata": {},
     "output_type": "execute_result"
    }
   ],
   "source": [
    "unemp_rate[\"FREQUENCY\"].value_counts()"
   ]
  },
  {
   "cell_type": "code",
   "execution_count": 55,
   "metadata": {},
   "outputs": [
    {
     "data": {
      "text/plain": [
       "A    3430\n",
       "Name: FREQUENCY, dtype: int64"
      ]
     },
     "execution_count": 55,
     "metadata": {},
     "output_type": "execute_result"
    }
   ],
   "source": [
    "# droping extra rows for frequency and keeping just anual values\n",
    "\n",
    "unemp_rate = unemp_rate.drop(unemp_rate[(unemp_rate.FREQUENCY == \"M\")].index)\n",
    "\n",
    "unemp_rate = unemp_rate.drop(unemp_rate[unemp_rate.FREQUENCY == \"Q\"].index)\n",
    "unemp_rate[\"FREQUENCY\"].value_counts()"
   ]
  },
  {
   "cell_type": "code",
   "execution_count": 56,
   "metadata": {},
   "outputs": [],
   "source": [
    "#dropping extra rows for subject and keeping just total\n",
    "\n",
    "unemp_rate = unemp_rate.drop(unemp_rate[(unemp_rate.SUBJECT == \"MEN\")].index)\n",
    "\n",
    "unemp_rate = unemp_rate.drop(unemp_rate[unemp_rate.SUBJECT == \"WOMEN\"].index)"
   ]
  },
  {
   "cell_type": "code",
   "execution_count": 57,
   "metadata": {},
   "outputs": [
    {
     "data": {
      "text/plain": [
       "TOT    1213\n",
       "Name: SUBJECT, dtype: int64"
      ]
     },
     "execution_count": 57,
     "metadata": {},
     "output_type": "execute_result"
    }
   ],
   "source": [
    "unemp_rate[\"SUBJECT\"].value_counts()"
   ]
  },
  {
   "cell_type": "code",
   "execution_count": 58,
   "metadata": {},
   "outputs": [],
   "source": [
    "unemp_rate = unemp_rate.drop(columns = [\"INDICATOR\", \"SUBJECT\", \"MEASURE\", \"FREQUENCY\", \"Flag Codes\"])\n"
   ]
  },
  {
   "cell_type": "code",
   "execution_count": 59,
   "metadata": {},
   "outputs": [],
   "source": [
    "unemp_rate = unemp_rate.rename(columns = {\"LOCATION\" : \"country\", \"TIME\" : \"year\", \"Value\" : \"unemployment rate\"})"
   ]
  },
  {
   "cell_type": "code",
   "execution_count": 60,
   "metadata": {},
   "outputs": [
    {
     "data": {
      "text/html": [
       "<div>\n",
       "<style scoped>\n",
       "    .dataframe tbody tr th:only-of-type {\n",
       "        vertical-align: middle;\n",
       "    }\n",
       "\n",
       "    .dataframe tbody tr th {\n",
       "        vertical-align: top;\n",
       "    }\n",
       "\n",
       "    .dataframe thead th {\n",
       "        text-align: right;\n",
       "    }\n",
       "</style>\n",
       "<table border=\"1\" class=\"dataframe\">\n",
       "  <thead>\n",
       "    <tr style=\"text-align: right;\">\n",
       "      <th></th>\n",
       "      <th>country</th>\n",
       "      <th>year</th>\n",
       "      <th>unemployment rate</th>\n",
       "    </tr>\n",
       "  </thead>\n",
       "  <tbody>\n",
       "    <tr>\n",
       "      <td>0</td>\n",
       "      <td>AUS</td>\n",
       "      <td>1967</td>\n",
       "      <td>1.875000</td>\n",
       "    </tr>\n",
       "    <tr>\n",
       "      <td>1</td>\n",
       "      <td>AUS</td>\n",
       "      <td>1968</td>\n",
       "      <td>1.850000</td>\n",
       "    </tr>\n",
       "    <tr>\n",
       "      <td>2</td>\n",
       "      <td>AUS</td>\n",
       "      <td>1969</td>\n",
       "      <td>1.800000</td>\n",
       "    </tr>\n",
       "    <tr>\n",
       "      <td>3</td>\n",
       "      <td>AUS</td>\n",
       "      <td>1970</td>\n",
       "      <td>1.625000</td>\n",
       "    </tr>\n",
       "    <tr>\n",
       "      <td>4</td>\n",
       "      <td>AUS</td>\n",
       "      <td>1971</td>\n",
       "      <td>1.925000</td>\n",
       "    </tr>\n",
       "    <tr>\n",
       "      <td>...</td>\n",
       "      <td>...</td>\n",
       "      <td>...</td>\n",
       "      <td>...</td>\n",
       "    </tr>\n",
       "    <tr>\n",
       "      <td>1208</td>\n",
       "      <td>LTU</td>\n",
       "      <td>2015</td>\n",
       "      <td>9.119895</td>\n",
       "    </tr>\n",
       "    <tr>\n",
       "      <td>1209</td>\n",
       "      <td>LTU</td>\n",
       "      <td>2016</td>\n",
       "      <td>7.860914</td>\n",
       "    </tr>\n",
       "    <tr>\n",
       "      <td>1210</td>\n",
       "      <td>LTU</td>\n",
       "      <td>2017</td>\n",
       "      <td>7.071820</td>\n",
       "    </tr>\n",
       "    <tr>\n",
       "      <td>1211</td>\n",
       "      <td>LTU</td>\n",
       "      <td>2018</td>\n",
       "      <td>6.152077</td>\n",
       "    </tr>\n",
       "    <tr>\n",
       "      <td>1212</td>\n",
       "      <td>LTU</td>\n",
       "      <td>2019</td>\n",
       "      <td>6.255139</td>\n",
       "    </tr>\n",
       "  </tbody>\n",
       "</table>\n",
       "<p>1213 rows × 3 columns</p>\n",
       "</div>"
      ],
      "text/plain": [
       "     country  year  unemployment rate\n",
       "0        AUS  1967           1.875000\n",
       "1        AUS  1968           1.850000\n",
       "2        AUS  1969           1.800000\n",
       "3        AUS  1970           1.625000\n",
       "4        AUS  1971           1.925000\n",
       "...      ...   ...                ...\n",
       "1208     LTU  2015           9.119895\n",
       "1209     LTU  2016           7.860914\n",
       "1210     LTU  2017           7.071820\n",
       "1211     LTU  2018           6.152077\n",
       "1212     LTU  2019           6.255139\n",
       "\n",
       "[1213 rows x 3 columns]"
      ]
     },
     "execution_count": 60,
     "metadata": {},
     "output_type": "execute_result"
    }
   ],
   "source": [
    "unemp_rate.reset_index(drop = True)"
   ]
  },
  {
   "cell_type": "code",
   "execution_count": 61,
   "metadata": {},
   "outputs": [
    {
     "data": {
      "text/plain": [
       "country               object\n",
       "year                  object\n",
       "unemployment rate    float64\n",
       "dtype: object"
      ]
     },
     "execution_count": 61,
     "metadata": {},
     "output_type": "execute_result"
    }
   ],
   "source": [
    "unemp_rate.dtypes"
   ]
  },
  {
   "cell_type": "code",
   "execution_count": 62,
   "metadata": {},
   "outputs": [],
   "source": [
    "unemp_rate[\"year\"] = unemp_rate[\"year\"].astype(int)"
   ]
  },
  {
   "cell_type": "code",
   "execution_count": 63,
   "metadata": {},
   "outputs": [
    {
     "data": {
      "text/plain": [
       "country               object\n",
       "year                   int32\n",
       "unemployment rate    float64\n",
       "dtype: object"
      ]
     },
     "execution_count": 63,
     "metadata": {},
     "output_type": "execute_result"
    }
   ],
   "source": [
    "unemp_rate.dtypes"
   ]
  },
  {
   "cell_type": "code",
   "execution_count": 64,
   "metadata": {},
   "outputs": [],
   "source": [
    "house_debt = house_debt.merge(lab_hour, how = 'left',  on = [\"country\", \"year\"]).reset_index(drop = True)"
   ]
  },
  {
   "cell_type": "code",
   "execution_count": 65,
   "metadata": {},
   "outputs": [],
   "source": [
    "house_debt = house_debt.merge(poverty, how = 'left', on= [\"country\", \"year\"]).reset_index(drop = True)"
   ]
  },
  {
   "cell_type": "code",
   "execution_count": 66,
   "metadata": {},
   "outputs": [
    {
     "data": {
      "text/plain": [
       "country                   0\n",
       "year                      0\n",
       "household debt            0\n",
       "labour comp per hour     69\n",
       "age group               754\n",
       "poverty rate            754\n",
       "dtype: int64"
      ]
     },
     "execution_count": 66,
     "metadata": {},
     "output_type": "execute_result"
    }
   ],
   "source": [
    "house_debt.isna().sum()"
   ]
  },
  {
   "cell_type": "code",
   "execution_count": 67,
   "metadata": {},
   "outputs": [],
   "source": [
    "house_debt = house_debt.merge(int_access, how = 'left', on= [\"country\", \"year\"]).reset_index(drop = True)"
   ]
  },
  {
   "cell_type": "code",
   "execution_count": 68,
   "metadata": {},
   "outputs": [
    {
     "data": {
      "text/html": [
       "<div>\n",
       "<style scoped>\n",
       "    .dataframe tbody tr th:only-of-type {\n",
       "        vertical-align: middle;\n",
       "    }\n",
       "\n",
       "    .dataframe tbody tr th {\n",
       "        vertical-align: top;\n",
       "    }\n",
       "\n",
       "    .dataframe thead th {\n",
       "        text-align: right;\n",
       "    }\n",
       "</style>\n",
       "<table border=\"1\" class=\"dataframe\">\n",
       "  <thead>\n",
       "    <tr style=\"text-align: right;\">\n",
       "      <th></th>\n",
       "      <th>country</th>\n",
       "      <th>year</th>\n",
       "      <th>household debt</th>\n",
       "      <th>labour comp per hour</th>\n",
       "      <th>age group</th>\n",
       "      <th>poverty rate</th>\n",
       "      <th>internet access</th>\n",
       "    </tr>\n",
       "  </thead>\n",
       "  <tbody>\n",
       "    <tr>\n",
       "      <td>0</td>\n",
       "      <td>AUS</td>\n",
       "      <td>1995</td>\n",
       "      <td>94.86145</td>\n",
       "      <td>5.638905</td>\n",
       "      <td>NaN</td>\n",
       "      <td>NaN</td>\n",
       "      <td>NaN</td>\n",
       "    </tr>\n",
       "    <tr>\n",
       "      <td>1</td>\n",
       "      <td>AUS</td>\n",
       "      <td>1995</td>\n",
       "      <td>94.86145</td>\n",
       "      <td>52.416612</td>\n",
       "      <td>NaN</td>\n",
       "      <td>NaN</td>\n",
       "      <td>NaN</td>\n",
       "    </tr>\n",
       "    <tr>\n",
       "      <td>2</td>\n",
       "      <td>AUS</td>\n",
       "      <td>1996</td>\n",
       "      <td>98.62147</td>\n",
       "      <td>6.317506</td>\n",
       "      <td>NaN</td>\n",
       "      <td>NaN</td>\n",
       "      <td>NaN</td>\n",
       "    </tr>\n",
       "    <tr>\n",
       "      <td>3</td>\n",
       "      <td>AUS</td>\n",
       "      <td>1996</td>\n",
       "      <td>98.62147</td>\n",
       "      <td>55.728035</td>\n",
       "      <td>NaN</td>\n",
       "      <td>NaN</td>\n",
       "      <td>NaN</td>\n",
       "    </tr>\n",
       "    <tr>\n",
       "      <td>4</td>\n",
       "      <td>AUS</td>\n",
       "      <td>1997</td>\n",
       "      <td>106.62240</td>\n",
       "      <td>2.936676</td>\n",
       "      <td>NaN</td>\n",
       "      <td>NaN</td>\n",
       "      <td>NaN</td>\n",
       "    </tr>\n",
       "    <tr>\n",
       "      <td>...</td>\n",
       "      <td>...</td>\n",
       "      <td>...</td>\n",
       "      <td>...</td>\n",
       "      <td>...</td>\n",
       "      <td>...</td>\n",
       "      <td>...</td>\n",
       "      <td>...</td>\n",
       "    </tr>\n",
       "    <tr>\n",
       "      <td>3385</td>\n",
       "      <td>NZL</td>\n",
       "      <td>2017</td>\n",
       "      <td>121.73190</td>\n",
       "      <td>120.139827</td>\n",
       "      <td>NaN</td>\n",
       "      <td>NaN</td>\n",
       "      <td>NaN</td>\n",
       "    </tr>\n",
       "    <tr>\n",
       "      <td>3386</td>\n",
       "      <td>COL</td>\n",
       "      <td>2015</td>\n",
       "      <td>43.98483</td>\n",
       "      <td>NaN</td>\n",
       "      <td>NaN</td>\n",
       "      <td>NaN</td>\n",
       "      <td>NaN</td>\n",
       "    </tr>\n",
       "    <tr>\n",
       "      <td>3387</td>\n",
       "      <td>COL</td>\n",
       "      <td>2016</td>\n",
       "      <td>46.05379</td>\n",
       "      <td>NaN</td>\n",
       "      <td>NaN</td>\n",
       "      <td>NaN</td>\n",
       "      <td>NaN</td>\n",
       "    </tr>\n",
       "    <tr>\n",
       "      <td>3388</td>\n",
       "      <td>COL</td>\n",
       "      <td>2017</td>\n",
       "      <td>46.40100</td>\n",
       "      <td>NaN</td>\n",
       "      <td>NaN</td>\n",
       "      <td>NaN</td>\n",
       "      <td>NaN</td>\n",
       "    </tr>\n",
       "    <tr>\n",
       "      <td>3389</td>\n",
       "      <td>COL</td>\n",
       "      <td>2018</td>\n",
       "      <td>47.16065</td>\n",
       "      <td>NaN</td>\n",
       "      <td>NaN</td>\n",
       "      <td>NaN</td>\n",
       "      <td>NaN</td>\n",
       "    </tr>\n",
       "  </tbody>\n",
       "</table>\n",
       "<p>3390 rows × 7 columns</p>\n",
       "</div>"
      ],
      "text/plain": [
       "     country  year  household debt  labour comp per hour age group  \\\n",
       "0        AUS  1995        94.86145              5.638905       NaN   \n",
       "1        AUS  1995        94.86145             52.416612       NaN   \n",
       "2        AUS  1996        98.62147              6.317506       NaN   \n",
       "3        AUS  1996        98.62147             55.728035       NaN   \n",
       "4        AUS  1997       106.62240              2.936676       NaN   \n",
       "...      ...   ...             ...                   ...       ...   \n",
       "3385     NZL  2017       121.73190            120.139827       NaN   \n",
       "3386     COL  2015        43.98483                   NaN       NaN   \n",
       "3387     COL  2016        46.05379                   NaN       NaN   \n",
       "3388     COL  2017        46.40100                   NaN       NaN   \n",
       "3389     COL  2018        47.16065                   NaN       NaN   \n",
       "\n",
       "      poverty rate  internet access  \n",
       "0              NaN              NaN  \n",
       "1              NaN              NaN  \n",
       "2              NaN              NaN  \n",
       "3              NaN              NaN  \n",
       "4              NaN              NaN  \n",
       "...            ...              ...  \n",
       "3385           NaN              NaN  \n",
       "3386           NaN              NaN  \n",
       "3387           NaN              NaN  \n",
       "3388           NaN              NaN  \n",
       "3389           NaN              NaN  \n",
       "\n",
       "[3390 rows x 7 columns]"
      ]
     },
     "execution_count": 68,
     "metadata": {},
     "output_type": "execute_result"
    }
   ],
   "source": [
    "house_debt"
   ]
  },
  {
   "cell_type": "code",
   "execution_count": 69,
   "metadata": {},
   "outputs": [],
   "source": [
    "economic_info = house_debt.merge(unemp_rate, how = 'left', on= [\"country\", \"year\"]).reset_index(drop = True)"
   ]
  },
  {
   "cell_type": "code",
   "execution_count": 70,
   "metadata": {},
   "outputs": [
    {
     "data": {
      "text/plain": [
       "country                   0\n",
       "year                      0\n",
       "household debt            0\n",
       "labour comp per hour     69\n",
       "age group               754\n",
       "poverty rate            754\n",
       "internet access         951\n",
       "unemployment rate       237\n",
       "dtype: int64"
      ]
     },
     "execution_count": 70,
     "metadata": {},
     "output_type": "execute_result"
    }
   ],
   "source": [
    "economic_info.isna().sum()"
   ]
  },
  {
   "cell_type": "code",
   "execution_count": 71,
   "metadata": {},
   "outputs": [
    {
     "data": {
      "text/plain": [
       "3390"
      ]
     },
     "execution_count": 71,
     "metadata": {},
     "output_type": "execute_result"
    }
   ],
   "source": [
    "len(economic_info)"
   ]
  },
  {
   "cell_type": "code",
   "execution_count": 72,
   "metadata": {},
   "outputs": [],
   "source": [
    "country_code = {'AFG': 'Afghanistan','ALA': 'Aland Islands','ALB': 'Albania','DZA': 'Algeria','ASM': 'American Samoa','AND': 'Andorra','AGO': 'Angola','AIA': 'Anguilla','ATA': 'Antarctica','ATG': 'Antigua and Barbuda','ARG': 'Argentina','ARM': 'Armenia','ABW': 'Aruba','AUS': 'Australia','AUT': 'Austria','AZE': 'Azerbaijan','BHS': 'Bahamas','BHR': 'Bahrain','BGD': 'Bangladesh','BRB': 'Barbados','BLR': 'Belarus','BEL': 'Belgium','BLZ': 'Belize','BEN': 'Benin','BMU': 'Bermuda','BTN': 'Bhutan','BOL': 'Bolivia','BES': 'Bonaire, Saint Eustatius and Saba ','BIH': 'Bosnia and Herzegovina','BWA': 'Botswana','BVT': 'Bouvet Island','BRA': 'Brazil','IOT': 'British Indian Ocean Territory','VGB': 'British Virgin Islands','BRN': 'Brunei','BGR': 'Bulgaria','BFA': 'Burkina Faso','BDI': 'Burundi','KHM': 'Cambodia','CMR': 'Cameroon','CAN': 'Canada','CPV': 'Cape Verde','CYM': 'Cayman Islands','CAF': 'Central African Republic','TCD': 'Chad','CHL': 'Chile','CHN': 'China','CXR': 'Christmas Island','CCK': 'Cocos Islands','COL': 'Colombia','COM': 'Comoros','COK': 'Cook Islands','CRI': 'Costa Rica','HRV': 'Croatia','CUB': 'Cuba','CUW': 'Curacao','CYP': 'Cyprus','CZE': 'Czech Republic','COD': 'Democratic Republic of the Congo','DNK': 'Denmark','DJI': 'Djibouti','DMA': 'Dominica','DOM': 'Dominican Republic','TLS': 'East Timor','ECU': 'Ecuador','EGY': 'Egypt','SLV': 'El Salvador','GNQ': 'Equatorial Guinea','ERI': 'Eritrea','EST': 'Estonia','ETH': 'Ethiopia','FLK': 'Falkland Islands','FRO': 'Faroe Islands','FJI': 'Fiji','FIN': 'Finland','FRA': 'France','GUF': 'French Guiana','PYF': 'French Polynesia','ATF': 'French Southern Territories','GAB': 'Gabon','GMB': 'Gambia','GEO': 'Georgia','DEU': 'Germany','GHA': 'Ghana','GIB': 'Gibraltar','GRC': 'Greece','GRL': 'Greenland','GRD': 'Grenada','GLP': 'Guadeloupe','GUM': 'Guam','GTM': 'Guatemala','GGY': 'Guernsey','GIN': 'Guinea','GNB': 'Guinea-Bissau','GUY': 'Guyana','HTI': 'Haiti','HMD': 'Heard Island and McDonald Islands','HND': 'Honduras','HKG': 'Hong Kong','HUN': 'Hungary','ISL': 'Iceland','IND': 'India','IDN': 'Indonesia','IRN': 'Iran','IRQ': 'Iraq','IRL': 'Ireland','IMN': 'Isle of Man','ISR': 'Israel','ITA': 'Italy','CIV': 'Ivory Coast','JAM': 'Jamaica','JPN': 'Japan','JEY': 'Jersey','JOR': 'Jordan','KAZ': 'Kazakhstan','KEN': 'Kenya','KIR': 'Kiribati','XKX': 'Kosovo','KWT': 'Kuwait','KGZ': 'Kyrgyzstan','LAO': 'Laos','LVA': 'Latvia','LBN': 'Lebanon','LSO': 'Lesotho','LBR': 'Liberia','LBY': 'Libya','LIE': 'Liechtenstein','LTU': 'Lithuania','LUX': 'Luxembourg','MAC': 'Macao','MKD': 'Macedonia','MDG': 'Madagascar','MWI': 'Malawi','MYS': 'Malaysia','MDV': 'Maldives','MLI': 'Mali','MLT': 'Malta','MHL': 'Marshall Islands','MTQ': 'Martinique','MRT': 'Mauritania','MUS': 'Mauritius','MYT': 'Mayotte','MEX': 'Mexico','FSM': 'Micronesia','MDA': 'Moldova','MCO': 'Monaco','MNG': 'Mongolia','MNE': 'Montenegro','MSR': 'Montserrat','MAR': 'Morocco','MOZ': 'Mozambique','MMR': 'Myanmar','NAM': 'Namibia','NRU': 'Nauru','NPL': 'Nepal','NLD': 'Netherlands','ANT': 'Netherlands Antilles','NCL': 'New Caledonia','NZL': 'New Zealand','NIC': 'Nicaragua','NER': 'Niger','NGA': 'Nigeria','NIU': 'Niue','NFK': 'Norfolk Island','PRK': 'North Korea','MNP': 'Northern Mariana Islands','NOR': 'Norway','OMN': 'Oman','PAK': 'Pakistan','PLW': 'Palau','PSE': 'Palestinian Territory','PAN': 'Panama','PNG': 'Papua New Guinea','PRY': 'Paraguay','PER': 'Peru','PHL': 'Philippines','PCN': 'Pitcairn','POL': 'Poland','PRT': 'Portugal','PRI': 'Puerto Rico','QAT': 'Qatar','COG': 'Republic of the Congo','REU': 'Reunion','ROU': 'Romania','RUS': 'Russia','RWA': 'Rwanda','BLM': 'Saint Barthelemy','SHN': 'Saint Helena','KNA': 'Saint Kitts and Nevis','LCA': 'Saint Lucia','MAF': 'Saint Martin','SPM': 'Saint Pierre and Miquelon','VCT': 'Saint Vincent and the Grenadines','WSM': 'Samoa','SMR': 'San Marino','STP': 'Sao Tome and Principe','SAU': 'Saudi Arabia','SEN': 'Senegal','SRB': 'Serbia','SCG': 'Serbia and Montenegro','SYC': 'Seychelles','SLE': 'Sierra Leone','SGP': 'Singapore','SXM': 'Sint Maarten','SVK': 'Slovakia','SVN': 'Slovenia','SLB': 'Solomon Islands','SOM': 'Somalia','ZAF': 'South Africa','SGS': 'South Georgia and the South Sandwich Islands','KOR': 'South Korea','SSD': 'South Sudan','ESP': 'Spain','LKA': 'Sri Lanka','SDN': 'Sudan','SUR': 'Suriname','SJM': 'Svalbard and Jan Mayen','SWZ': 'Swaziland','SWE': 'Sweden','CHE': 'Switzerland','SYR': 'Syria','TWN': 'Taiwan','TJK': 'Tajikistan','TZA': 'Tanzania','THA': 'Thailand','TGO': 'Togo','TKL': 'Tokelau','TON': 'Tonga','TTO': 'Trinidad and Tobago','TUN': 'Tunisia','TUR': 'Turkey','TKM': 'Turkmenistan','TCA': 'Turks and Caicos Islands','TUV': 'Tuvalu','VIR': 'U.S. Virgin Islands','UGA': 'Uganda','UKR': 'Ukraine','ARE': 'United Arab Emirates','GBR': 'United Kingdom','USA': 'United States','UMI': 'United States Minor Outlying Islands','URY': 'Uruguay','UZB': 'Uzbekistan','VUT': 'Vanuatu','VAT': 'Vatican','VEN': 'Venezuela','VNM': 'Vietnam','WLF': 'Wallis and Futuna','ESH': 'Western Sahara','YEM': 'Yemen','ZMB': 'Zambia','ZWE': 'Zimbabwe'}"
   ]
  },
  {
   "cell_type": "code",
   "execution_count": 73,
   "metadata": {},
   "outputs": [],
   "source": [
    "#for country in economic_info[\"country\"]:\n",
    "#    if country in country_code:\n",
    "#        economic_info[\"country\"] = country"
   ]
  },
  {
   "cell_type": "code",
   "execution_count": 81,
   "metadata": {},
   "outputs": [],
   "source": [
    "for i in range(len(economic_info)):\n",
    "    economic_info.loc[i, \"country\"] = country_code[economic_info.loc[i, \"country\"]]"
   ]
  },
  {
   "cell_type": "code",
   "execution_count": 82,
   "metadata": {},
   "outputs": [
    {
     "data": {
      "text/html": [
       "<div>\n",
       "<style scoped>\n",
       "    .dataframe tbody tr th:only-of-type {\n",
       "        vertical-align: middle;\n",
       "    }\n",
       "\n",
       "    .dataframe tbody tr th {\n",
       "        vertical-align: top;\n",
       "    }\n",
       "\n",
       "    .dataframe thead th {\n",
       "        text-align: right;\n",
       "    }\n",
       "</style>\n",
       "<table border=\"1\" class=\"dataframe\">\n",
       "  <thead>\n",
       "    <tr style=\"text-align: right;\">\n",
       "      <th></th>\n",
       "      <th>country</th>\n",
       "      <th>year</th>\n",
       "      <th>household debt</th>\n",
       "      <th>labour comp per hour</th>\n",
       "      <th>age group</th>\n",
       "      <th>poverty rate</th>\n",
       "      <th>internet access</th>\n",
       "      <th>unemployment rate</th>\n",
       "    </tr>\n",
       "  </thead>\n",
       "  <tbody>\n",
       "    <tr>\n",
       "      <td>0</td>\n",
       "      <td>Australia</td>\n",
       "      <td>1995</td>\n",
       "      <td>94.86145</td>\n",
       "      <td>5.638905</td>\n",
       "      <td>NaN</td>\n",
       "      <td>NaN</td>\n",
       "      <td>NaN</td>\n",
       "      <td>8.472281</td>\n",
       "    </tr>\n",
       "    <tr>\n",
       "      <td>1</td>\n",
       "      <td>Australia</td>\n",
       "      <td>1995</td>\n",
       "      <td>94.86145</td>\n",
       "      <td>52.416612</td>\n",
       "      <td>NaN</td>\n",
       "      <td>NaN</td>\n",
       "      <td>NaN</td>\n",
       "      <td>8.472281</td>\n",
       "    </tr>\n",
       "    <tr>\n",
       "      <td>2</td>\n",
       "      <td>Australia</td>\n",
       "      <td>1996</td>\n",
       "      <td>98.62147</td>\n",
       "      <td>6.317506</td>\n",
       "      <td>NaN</td>\n",
       "      <td>NaN</td>\n",
       "      <td>NaN</td>\n",
       "      <td>8.506114</td>\n",
       "    </tr>\n",
       "    <tr>\n",
       "      <td>3</td>\n",
       "      <td>Australia</td>\n",
       "      <td>1996</td>\n",
       "      <td>98.62147</td>\n",
       "      <td>55.728035</td>\n",
       "      <td>NaN</td>\n",
       "      <td>NaN</td>\n",
       "      <td>NaN</td>\n",
       "      <td>8.506114</td>\n",
       "    </tr>\n",
       "    <tr>\n",
       "      <td>4</td>\n",
       "      <td>Australia</td>\n",
       "      <td>1997</td>\n",
       "      <td>106.62240</td>\n",
       "      <td>2.936676</td>\n",
       "      <td>NaN</td>\n",
       "      <td>NaN</td>\n",
       "      <td>NaN</td>\n",
       "      <td>8.362488</td>\n",
       "    </tr>\n",
       "    <tr>\n",
       "      <td>...</td>\n",
       "      <td>...</td>\n",
       "      <td>...</td>\n",
       "      <td>...</td>\n",
       "      <td>...</td>\n",
       "      <td>...</td>\n",
       "      <td>...</td>\n",
       "      <td>...</td>\n",
       "      <td>...</td>\n",
       "    </tr>\n",
       "    <tr>\n",
       "      <td>3385</td>\n",
       "      <td>New Zealand</td>\n",
       "      <td>2017</td>\n",
       "      <td>121.73190</td>\n",
       "      <td>120.139827</td>\n",
       "      <td>NaN</td>\n",
       "      <td>NaN</td>\n",
       "      <td>NaN</td>\n",
       "      <td>4.700000</td>\n",
       "    </tr>\n",
       "    <tr>\n",
       "      <td>3386</td>\n",
       "      <td>Colombia</td>\n",
       "      <td>2015</td>\n",
       "      <td>43.98483</td>\n",
       "      <td>NaN</td>\n",
       "      <td>NaN</td>\n",
       "      <td>NaN</td>\n",
       "      <td>NaN</td>\n",
       "      <td>8.960834</td>\n",
       "    </tr>\n",
       "    <tr>\n",
       "      <td>3387</td>\n",
       "      <td>Colombia</td>\n",
       "      <td>2016</td>\n",
       "      <td>46.05379</td>\n",
       "      <td>NaN</td>\n",
       "      <td>NaN</td>\n",
       "      <td>NaN</td>\n",
       "      <td>NaN</td>\n",
       "      <td>9.274167</td>\n",
       "    </tr>\n",
       "    <tr>\n",
       "      <td>3388</td>\n",
       "      <td>Colombia</td>\n",
       "      <td>2017</td>\n",
       "      <td>46.40100</td>\n",
       "      <td>NaN</td>\n",
       "      <td>NaN</td>\n",
       "      <td>NaN</td>\n",
       "      <td>NaN</td>\n",
       "      <td>9.425834</td>\n",
       "    </tr>\n",
       "    <tr>\n",
       "      <td>3389</td>\n",
       "      <td>Colombia</td>\n",
       "      <td>2018</td>\n",
       "      <td>47.16065</td>\n",
       "      <td>NaN</td>\n",
       "      <td>NaN</td>\n",
       "      <td>NaN</td>\n",
       "      <td>NaN</td>\n",
       "      <td>9.719167</td>\n",
       "    </tr>\n",
       "  </tbody>\n",
       "</table>\n",
       "<p>3390 rows × 8 columns</p>\n",
       "</div>"
      ],
      "text/plain": [
       "          country  year  household debt  labour comp per hour age group  \\\n",
       "0       Australia  1995        94.86145              5.638905       NaN   \n",
       "1       Australia  1995        94.86145             52.416612       NaN   \n",
       "2       Australia  1996        98.62147              6.317506       NaN   \n",
       "3       Australia  1996        98.62147             55.728035       NaN   \n",
       "4       Australia  1997       106.62240              2.936676       NaN   \n",
       "...           ...   ...             ...                   ...       ...   \n",
       "3385  New Zealand  2017       121.73190            120.139827       NaN   \n",
       "3386     Colombia  2015        43.98483                   NaN       NaN   \n",
       "3387     Colombia  2016        46.05379                   NaN       NaN   \n",
       "3388     Colombia  2017        46.40100                   NaN       NaN   \n",
       "3389     Colombia  2018        47.16065                   NaN       NaN   \n",
       "\n",
       "      poverty rate  internet access  unemployment rate  \n",
       "0              NaN              NaN           8.472281  \n",
       "1              NaN              NaN           8.472281  \n",
       "2              NaN              NaN           8.506114  \n",
       "3              NaN              NaN           8.506114  \n",
       "4              NaN              NaN           8.362488  \n",
       "...            ...              ...                ...  \n",
       "3385           NaN              NaN           4.700000  \n",
       "3386           NaN              NaN           8.960834  \n",
       "3387           NaN              NaN           9.274167  \n",
       "3388           NaN              NaN           9.425834  \n",
       "3389           NaN              NaN           9.719167  \n",
       "\n",
       "[3390 rows x 8 columns]"
      ]
     },
     "execution_count": 82,
     "metadata": {},
     "output_type": "execute_result"
    }
   ],
   "source": [
    "economic_info"
   ]
  },
  {
   "cell_type": "code",
   "execution_count": 83,
   "metadata": {},
   "outputs": [],
   "source": [
    "economic_info.to_csv(\"data/economic_info.csv\")"
   ]
  },
  {
   "cell_type": "code",
   "execution_count": 7,
   "metadata": {},
   "outputs": [],
   "source": [
    "economic_info = pd.read_csv(\"../data/economic_info.csv\")"
   ]
  },
  {
   "cell_type": "code",
   "execution_count": 8,
   "metadata": {},
   "outputs": [
    {
     "data": {
      "text/html": [
       "<div>\n",
       "<style scoped>\n",
       "    .dataframe tbody tr th:only-of-type {\n",
       "        vertical-align: middle;\n",
       "    }\n",
       "\n",
       "    .dataframe tbody tr th {\n",
       "        vertical-align: top;\n",
       "    }\n",
       "\n",
       "    .dataframe thead th {\n",
       "        text-align: right;\n",
       "    }\n",
       "</style>\n",
       "<table border=\"1\" class=\"dataframe\">\n",
       "  <thead>\n",
       "    <tr style=\"text-align: right;\">\n",
       "      <th></th>\n",
       "      <th>Unnamed: 0</th>\n",
       "      <th>country</th>\n",
       "      <th>year</th>\n",
       "      <th>household debt</th>\n",
       "      <th>labour comp per hour</th>\n",
       "      <th>age group</th>\n",
       "      <th>poverty rate</th>\n",
       "      <th>internet access</th>\n",
       "      <th>unemployment rate</th>\n",
       "    </tr>\n",
       "  </thead>\n",
       "  <tbody>\n",
       "    <tr>\n",
       "      <td>0</td>\n",
       "      <td>0</td>\n",
       "      <td>Australia</td>\n",
       "      <td>1995</td>\n",
       "      <td>94.86145</td>\n",
       "      <td>5.638905</td>\n",
       "      <td>NaN</td>\n",
       "      <td>NaN</td>\n",
       "      <td>NaN</td>\n",
       "      <td>8.472281</td>\n",
       "    </tr>\n",
       "    <tr>\n",
       "      <td>1</td>\n",
       "      <td>1</td>\n",
       "      <td>Australia</td>\n",
       "      <td>1995</td>\n",
       "      <td>94.86145</td>\n",
       "      <td>52.416612</td>\n",
       "      <td>NaN</td>\n",
       "      <td>NaN</td>\n",
       "      <td>NaN</td>\n",
       "      <td>8.472281</td>\n",
       "    </tr>\n",
       "    <tr>\n",
       "      <td>2</td>\n",
       "      <td>2</td>\n",
       "      <td>Australia</td>\n",
       "      <td>1996</td>\n",
       "      <td>98.62147</td>\n",
       "      <td>6.317506</td>\n",
       "      <td>NaN</td>\n",
       "      <td>NaN</td>\n",
       "      <td>NaN</td>\n",
       "      <td>8.506114</td>\n",
       "    </tr>\n",
       "    <tr>\n",
       "      <td>3</td>\n",
       "      <td>3</td>\n",
       "      <td>Australia</td>\n",
       "      <td>1996</td>\n",
       "      <td>98.62147</td>\n",
       "      <td>55.728035</td>\n",
       "      <td>NaN</td>\n",
       "      <td>NaN</td>\n",
       "      <td>NaN</td>\n",
       "      <td>8.506114</td>\n",
       "    </tr>\n",
       "    <tr>\n",
       "      <td>4</td>\n",
       "      <td>4</td>\n",
       "      <td>Australia</td>\n",
       "      <td>1997</td>\n",
       "      <td>106.62240</td>\n",
       "      <td>2.936676</td>\n",
       "      <td>NaN</td>\n",
       "      <td>NaN</td>\n",
       "      <td>NaN</td>\n",
       "      <td>8.362488</td>\n",
       "    </tr>\n",
       "  </tbody>\n",
       "</table>\n",
       "</div>"
      ],
      "text/plain": [
       "   Unnamed: 0    country  year  household debt  labour comp per hour  \\\n",
       "0           0  Australia  1995        94.86145              5.638905   \n",
       "1           1  Australia  1995        94.86145             52.416612   \n",
       "2           2  Australia  1996        98.62147              6.317506   \n",
       "3           3  Australia  1996        98.62147             55.728035   \n",
       "4           4  Australia  1997       106.62240              2.936676   \n",
       "\n",
       "  age group  poverty rate  internet access  unemployment rate  \n",
       "0       NaN           NaN              NaN           8.472281  \n",
       "1       NaN           NaN              NaN           8.472281  \n",
       "2       NaN           NaN              NaN           8.506114  \n",
       "3       NaN           NaN              NaN           8.506114  \n",
       "4       NaN           NaN              NaN           8.362488  "
      ]
     },
     "execution_count": 8,
     "metadata": {},
     "output_type": "execute_result"
    }
   ],
   "source": [
    "economic_info.head()"
   ]
  },
  {
   "cell_type": "code",
   "execution_count": 15,
   "metadata": {},
   "outputs": [
    {
     "data": {
      "text/plain": [
       "Unnamed: 0               0\n",
       "country                  0\n",
       "year                     0\n",
       "household debt           0\n",
       "labour comp per hour     0\n",
       "age group               41\n",
       "poverty rate            41\n",
       "internet access         49\n",
       "unemployment rate        0\n",
       "dtype: int64"
      ]
     },
     "execution_count": 15,
     "metadata": {},
     "output_type": "execute_result"
    }
   ],
   "source": [
    "economic_info.loc[economic_info[\"country\"] == \"Japan\"].isna().sum()"
   ]
  },
  {
   "cell_type": "code",
   "execution_count": 16,
   "metadata": {},
   "outputs": [
    {
     "data": {
      "text/html": [
       "<div>\n",
       "<style scoped>\n",
       "    .dataframe tbody tr th:only-of-type {\n",
       "        vertical-align: middle;\n",
       "    }\n",
       "\n",
       "    .dataframe tbody tr th {\n",
       "        vertical-align: top;\n",
       "    }\n",
       "\n",
       "    .dataframe thead th {\n",
       "        text-align: right;\n",
       "    }\n",
       "</style>\n",
       "<table border=\"1\" class=\"dataframe\">\n",
       "  <thead>\n",
       "    <tr style=\"text-align: right;\">\n",
       "      <th></th>\n",
       "      <th>Unnamed: 0</th>\n",
       "      <th>country</th>\n",
       "      <th>year</th>\n",
       "      <th>household debt</th>\n",
       "      <th>labour comp per hour</th>\n",
       "      <th>age group</th>\n",
       "      <th>poverty rate</th>\n",
       "      <th>internet access</th>\n",
       "      <th>unemployment rate</th>\n",
       "    </tr>\n",
       "  </thead>\n",
       "  <tbody>\n",
       "    <tr>\n",
       "      <td>1395</td>\n",
       "      <td>1395</td>\n",
       "      <td>Japan</td>\n",
       "      <td>1995</td>\n",
       "      <td>109.5760</td>\n",
       "      <td>101.123246</td>\n",
       "      <td>NaN</td>\n",
       "      <td>NaN</td>\n",
       "      <td>NaN</td>\n",
       "      <td>3.150000</td>\n",
       "    </tr>\n",
       "    <tr>\n",
       "      <td>1396</td>\n",
       "      <td>1396</td>\n",
       "      <td>Japan</td>\n",
       "      <td>1996</td>\n",
       "      <td>114.0761</td>\n",
       "      <td>0.522066</td>\n",
       "      <td>NaN</td>\n",
       "      <td>NaN</td>\n",
       "      <td>NaN</td>\n",
       "      <td>3.350000</td>\n",
       "    </tr>\n",
       "    <tr>\n",
       "      <td>1397</td>\n",
       "      <td>1397</td>\n",
       "      <td>Japan</td>\n",
       "      <td>1996</td>\n",
       "      <td>114.0761</td>\n",
       "      <td>101.651176</td>\n",
       "      <td>NaN</td>\n",
       "      <td>NaN</td>\n",
       "      <td>NaN</td>\n",
       "      <td>3.350000</td>\n",
       "    </tr>\n",
       "    <tr>\n",
       "      <td>1398</td>\n",
       "      <td>1398</td>\n",
       "      <td>Japan</td>\n",
       "      <td>1997</td>\n",
       "      <td>113.7794</td>\n",
       "      <td>3.536531</td>\n",
       "      <td>NaN</td>\n",
       "      <td>NaN</td>\n",
       "      <td>NaN</td>\n",
       "      <td>3.400000</td>\n",
       "    </tr>\n",
       "    <tr>\n",
       "      <td>1399</td>\n",
       "      <td>1399</td>\n",
       "      <td>Japan</td>\n",
       "      <td>1997</td>\n",
       "      <td>113.7794</td>\n",
       "      <td>105.246102</td>\n",
       "      <td>NaN</td>\n",
       "      <td>NaN</td>\n",
       "      <td>NaN</td>\n",
       "      <td>3.400000</td>\n",
       "    </tr>\n",
       "    <tr>\n",
       "      <td>...</td>\n",
       "      <td>...</td>\n",
       "      <td>...</td>\n",
       "      <td>...</td>\n",
       "      <td>...</td>\n",
       "      <td>...</td>\n",
       "      <td>...</td>\n",
       "      <td>...</td>\n",
       "      <td>...</td>\n",
       "      <td>...</td>\n",
       "    </tr>\n",
       "    <tr>\n",
       "      <td>1455</td>\n",
       "      <td>1455</td>\n",
       "      <td>Japan</td>\n",
       "      <td>2016</td>\n",
       "      <td>105.2214</td>\n",
       "      <td>104.423805</td>\n",
       "      <td>NaN</td>\n",
       "      <td>NaN</td>\n",
       "      <td>NaN</td>\n",
       "      <td>3.116667</td>\n",
       "    </tr>\n",
       "    <tr>\n",
       "      <td>1456</td>\n",
       "      <td>1456</td>\n",
       "      <td>Japan</td>\n",
       "      <td>2017</td>\n",
       "      <td>107.9482</td>\n",
       "      <td>0.718994</td>\n",
       "      <td>NaN</td>\n",
       "      <td>NaN</td>\n",
       "      <td>NaN</td>\n",
       "      <td>2.808333</td>\n",
       "    </tr>\n",
       "    <tr>\n",
       "      <td>1457</td>\n",
       "      <td>1457</td>\n",
       "      <td>Japan</td>\n",
       "      <td>2017</td>\n",
       "      <td>107.9482</td>\n",
       "      <td>105.174605</td>\n",
       "      <td>NaN</td>\n",
       "      <td>NaN</td>\n",
       "      <td>NaN</td>\n",
       "      <td>2.808333</td>\n",
       "    </tr>\n",
       "    <tr>\n",
       "      <td>1458</td>\n",
       "      <td>1458</td>\n",
       "      <td>Japan</td>\n",
       "      <td>2018</td>\n",
       "      <td>107.0214</td>\n",
       "      <td>2.336757</td>\n",
       "      <td>NaN</td>\n",
       "      <td>NaN</td>\n",
       "      <td>NaN</td>\n",
       "      <td>2.441667</td>\n",
       "    </tr>\n",
       "    <tr>\n",
       "      <td>1459</td>\n",
       "      <td>1459</td>\n",
       "      <td>Japan</td>\n",
       "      <td>2018</td>\n",
       "      <td>107.0214</td>\n",
       "      <td>107.632280</td>\n",
       "      <td>NaN</td>\n",
       "      <td>NaN</td>\n",
       "      <td>NaN</td>\n",
       "      <td>2.441667</td>\n",
       "    </tr>\n",
       "  </tbody>\n",
       "</table>\n",
       "<p>65 rows × 9 columns</p>\n",
       "</div>"
      ],
      "text/plain": [
       "      Unnamed: 0 country  year  household debt  labour comp per hour  \\\n",
       "1395        1395   Japan  1995        109.5760            101.123246   \n",
       "1396        1396   Japan  1996        114.0761              0.522066   \n",
       "1397        1397   Japan  1996        114.0761            101.651176   \n",
       "1398        1398   Japan  1997        113.7794              3.536531   \n",
       "1399        1399   Japan  1997        113.7794            105.246102   \n",
       "...          ...     ...   ...             ...                   ...   \n",
       "1455        1455   Japan  2016        105.2214            104.423805   \n",
       "1456        1456   Japan  2017        107.9482              0.718994   \n",
       "1457        1457   Japan  2017        107.9482            105.174605   \n",
       "1458        1458   Japan  2018        107.0214              2.336757   \n",
       "1459        1459   Japan  2018        107.0214            107.632280   \n",
       "\n",
       "     age group  poverty rate  internet access  unemployment rate  \n",
       "1395       NaN           NaN              NaN           3.150000  \n",
       "1396       NaN           NaN              NaN           3.350000  \n",
       "1397       NaN           NaN              NaN           3.350000  \n",
       "1398       NaN           NaN              NaN           3.400000  \n",
       "1399       NaN           NaN              NaN           3.400000  \n",
       "...        ...           ...              ...                ...  \n",
       "1455       NaN           NaN              NaN           3.116667  \n",
       "1456       NaN           NaN              NaN           2.808333  \n",
       "1457       NaN           NaN              NaN           2.808333  \n",
       "1458       NaN           NaN              NaN           2.441667  \n",
       "1459       NaN           NaN              NaN           2.441667  \n",
       "\n",
       "[65 rows x 9 columns]"
      ]
     },
     "execution_count": 16,
     "metadata": {},
     "output_type": "execute_result"
    }
   ],
   "source": [
    "economic_info.loc[economic_info[\"country\"] == \"Japan\"]"
   ]
  },
  {
   "cell_type": "code",
   "execution_count": 14,
   "metadata": {},
   "outputs": [
    {
     "data": {
      "text/html": [
       "<div>\n",
       "<style scoped>\n",
       "    .dataframe tbody tr th:only-of-type {\n",
       "        vertical-align: middle;\n",
       "    }\n",
       "\n",
       "    .dataframe tbody tr th {\n",
       "        vertical-align: top;\n",
       "    }\n",
       "\n",
       "    .dataframe thead th {\n",
       "        text-align: right;\n",
       "    }\n",
       "</style>\n",
       "<table border=\"1\" class=\"dataframe\">\n",
       "  <thead>\n",
       "    <tr style=\"text-align: right;\">\n",
       "      <th></th>\n",
       "      <th>Unnamed: 0</th>\n",
       "      <th>country</th>\n",
       "      <th>year</th>\n",
       "      <th>household debt</th>\n",
       "      <th>labour comp per hour</th>\n",
       "      <th>age group</th>\n",
       "      <th>poverty rate</th>\n",
       "      <th>internet access</th>\n",
       "      <th>unemployment rate</th>\n",
       "    </tr>\n",
       "  </thead>\n",
       "  <tbody>\n",
       "    <tr>\n",
       "      <td>1460</td>\n",
       "      <td>1460</td>\n",
       "      <td>South Korea</td>\n",
       "      <td>2010</td>\n",
       "      <td>147.5311</td>\n",
       "      <td>5.886086</td>\n",
       "      <td>NaN</td>\n",
       "      <td>NaN</td>\n",
       "      <td>96.839104</td>\n",
       "      <td>3.708333</td>\n",
       "    </tr>\n",
       "    <tr>\n",
       "      <td>1461</td>\n",
       "      <td>1461</td>\n",
       "      <td>South Korea</td>\n",
       "      <td>2010</td>\n",
       "      <td>147.5311</td>\n",
       "      <td>100.000000</td>\n",
       "      <td>NaN</td>\n",
       "      <td>NaN</td>\n",
       "      <td>96.839104</td>\n",
       "      <td>3.708333</td>\n",
       "    </tr>\n",
       "    <tr>\n",
       "      <td>1462</td>\n",
       "      <td>1462</td>\n",
       "      <td>South Korea</td>\n",
       "      <td>2011</td>\n",
       "      <td>152.9024</td>\n",
       "      <td>9.297938</td>\n",
       "      <td>NaN</td>\n",
       "      <td>NaN</td>\n",
       "      <td>97.231679</td>\n",
       "      <td>3.408333</td>\n",
       "    </tr>\n",
       "    <tr>\n",
       "      <td>1463</td>\n",
       "      <td>1463</td>\n",
       "      <td>South Korea</td>\n",
       "      <td>2011</td>\n",
       "      <td>152.9024</td>\n",
       "      <td>109.297938</td>\n",
       "      <td>NaN</td>\n",
       "      <td>NaN</td>\n",
       "      <td>97.231679</td>\n",
       "      <td>3.408333</td>\n",
       "    </tr>\n",
       "    <tr>\n",
       "      <td>1464</td>\n",
       "      <td>1464</td>\n",
       "      <td>South Korea</td>\n",
       "      <td>2012</td>\n",
       "      <td>153.9483</td>\n",
       "      <td>-0.521878</td>\n",
       "      <td>NaN</td>\n",
       "      <td>NaN</td>\n",
       "      <td>97.349708</td>\n",
       "      <td>3.225000</td>\n",
       "    </tr>\n",
       "    <tr>\n",
       "      <td>1465</td>\n",
       "      <td>1465</td>\n",
       "      <td>South Korea</td>\n",
       "      <td>2012</td>\n",
       "      <td>153.9483</td>\n",
       "      <td>108.727536</td>\n",
       "      <td>NaN</td>\n",
       "      <td>NaN</td>\n",
       "      <td>97.349708</td>\n",
       "      <td>3.225000</td>\n",
       "    </tr>\n",
       "    <tr>\n",
       "      <td>1466</td>\n",
       "      <td>1466</td>\n",
       "      <td>South Korea</td>\n",
       "      <td>2013</td>\n",
       "      <td>154.8800</td>\n",
       "      <td>6.535145</td>\n",
       "      <td>NaN</td>\n",
       "      <td>NaN</td>\n",
       "      <td>98.143398</td>\n",
       "      <td>3.100000</td>\n",
       "    </tr>\n",
       "    <tr>\n",
       "      <td>1467</td>\n",
       "      <td>1467</td>\n",
       "      <td>South Korea</td>\n",
       "      <td>2013</td>\n",
       "      <td>154.8800</td>\n",
       "      <td>115.833038</td>\n",
       "      <td>NaN</td>\n",
       "      <td>NaN</td>\n",
       "      <td>98.143398</td>\n",
       "      <td>3.100000</td>\n",
       "    </tr>\n",
       "    <tr>\n",
       "      <td>1468</td>\n",
       "      <td>1468</td>\n",
       "      <td>South Korea</td>\n",
       "      <td>2014</td>\n",
       "      <td>158.0058</td>\n",
       "      <td>-0.081105</td>\n",
       "      <td>NaN</td>\n",
       "      <td>NaN</td>\n",
       "      <td>98.486943</td>\n",
       "      <td>3.491667</td>\n",
       "    </tr>\n",
       "    <tr>\n",
       "      <td>1469</td>\n",
       "      <td>1469</td>\n",
       "      <td>South Korea</td>\n",
       "      <td>2014</td>\n",
       "      <td>158.0058</td>\n",
       "      <td>115.739092</td>\n",
       "      <td>NaN</td>\n",
       "      <td>NaN</td>\n",
       "      <td>98.486943</td>\n",
       "      <td>3.491667</td>\n",
       "    </tr>\n",
       "    <tr>\n",
       "      <td>1470</td>\n",
       "      <td>1470</td>\n",
       "      <td>South Korea</td>\n",
       "      <td>2015</td>\n",
       "      <td>162.2843</td>\n",
       "      <td>-4.106868</td>\n",
       "      <td>total</td>\n",
       "      <td>0.175</td>\n",
       "      <td>98.783469</td>\n",
       "      <td>3.591667</td>\n",
       "    </tr>\n",
       "    <tr>\n",
       "      <td>1471</td>\n",
       "      <td>1471</td>\n",
       "      <td>South Korea</td>\n",
       "      <td>2015</td>\n",
       "      <td>162.2843</td>\n",
       "      <td>-4.106868</td>\n",
       "      <td>18-65</td>\n",
       "      <td>0.129</td>\n",
       "      <td>98.783469</td>\n",
       "      <td>3.591667</td>\n",
       "    </tr>\n",
       "    <tr>\n",
       "      <td>1472</td>\n",
       "      <td>1472</td>\n",
       "      <td>South Korea</td>\n",
       "      <td>2015</td>\n",
       "      <td>162.2843</td>\n",
       "      <td>-4.106868</td>\n",
       "      <td>0-17</td>\n",
       "      <td>0.160</td>\n",
       "      <td>98.783469</td>\n",
       "      <td>3.591667</td>\n",
       "    </tr>\n",
       "    <tr>\n",
       "      <td>1473</td>\n",
       "      <td>1473</td>\n",
       "      <td>South Korea</td>\n",
       "      <td>2015</td>\n",
       "      <td>162.2843</td>\n",
       "      <td>-4.106868</td>\n",
       "      <td>66+</td>\n",
       "      <td>0.443</td>\n",
       "      <td>98.783469</td>\n",
       "      <td>3.591667</td>\n",
       "    </tr>\n",
       "    <tr>\n",
       "      <td>1474</td>\n",
       "      <td>1474</td>\n",
       "      <td>South Korea</td>\n",
       "      <td>2015</td>\n",
       "      <td>162.2843</td>\n",
       "      <td>110.985840</td>\n",
       "      <td>total</td>\n",
       "      <td>0.175</td>\n",
       "      <td>98.783469</td>\n",
       "      <td>3.591667</td>\n",
       "    </tr>\n",
       "    <tr>\n",
       "      <td>1475</td>\n",
       "      <td>1475</td>\n",
       "      <td>South Korea</td>\n",
       "      <td>2015</td>\n",
       "      <td>162.2843</td>\n",
       "      <td>110.985840</td>\n",
       "      <td>18-65</td>\n",
       "      <td>0.129</td>\n",
       "      <td>98.783469</td>\n",
       "      <td>3.591667</td>\n",
       "    </tr>\n",
       "    <tr>\n",
       "      <td>1476</td>\n",
       "      <td>1476</td>\n",
       "      <td>South Korea</td>\n",
       "      <td>2015</td>\n",
       "      <td>162.2843</td>\n",
       "      <td>110.985840</td>\n",
       "      <td>0-17</td>\n",
       "      <td>0.160</td>\n",
       "      <td>98.783469</td>\n",
       "      <td>3.591667</td>\n",
       "    </tr>\n",
       "    <tr>\n",
       "      <td>1477</td>\n",
       "      <td>1477</td>\n",
       "      <td>South Korea</td>\n",
       "      <td>2015</td>\n",
       "      <td>162.2843</td>\n",
       "      <td>110.985840</td>\n",
       "      <td>66+</td>\n",
       "      <td>0.443</td>\n",
       "      <td>98.783469</td>\n",
       "      <td>3.591667</td>\n",
       "    </tr>\n",
       "    <tr>\n",
       "      <td>1478</td>\n",
       "      <td>1478</td>\n",
       "      <td>South Korea</td>\n",
       "      <td>2016</td>\n",
       "      <td>174.5221</td>\n",
       "      <td>NaN</td>\n",
       "      <td>total</td>\n",
       "      <td>0.176</td>\n",
       "      <td>99.194448</td>\n",
       "      <td>3.675000</td>\n",
       "    </tr>\n",
       "    <tr>\n",
       "      <td>1479</td>\n",
       "      <td>1479</td>\n",
       "      <td>South Korea</td>\n",
       "      <td>2016</td>\n",
       "      <td>174.5221</td>\n",
       "      <td>NaN</td>\n",
       "      <td>18-65</td>\n",
       "      <td>0.129</td>\n",
       "      <td>99.194448</td>\n",
       "      <td>3.675000</td>\n",
       "    </tr>\n",
       "    <tr>\n",
       "      <td>1480</td>\n",
       "      <td>1480</td>\n",
       "      <td>South Korea</td>\n",
       "      <td>2016</td>\n",
       "      <td>174.5221</td>\n",
       "      <td>NaN</td>\n",
       "      <td>0-17</td>\n",
       "      <td>0.152</td>\n",
       "      <td>99.194448</td>\n",
       "      <td>3.675000</td>\n",
       "    </tr>\n",
       "    <tr>\n",
       "      <td>1481</td>\n",
       "      <td>1481</td>\n",
       "      <td>South Korea</td>\n",
       "      <td>2016</td>\n",
       "      <td>174.5221</td>\n",
       "      <td>NaN</td>\n",
       "      <td>66+</td>\n",
       "      <td>0.450</td>\n",
       "      <td>99.194448</td>\n",
       "      <td>3.675000</td>\n",
       "    </tr>\n",
       "    <tr>\n",
       "      <td>1482</td>\n",
       "      <td>1482</td>\n",
       "      <td>South Korea</td>\n",
       "      <td>2017</td>\n",
       "      <td>181.8061</td>\n",
       "      <td>NaN</td>\n",
       "      <td>total</td>\n",
       "      <td>0.174</td>\n",
       "      <td>99.504650</td>\n",
       "      <td>3.683333</td>\n",
       "    </tr>\n",
       "    <tr>\n",
       "      <td>1483</td>\n",
       "      <td>1483</td>\n",
       "      <td>South Korea</td>\n",
       "      <td>2017</td>\n",
       "      <td>181.8061</td>\n",
       "      <td>NaN</td>\n",
       "      <td>18-65</td>\n",
       "      <td>0.127</td>\n",
       "      <td>99.504650</td>\n",
       "      <td>3.683333</td>\n",
       "    </tr>\n",
       "    <tr>\n",
       "      <td>1484</td>\n",
       "      <td>1484</td>\n",
       "      <td>South Korea</td>\n",
       "      <td>2017</td>\n",
       "      <td>181.8061</td>\n",
       "      <td>NaN</td>\n",
       "      <td>0-17</td>\n",
       "      <td>0.145</td>\n",
       "      <td>99.504650</td>\n",
       "      <td>3.683333</td>\n",
       "    </tr>\n",
       "    <tr>\n",
       "      <td>1485</td>\n",
       "      <td>1485</td>\n",
       "      <td>South Korea</td>\n",
       "      <td>2017</td>\n",
       "      <td>181.8061</td>\n",
       "      <td>NaN</td>\n",
       "      <td>66+</td>\n",
       "      <td>0.438</td>\n",
       "      <td>99.504650</td>\n",
       "      <td>3.683333</td>\n",
       "    </tr>\n",
       "    <tr>\n",
       "      <td>1486</td>\n",
       "      <td>1486</td>\n",
       "      <td>South Korea</td>\n",
       "      <td>2018</td>\n",
       "      <td>184.2024</td>\n",
       "      <td>NaN</td>\n",
       "      <td>NaN</td>\n",
       "      <td>NaN</td>\n",
       "      <td>99.478180</td>\n",
       "      <td>3.833333</td>\n",
       "    </tr>\n",
       "  </tbody>\n",
       "</table>\n",
       "</div>"
      ],
      "text/plain": [
       "      Unnamed: 0      country  year  household debt  labour comp per hour  \\\n",
       "1460        1460  South Korea  2010        147.5311              5.886086   \n",
       "1461        1461  South Korea  2010        147.5311            100.000000   \n",
       "1462        1462  South Korea  2011        152.9024              9.297938   \n",
       "1463        1463  South Korea  2011        152.9024            109.297938   \n",
       "1464        1464  South Korea  2012        153.9483             -0.521878   \n",
       "1465        1465  South Korea  2012        153.9483            108.727536   \n",
       "1466        1466  South Korea  2013        154.8800              6.535145   \n",
       "1467        1467  South Korea  2013        154.8800            115.833038   \n",
       "1468        1468  South Korea  2014        158.0058             -0.081105   \n",
       "1469        1469  South Korea  2014        158.0058            115.739092   \n",
       "1470        1470  South Korea  2015        162.2843             -4.106868   \n",
       "1471        1471  South Korea  2015        162.2843             -4.106868   \n",
       "1472        1472  South Korea  2015        162.2843             -4.106868   \n",
       "1473        1473  South Korea  2015        162.2843             -4.106868   \n",
       "1474        1474  South Korea  2015        162.2843            110.985840   \n",
       "1475        1475  South Korea  2015        162.2843            110.985840   \n",
       "1476        1476  South Korea  2015        162.2843            110.985840   \n",
       "1477        1477  South Korea  2015        162.2843            110.985840   \n",
       "1478        1478  South Korea  2016        174.5221                   NaN   \n",
       "1479        1479  South Korea  2016        174.5221                   NaN   \n",
       "1480        1480  South Korea  2016        174.5221                   NaN   \n",
       "1481        1481  South Korea  2016        174.5221                   NaN   \n",
       "1482        1482  South Korea  2017        181.8061                   NaN   \n",
       "1483        1483  South Korea  2017        181.8061                   NaN   \n",
       "1484        1484  South Korea  2017        181.8061                   NaN   \n",
       "1485        1485  South Korea  2017        181.8061                   NaN   \n",
       "1486        1486  South Korea  2018        184.2024                   NaN   \n",
       "\n",
       "     age group  poverty rate  internet access  unemployment rate  \n",
       "1460       NaN           NaN        96.839104           3.708333  \n",
       "1461       NaN           NaN        96.839104           3.708333  \n",
       "1462       NaN           NaN        97.231679           3.408333  \n",
       "1463       NaN           NaN        97.231679           3.408333  \n",
       "1464       NaN           NaN        97.349708           3.225000  \n",
       "1465       NaN           NaN        97.349708           3.225000  \n",
       "1466       NaN           NaN        98.143398           3.100000  \n",
       "1467       NaN           NaN        98.143398           3.100000  \n",
       "1468       NaN           NaN        98.486943           3.491667  \n",
       "1469       NaN           NaN        98.486943           3.491667  \n",
       "1470     total         0.175        98.783469           3.591667  \n",
       "1471     18-65         0.129        98.783469           3.591667  \n",
       "1472      0-17         0.160        98.783469           3.591667  \n",
       "1473       66+         0.443        98.783469           3.591667  \n",
       "1474     total         0.175        98.783469           3.591667  \n",
       "1475     18-65         0.129        98.783469           3.591667  \n",
       "1476      0-17         0.160        98.783469           3.591667  \n",
       "1477       66+         0.443        98.783469           3.591667  \n",
       "1478     total         0.176        99.194448           3.675000  \n",
       "1479     18-65         0.129        99.194448           3.675000  \n",
       "1480      0-17         0.152        99.194448           3.675000  \n",
       "1481       66+         0.450        99.194448           3.675000  \n",
       "1482     total         0.174        99.504650           3.683333  \n",
       "1483     18-65         0.127        99.504650           3.683333  \n",
       "1484      0-17         0.145        99.504650           3.683333  \n",
       "1485       66+         0.438        99.504650           3.683333  \n",
       "1486       NaN           NaN        99.478180           3.833333  "
      ]
     },
     "execution_count": 14,
     "metadata": {},
     "output_type": "execute_result"
    }
   ],
   "source": [
    "economic_info.loc[economic_info[\"country\"].str.contains(\"Korea\")]"
   ]
  },
  {
   "cell_type": "code",
   "execution_count": null,
   "metadata": {},
   "outputs": [],
   "source": []
  }
 ],
 "metadata": {
  "kernelspec": {
   "display_name": "Python 3",
   "language": "python",
   "name": "python3"
  },
  "language_info": {
   "codemirror_mode": {
    "name": "ipython",
    "version": 3
   },
   "file_extension": ".py",
   "mimetype": "text/x-python",
   "name": "python",
   "nbconvert_exporter": "python",
   "pygments_lexer": "ipython3",
   "version": "3.7.4"
  }
 },
 "nbformat": 4,
 "nbformat_minor": 2
}
