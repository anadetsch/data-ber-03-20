{
 "cells": [
  {
   "cell_type": "code",
   "execution_count": 1,
   "metadata": {},
   "outputs": [],
   "source": [
    "import pandas as pd\n",
    "import numpy as np"
   ]
  },
  {
   "cell_type": "markdown",
   "metadata": {},
   "source": [
    "### Household debt"
   ]
  },
  {
   "cell_type": "code",
   "execution_count": 2,
   "metadata": {},
   "outputs": [
    {
     "data": {
      "text/html": [
       "<div>\n",
       "<style scoped>\n",
       "    .dataframe tbody tr th:only-of-type {\n",
       "        vertical-align: middle;\n",
       "    }\n",
       "\n",
       "    .dataframe tbody tr th {\n",
       "        vertical-align: top;\n",
       "    }\n",
       "\n",
       "    .dataframe thead th {\n",
       "        text-align: right;\n",
       "    }\n",
       "</style>\n",
       "<table border=\"1\" class=\"dataframe\">\n",
       "  <thead>\n",
       "    <tr style=\"text-align: right;\">\n",
       "      <th></th>\n",
       "      <th>LOCATION</th>\n",
       "      <th>INDICATOR</th>\n",
       "      <th>SUBJECT</th>\n",
       "      <th>MEASURE</th>\n",
       "      <th>FREQUENCY</th>\n",
       "      <th>TIME</th>\n",
       "      <th>Value</th>\n",
       "      <th>Flag Codes</th>\n",
       "    </tr>\n",
       "  </thead>\n",
       "  <tbody>\n",
       "    <tr>\n",
       "      <td>0</td>\n",
       "      <td>AUS</td>\n",
       "      <td>HHDEBT</td>\n",
       "      <td>TOT</td>\n",
       "      <td>PC_NDI</td>\n",
       "      <td>A</td>\n",
       "      <td>1995</td>\n",
       "      <td>94.86145</td>\n",
       "      <td>NaN</td>\n",
       "    </tr>\n",
       "    <tr>\n",
       "      <td>1</td>\n",
       "      <td>AUS</td>\n",
       "      <td>HHDEBT</td>\n",
       "      <td>TOT</td>\n",
       "      <td>PC_NDI</td>\n",
       "      <td>A</td>\n",
       "      <td>1996</td>\n",
       "      <td>98.62147</td>\n",
       "      <td>NaN</td>\n",
       "    </tr>\n",
       "    <tr>\n",
       "      <td>2</td>\n",
       "      <td>AUS</td>\n",
       "      <td>HHDEBT</td>\n",
       "      <td>TOT</td>\n",
       "      <td>PC_NDI</td>\n",
       "      <td>A</td>\n",
       "      <td>1997</td>\n",
       "      <td>106.62240</td>\n",
       "      <td>NaN</td>\n",
       "    </tr>\n",
       "    <tr>\n",
       "      <td>3</td>\n",
       "      <td>AUS</td>\n",
       "      <td>HHDEBT</td>\n",
       "      <td>TOT</td>\n",
       "      <td>PC_NDI</td>\n",
       "      <td>A</td>\n",
       "      <td>1998</td>\n",
       "      <td>114.09520</td>\n",
       "      <td>NaN</td>\n",
       "    </tr>\n",
       "    <tr>\n",
       "      <td>4</td>\n",
       "      <td>AUS</td>\n",
       "      <td>HHDEBT</td>\n",
       "      <td>TOT</td>\n",
       "      <td>PC_NDI</td>\n",
       "      <td>A</td>\n",
       "      <td>1999</td>\n",
       "      <td>120.42900</td>\n",
       "      <td>NaN</td>\n",
       "    </tr>\n",
       "  </tbody>\n",
       "</table>\n",
       "</div>"
      ],
      "text/plain": [
       "  LOCATION INDICATOR SUBJECT MEASURE FREQUENCY  TIME      Value  Flag Codes\n",
       "0      AUS    HHDEBT     TOT  PC_NDI         A  1995   94.86145         NaN\n",
       "1      AUS    HHDEBT     TOT  PC_NDI         A  1996   98.62147         NaN\n",
       "2      AUS    HHDEBT     TOT  PC_NDI         A  1997  106.62240         NaN\n",
       "3      AUS    HHDEBT     TOT  PC_NDI         A  1998  114.09520         NaN\n",
       "4      AUS    HHDEBT     TOT  PC_NDI         A  1999  120.42900         NaN"
      ]
     },
     "execution_count": 2,
     "metadata": {},
     "output_type": "execute_result"
    }
   ],
   "source": [
    "house_debt = pd.read_csv(\"data/korea/hausehold_debt.csv\")\n",
    "\n",
    "house_debt.head()"
   ]
  },
  {
   "cell_type": "code",
   "execution_count": 3,
   "metadata": {},
   "outputs": [
    {
     "data": {
      "text/plain": [
       "LOCATION        0\n",
       "INDICATOR       0\n",
       "SUBJECT         0\n",
       "MEASURE         0\n",
       "FREQUENCY       0\n",
       "TIME            0\n",
       "Value           0\n",
       "Flag Codes    732\n",
       "dtype: int64"
      ]
     },
     "execution_count": 3,
     "metadata": {},
     "output_type": "execute_result"
    }
   ],
   "source": [
    "house_debt.isna().sum()"
   ]
  },
  {
   "cell_type": "code",
   "execution_count": 4,
   "metadata": {},
   "outputs": [
    {
     "data": {
      "text/plain": [
       "DNK    24\n",
       "AUT    24\n",
       "POL    24\n",
       "JPN    24\n",
       "SVN    24\n",
       "GBR    24\n",
       "SVK    24\n",
       "CAN    24\n",
       "GRC    24\n",
       "LVA    24\n",
       "BEL    24\n",
       "EST    24\n",
       "FRA    24\n",
       "USA    24\n",
       "PRT    24\n",
       "NOR    24\n",
       "LTU    24\n",
       "CZE    24\n",
       "AUS    24\n",
       "HUN    24\n",
       "DEU    24\n",
       "ITA    24\n",
       "NLD    24\n",
       "FIN    24\n",
       "ESP    24\n",
       "SWE    24\n",
       "CHE    20\n",
       "LUX    20\n",
       "IRL    18\n",
       "CHL    15\n",
       "NZL    11\n",
       "KOR     9\n",
       "BRA     7\n",
       "RUS     4\n",
       "COL     4\n",
       "Name: LOCATION, dtype: int64"
      ]
     },
     "execution_count": 4,
     "metadata": {},
     "output_type": "execute_result"
    }
   ],
   "source": [
    "#check how many locations\n",
    "\n",
    "house_debt[\"LOCATION\"].value_counts()"
   ]
  },
  {
   "cell_type": "code",
   "execution_count": 5,
   "metadata": {},
   "outputs": [
    {
     "data": {
      "text/plain": [
       "2015    35\n",
       "2016    34\n",
       "2014    34\n",
       "2017    34\n",
       "2013    33\n",
       "2012    33\n",
       "2011    33\n",
       "2010    33\n",
       "2009    32\n",
       "2018    31\n",
       "2008    31\n",
       "2007    31\n",
       "2004    30\n",
       "2003    30\n",
       "2006    30\n",
       "2005    30\n",
       "2002    29\n",
       "2001    29\n",
       "2000    28\n",
       "1999    28\n",
       "1998    26\n",
       "1997    26\n",
       "1996    26\n",
       "1995    26\n",
       "Name: TIME, dtype: int64"
      ]
     },
     "execution_count": 5,
     "metadata": {},
     "output_type": "execute_result"
    }
   ],
   "source": [
    "# check if equal time for all locations\n",
    "\n",
    "house_debt[\"TIME\"].value_counts()"
   ]
  },
  {
   "cell_type": "code",
   "execution_count": 6,
   "metadata": {},
   "outputs": [
    {
     "data": {
      "text/plain": [
       "HHDEBT    732\n",
       "Name: INDICATOR, dtype: int64"
      ]
     },
     "execution_count": 6,
     "metadata": {},
     "output_type": "execute_result"
    }
   ],
   "source": [
    "house_debt[\"INDICATOR\"].value_counts()"
   ]
  },
  {
   "cell_type": "code",
   "execution_count": 7,
   "metadata": {},
   "outputs": [
    {
     "data": {
      "text/plain": [
       "TOT    732\n",
       "Name: SUBJECT, dtype: int64"
      ]
     },
     "execution_count": 7,
     "metadata": {},
     "output_type": "execute_result"
    }
   ],
   "source": [
    "house_debt[\"SUBJECT\"].value_counts()"
   ]
  },
  {
   "cell_type": "code",
   "execution_count": 8,
   "metadata": {},
   "outputs": [
    {
     "data": {
      "text/plain": [
       "PC_NDI    732\n",
       "Name: MEASURE, dtype: int64"
      ]
     },
     "execution_count": 8,
     "metadata": {},
     "output_type": "execute_result"
    }
   ],
   "source": [
    "house_debt[\"MEASURE\"].value_counts()"
   ]
  },
  {
   "cell_type": "code",
   "execution_count": 9,
   "metadata": {},
   "outputs": [
    {
     "data": {
      "text/plain": [
       "A    732\n",
       "Name: FREQUENCY, dtype: int64"
      ]
     },
     "execution_count": 9,
     "metadata": {},
     "output_type": "execute_result"
    }
   ],
   "source": [
    "house_debt[\"FREQUENCY\"].value_counts()"
   ]
  },
  {
   "cell_type": "code",
   "execution_count": 10,
   "metadata": {},
   "outputs": [],
   "source": [
    "# drop columns \tINDICATOR\tSUBJECT\tMEASURE\tFREQUENCY flag codes\n",
    "\n",
    "house_debt = house_debt.drop(columns = [\"Flag Codes\", \"INDICATOR\", \"SUBJECT\", \"MEASURE\", \"FREQUENCY\"])"
   ]
  },
  {
   "cell_type": "code",
   "execution_count": 11,
   "metadata": {},
   "outputs": [],
   "source": [
    "# rename columns LOCATION\tTIME\tValue\n",
    "\n",
    "house_debt = house_debt.rename(columns = {\"LOCATION\" : \"country\", \"TIME\" : \"year\", \"Value\" : \"household debt\"})"
   ]
  },
  {
   "cell_type": "markdown",
   "metadata": {},
   "source": [
    "### Household spending"
   ]
  },
  {
   "cell_type": "code",
   "execution_count": 12,
   "metadata": {},
   "outputs": [
    {
     "data": {
      "text/html": [
       "<div>\n",
       "<style scoped>\n",
       "    .dataframe tbody tr th:only-of-type {\n",
       "        vertical-align: middle;\n",
       "    }\n",
       "\n",
       "    .dataframe tbody tr th {\n",
       "        vertical-align: top;\n",
       "    }\n",
       "\n",
       "    .dataframe thead th {\n",
       "        text-align: right;\n",
       "    }\n",
       "</style>\n",
       "<table border=\"1\" class=\"dataframe\">\n",
       "  <thead>\n",
       "    <tr style=\"text-align: right;\">\n",
       "      <th></th>\n",
       "      <th>LOCATION</th>\n",
       "      <th>INDICATOR</th>\n",
       "      <th>SUBJECT</th>\n",
       "      <th>MEASURE</th>\n",
       "      <th>FREQUENCY</th>\n",
       "      <th>TIME</th>\n",
       "      <th>Value</th>\n",
       "      <th>Flag Codes</th>\n",
       "    </tr>\n",
       "  </thead>\n",
       "  <tbody>\n",
       "    <tr>\n",
       "      <td>0</td>\n",
       "      <td>AUS</td>\n",
       "      <td>HHEXP</td>\n",
       "      <td>TOT</td>\n",
       "      <td>MLN_USD</td>\n",
       "      <td>A</td>\n",
       "      <td>1960</td>\n",
       "      <td>14526.0841</td>\n",
       "      <td>NaN</td>\n",
       "    </tr>\n",
       "    <tr>\n",
       "      <td>1</td>\n",
       "      <td>AUS</td>\n",
       "      <td>HHEXP</td>\n",
       "      <td>TOT</td>\n",
       "      <td>MLN_USD</td>\n",
       "      <td>A</td>\n",
       "      <td>1961</td>\n",
       "      <td>14964.5525</td>\n",
       "      <td>NaN</td>\n",
       "    </tr>\n",
       "    <tr>\n",
       "      <td>2</td>\n",
       "      <td>AUS</td>\n",
       "      <td>HHEXP</td>\n",
       "      <td>TOT</td>\n",
       "      <td>MLN_USD</td>\n",
       "      <td>A</td>\n",
       "      <td>1962</td>\n",
       "      <td>16296.7539</td>\n",
       "      <td>NaN</td>\n",
       "    </tr>\n",
       "    <tr>\n",
       "      <td>3</td>\n",
       "      <td>AUS</td>\n",
       "      <td>HHEXP</td>\n",
       "      <td>TOT</td>\n",
       "      <td>MLN_USD</td>\n",
       "      <td>A</td>\n",
       "      <td>1963</td>\n",
       "      <td>17437.5301</td>\n",
       "      <td>NaN</td>\n",
       "    </tr>\n",
       "    <tr>\n",
       "      <td>4</td>\n",
       "      <td>AUS</td>\n",
       "      <td>HHEXP</td>\n",
       "      <td>TOT</td>\n",
       "      <td>MLN_USD</td>\n",
       "      <td>A</td>\n",
       "      <td>1964</td>\n",
       "      <td>18637.7800</td>\n",
       "      <td>NaN</td>\n",
       "    </tr>\n",
       "    <tr>\n",
       "      <td>...</td>\n",
       "      <td>...</td>\n",
       "      <td>...</td>\n",
       "      <td>...</td>\n",
       "      <td>...</td>\n",
       "      <td>...</td>\n",
       "      <td>...</td>\n",
       "      <td>...</td>\n",
       "      <td>...</td>\n",
       "    </tr>\n",
       "    <tr>\n",
       "      <td>8409</td>\n",
       "      <td>ZMB</td>\n",
       "      <td>HHEXP</td>\n",
       "      <td>TOT</td>\n",
       "      <td>MLN_USD</td>\n",
       "      <td>A</td>\n",
       "      <td>2012</td>\n",
       "      <td>25715.2984</td>\n",
       "      <td>NaN</td>\n",
       "    </tr>\n",
       "    <tr>\n",
       "      <td>8410</td>\n",
       "      <td>ZMB</td>\n",
       "      <td>HHEXP</td>\n",
       "      <td>TOT</td>\n",
       "      <td>MLN_USD</td>\n",
       "      <td>A</td>\n",
       "      <td>2013</td>\n",
       "      <td>27207.4129</td>\n",
       "      <td>NaN</td>\n",
       "    </tr>\n",
       "    <tr>\n",
       "      <td>8411</td>\n",
       "      <td>ZMB</td>\n",
       "      <td>HHEXP</td>\n",
       "      <td>TOT</td>\n",
       "      <td>MLN_USD</td>\n",
       "      <td>A</td>\n",
       "      <td>2014</td>\n",
       "      <td>29183.2200</td>\n",
       "      <td>NaN</td>\n",
       "    </tr>\n",
       "    <tr>\n",
       "      <td>8412</td>\n",
       "      <td>ZMB</td>\n",
       "      <td>HHEXP</td>\n",
       "      <td>TOT</td>\n",
       "      <td>MLN_USD</td>\n",
       "      <td>A</td>\n",
       "      <td>2015</td>\n",
       "      <td>29721.2614</td>\n",
       "      <td>NaN</td>\n",
       "    </tr>\n",
       "    <tr>\n",
       "      <td>8413</td>\n",
       "      <td>ZMB</td>\n",
       "      <td>HHEXP</td>\n",
       "      <td>TOT</td>\n",
       "      <td>MLN_USD</td>\n",
       "      <td>A</td>\n",
       "      <td>2016</td>\n",
       "      <td>31786.3475</td>\n",
       "      <td>NaN</td>\n",
       "    </tr>\n",
       "  </tbody>\n",
       "</table>\n",
       "<p>8414 rows × 8 columns</p>\n",
       "</div>"
      ],
      "text/plain": [
       "     LOCATION INDICATOR SUBJECT  MEASURE FREQUENCY  TIME       Value  \\\n",
       "0         AUS     HHEXP     TOT  MLN_USD         A  1960  14526.0841   \n",
       "1         AUS     HHEXP     TOT  MLN_USD         A  1961  14964.5525   \n",
       "2         AUS     HHEXP     TOT  MLN_USD         A  1962  16296.7539   \n",
       "3         AUS     HHEXP     TOT  MLN_USD         A  1963  17437.5301   \n",
       "4         AUS     HHEXP     TOT  MLN_USD         A  1964  18637.7800   \n",
       "...       ...       ...     ...      ...       ...   ...         ...   \n",
       "8409      ZMB     HHEXP     TOT  MLN_USD         A  2012  25715.2984   \n",
       "8410      ZMB     HHEXP     TOT  MLN_USD         A  2013  27207.4129   \n",
       "8411      ZMB     HHEXP     TOT  MLN_USD         A  2014  29183.2200   \n",
       "8412      ZMB     HHEXP     TOT  MLN_USD         A  2015  29721.2614   \n",
       "8413      ZMB     HHEXP     TOT  MLN_USD         A  2016  31786.3475   \n",
       "\n",
       "     Flag Codes  \n",
       "0           NaN  \n",
       "1           NaN  \n",
       "2           NaN  \n",
       "3           NaN  \n",
       "4           NaN  \n",
       "...         ...  \n",
       "8409        NaN  \n",
       "8410        NaN  \n",
       "8411        NaN  \n",
       "8412        NaN  \n",
       "8413        NaN  \n",
       "\n",
       "[8414 rows x 8 columns]"
      ]
     },
     "execution_count": 12,
     "metadata": {},
     "output_type": "execute_result"
    }
   ],
   "source": [
    "house_spending = pd.read_csv(\"data/korea/haushold_spending.csv\")\n",
    "\n",
    "house_spending"
   ]
  },
  {
   "cell_type": "code",
   "execution_count": 13,
   "metadata": {},
   "outputs": [
    {
     "data": {
      "text/plain": [
       "LOCATION         0\n",
       "INDICATOR        0\n",
       "SUBJECT          0\n",
       "MEASURE          0\n",
       "FREQUENCY        0\n",
       "TIME             0\n",
       "Value            0\n",
       "Flag Codes    5842\n",
       "dtype: int64"
      ]
     },
     "execution_count": 13,
     "metadata": {},
     "output_type": "execute_result"
    }
   ],
   "source": [
    "house_spending.isna().sum()"
   ]
  },
  {
   "cell_type": "code",
   "execution_count": 14,
   "metadata": {},
   "outputs": [
    {
     "data": {
      "text/plain": [
       "AUS     255\n",
       "FRA     251\n",
       "USA     243\n",
       "NOR     240\n",
       "CAN     235\n",
       "       ... \n",
       "MKD      18\n",
       "ARG      15\n",
       "ZMB      11\n",
       "PER       8\n",
       "OECD      4\n",
       "Name: LOCATION, Length: 61, dtype: int64"
      ]
     },
     "execution_count": 14,
     "metadata": {},
     "output_type": "execute_result"
    }
   ],
   "source": [
    "house_spending[\"LOCATION\"].value_counts()"
   ]
  },
  {
   "cell_type": "code",
   "execution_count": 15,
   "metadata": {},
   "outputs": [],
   "source": [
    "# house_spending[\"TIME\"].value_counts()"
   ]
  },
  {
   "cell_type": "code",
   "execution_count": 16,
   "metadata": {},
   "outputs": [],
   "source": [
    "house_spending = house_spending.drop(columns = [\"Flag Codes\", \"INDICATOR\", \"SUBJECT\", \"MEASURE\", \"FREQUENCY\"])"
   ]
  },
  {
   "cell_type": "code",
   "execution_count": 17,
   "metadata": {},
   "outputs": [],
   "source": [
    "house_spending = house_spending.rename(columns = {\"LOCATION\" : \"country\", \"TIME\" : \"year\", \"Value\" : \"household spent\"})"
   ]
  },
  {
   "cell_type": "code",
   "execution_count": 18,
   "metadata": {},
   "outputs": [
    {
     "data": {
      "text/html": [
       "<div>\n",
       "<style scoped>\n",
       "    .dataframe tbody tr th:only-of-type {\n",
       "        vertical-align: middle;\n",
       "    }\n",
       "\n",
       "    .dataframe tbody tr th {\n",
       "        vertical-align: top;\n",
       "    }\n",
       "\n",
       "    .dataframe thead th {\n",
       "        text-align: right;\n",
       "    }\n",
       "</style>\n",
       "<table border=\"1\" class=\"dataframe\">\n",
       "  <thead>\n",
       "    <tr style=\"text-align: right;\">\n",
       "      <th></th>\n",
       "      <th>country</th>\n",
       "      <th>year</th>\n",
       "      <th>household spent</th>\n",
       "    </tr>\n",
       "  </thead>\n",
       "  <tbody>\n",
       "    <tr>\n",
       "      <td>0</td>\n",
       "      <td>AUS</td>\n",
       "      <td>1960</td>\n",
       "      <td>14526.0841</td>\n",
       "    </tr>\n",
       "    <tr>\n",
       "      <td>1</td>\n",
       "      <td>AUS</td>\n",
       "      <td>1961</td>\n",
       "      <td>14964.5525</td>\n",
       "    </tr>\n",
       "    <tr>\n",
       "      <td>2</td>\n",
       "      <td>AUS</td>\n",
       "      <td>1962</td>\n",
       "      <td>16296.7539</td>\n",
       "    </tr>\n",
       "    <tr>\n",
       "      <td>3</td>\n",
       "      <td>AUS</td>\n",
       "      <td>1963</td>\n",
       "      <td>17437.5301</td>\n",
       "    </tr>\n",
       "    <tr>\n",
       "      <td>4</td>\n",
       "      <td>AUS</td>\n",
       "      <td>1964</td>\n",
       "      <td>18637.7800</td>\n",
       "    </tr>\n",
       "  </tbody>\n",
       "</table>\n",
       "</div>"
      ],
      "text/plain": [
       "  country  year  household spent\n",
       "0     AUS  1960       14526.0841\n",
       "1     AUS  1961       14964.5525\n",
       "2     AUS  1962       16296.7539\n",
       "3     AUS  1963       17437.5301\n",
       "4     AUS  1964       18637.7800"
      ]
     },
     "execution_count": 18,
     "metadata": {},
     "output_type": "execute_result"
    }
   ],
   "source": [
    "house_spending.head()"
   ]
  },
  {
   "cell_type": "markdown",
   "metadata": {},
   "source": [
    "### Poverty rate"
   ]
  },
  {
   "cell_type": "code",
   "execution_count": 19,
   "metadata": {},
   "outputs": [
    {
     "data": {
      "text/html": [
       "<div>\n",
       "<style scoped>\n",
       "    .dataframe tbody tr th:only-of-type {\n",
       "        vertical-align: middle;\n",
       "    }\n",
       "\n",
       "    .dataframe tbody tr th {\n",
       "        vertical-align: top;\n",
       "    }\n",
       "\n",
       "    .dataframe thead th {\n",
       "        text-align: right;\n",
       "    }\n",
       "</style>\n",
       "<table border=\"1\" class=\"dataframe\">\n",
       "  <thead>\n",
       "    <tr style=\"text-align: right;\">\n",
       "      <th></th>\n",
       "      <th>LOCATION</th>\n",
       "      <th>INDICATOR</th>\n",
       "      <th>SUBJECT</th>\n",
       "      <th>MEASURE</th>\n",
       "      <th>FREQUENCY</th>\n",
       "      <th>TIME</th>\n",
       "      <th>Value</th>\n",
       "      <th>Flag Codes</th>\n",
       "    </tr>\n",
       "  </thead>\n",
       "  <tbody>\n",
       "    <tr>\n",
       "      <td>0</td>\n",
       "      <td>AUS</td>\n",
       "      <td>POVERTY</td>\n",
       "      <td>0_17</td>\n",
       "      <td>RT</td>\n",
       "      <td>A</td>\n",
       "      <td>2012</td>\n",
       "      <td>0.129</td>\n",
       "      <td>NaN</td>\n",
       "    </tr>\n",
       "    <tr>\n",
       "      <td>1</td>\n",
       "      <td>AUS</td>\n",
       "      <td>POVERTY</td>\n",
       "      <td>0_17</td>\n",
       "      <td>RT</td>\n",
       "      <td>A</td>\n",
       "      <td>2014</td>\n",
       "      <td>0.130</td>\n",
       "      <td>NaN</td>\n",
       "    </tr>\n",
       "    <tr>\n",
       "      <td>2</td>\n",
       "      <td>AUS</td>\n",
       "      <td>POVERTY</td>\n",
       "      <td>0_17</td>\n",
       "      <td>RT</td>\n",
       "      <td>A</td>\n",
       "      <td>2016</td>\n",
       "      <td>0.125</td>\n",
       "      <td>NaN</td>\n",
       "    </tr>\n",
       "    <tr>\n",
       "      <td>3</td>\n",
       "      <td>AUS</td>\n",
       "      <td>POVERTY</td>\n",
       "      <td>0_17</td>\n",
       "      <td>RT</td>\n",
       "      <td>A</td>\n",
       "      <td>2018</td>\n",
       "      <td>0.133</td>\n",
       "      <td>NaN</td>\n",
       "    </tr>\n",
       "    <tr>\n",
       "      <td>4</td>\n",
       "      <td>AUS</td>\n",
       "      <td>POVERTY</td>\n",
       "      <td>TOT</td>\n",
       "      <td>RT</td>\n",
       "      <td>A</td>\n",
       "      <td>2012</td>\n",
       "      <td>0.140</td>\n",
       "      <td>NaN</td>\n",
       "    </tr>\n",
       "  </tbody>\n",
       "</table>\n",
       "</div>"
      ],
      "text/plain": [
       "  LOCATION INDICATOR SUBJECT MEASURE FREQUENCY  TIME  Value Flag Codes\n",
       "0      AUS   POVERTY    0_17      RT         A  2012  0.129        NaN\n",
       "1      AUS   POVERTY    0_17      RT         A  2014  0.130        NaN\n",
       "2      AUS   POVERTY    0_17      RT         A  2016  0.125        NaN\n",
       "3      AUS   POVERTY    0_17      RT         A  2018  0.133        NaN\n",
       "4      AUS   POVERTY     TOT      RT         A  2012  0.140        NaN"
      ]
     },
     "execution_count": 19,
     "metadata": {},
     "output_type": "execute_result"
    }
   ],
   "source": [
    "poverty = pd.read_csv(\"data/korea/poverty_rate.csv\")\n",
    "\n",
    "poverty.head()"
   ]
  },
  {
   "cell_type": "code",
   "execution_count": 20,
   "metadata": {},
   "outputs": [
    {
     "data": {
      "text/plain": [
       "LOCATION         0\n",
       "INDICATOR        0\n",
       "SUBJECT          0\n",
       "MEASURE          0\n",
       "FREQUENCY        0\n",
       "TIME             0\n",
       "Value            0\n",
       "Flag Codes    1708\n",
       "dtype: int64"
      ]
     },
     "execution_count": 20,
     "metadata": {},
     "output_type": "execute_result"
    }
   ],
   "source": [
    "poverty.isna().sum()"
   ]
  },
  {
   "cell_type": "code",
   "execution_count": 21,
   "metadata": {},
   "outputs": [],
   "source": [
    "# poverty[\"LOCATION\"].value_counts()"
   ]
  },
  {
   "cell_type": "code",
   "execution_count": 22,
   "metadata": {},
   "outputs": [
    {
     "data": {
      "text/plain": [
       "66MORE    430\n",
       "18_65     430\n",
       "TOT       430\n",
       "0_17      430\n",
       "Name: SUBJECT, dtype: int64"
      ]
     },
     "execution_count": 22,
     "metadata": {},
     "output_type": "execute_result"
    }
   ],
   "source": [
    "# in this case subject contain the age group (0_17 / 18_65 / 66MORE / TOT: Total)\n",
    "# decided to keep the age group, but change the values and column name.\n",
    "\n",
    "poverty[\"SUBJECT\"].value_counts()"
   ]
  },
  {
   "cell_type": "code",
   "execution_count": 23,
   "metadata": {},
   "outputs": [],
   "source": [
    "poverty[\"SUBJECT\"] = poverty[\"SUBJECT\"].replace({\"0_17\": \"0-17\", \"18_65\" : \"18-65\", \"66MORE\" : \"66+\", \"TOT\": \"total\"})"
   ]
  },
  {
   "cell_type": "code",
   "execution_count": 24,
   "metadata": {},
   "outputs": [
    {
     "data": {
      "text/plain": [
       "POVERTY    1720\n",
       "Name: INDICATOR, dtype: int64"
      ]
     },
     "execution_count": 24,
     "metadata": {},
     "output_type": "execute_result"
    }
   ],
   "source": [
    "poverty[\"INDICATOR\"].value_counts()"
   ]
  },
  {
   "cell_type": "code",
   "execution_count": 25,
   "metadata": {},
   "outputs": [
    {
     "data": {
      "text/plain": [
       "RT    1720\n",
       "Name: MEASURE, dtype: int64"
      ]
     },
     "execution_count": 25,
     "metadata": {},
     "output_type": "execute_result"
    }
   ],
   "source": [
    "poverty[\"MEASURE\"].value_counts()"
   ]
  },
  {
   "cell_type": "code",
   "execution_count": 26,
   "metadata": {},
   "outputs": [
    {
     "data": {
      "text/plain": [
       "A    1720\n",
       "Name: FREQUENCY, dtype: int64"
      ]
     },
     "execution_count": 26,
     "metadata": {},
     "output_type": "execute_result"
    }
   ],
   "source": [
    "poverty[\"FREQUENCY\"].value_counts()"
   ]
  },
  {
   "cell_type": "code",
   "execution_count": 27,
   "metadata": {},
   "outputs": [],
   "source": [
    "poverty = poverty.drop(columns = [\"Flag Codes\", \"INDICATOR\", \"MEASURE\", \"FREQUENCY\"])"
   ]
  },
  {
   "cell_type": "code",
   "execution_count": 28,
   "metadata": {},
   "outputs": [
    {
     "data": {
      "text/html": [
       "<div>\n",
       "<style scoped>\n",
       "    .dataframe tbody tr th:only-of-type {\n",
       "        vertical-align: middle;\n",
       "    }\n",
       "\n",
       "    .dataframe tbody tr th {\n",
       "        vertical-align: top;\n",
       "    }\n",
       "\n",
       "    .dataframe thead th {\n",
       "        text-align: right;\n",
       "    }\n",
       "</style>\n",
       "<table border=\"1\" class=\"dataframe\">\n",
       "  <thead>\n",
       "    <tr style=\"text-align: right;\">\n",
       "      <th></th>\n",
       "      <th>LOCATION</th>\n",
       "      <th>SUBJECT</th>\n",
       "      <th>TIME</th>\n",
       "      <th>Value</th>\n",
       "    </tr>\n",
       "  </thead>\n",
       "  <tbody>\n",
       "    <tr>\n",
       "      <td>0</td>\n",
       "      <td>AUS</td>\n",
       "      <td>0-17</td>\n",
       "      <td>2012</td>\n",
       "      <td>0.129</td>\n",
       "    </tr>\n",
       "    <tr>\n",
       "      <td>1</td>\n",
       "      <td>AUS</td>\n",
       "      <td>0-17</td>\n",
       "      <td>2014</td>\n",
       "      <td>0.130</td>\n",
       "    </tr>\n",
       "    <tr>\n",
       "      <td>2</td>\n",
       "      <td>AUS</td>\n",
       "      <td>0-17</td>\n",
       "      <td>2016</td>\n",
       "      <td>0.125</td>\n",
       "    </tr>\n",
       "    <tr>\n",
       "      <td>3</td>\n",
       "      <td>AUS</td>\n",
       "      <td>0-17</td>\n",
       "      <td>2018</td>\n",
       "      <td>0.133</td>\n",
       "    </tr>\n",
       "    <tr>\n",
       "      <td>4</td>\n",
       "      <td>AUS</td>\n",
       "      <td>total</td>\n",
       "      <td>2012</td>\n",
       "      <td>0.140</td>\n",
       "    </tr>\n",
       "  </tbody>\n",
       "</table>\n",
       "</div>"
      ],
      "text/plain": [
       "  LOCATION SUBJECT  TIME  Value\n",
       "0      AUS    0-17  2012  0.129\n",
       "1      AUS    0-17  2014  0.130\n",
       "2      AUS    0-17  2016  0.125\n",
       "3      AUS    0-17  2018  0.133\n",
       "4      AUS   total  2012  0.140"
      ]
     },
     "execution_count": 28,
     "metadata": {},
     "output_type": "execute_result"
    }
   ],
   "source": [
    "poverty.head()"
   ]
  },
  {
   "cell_type": "code",
   "execution_count": 29,
   "metadata": {},
   "outputs": [],
   "source": [
    "poverty = poverty.rename(columns = {\"LOCATION\" : \"country\", \"TIME\" : \"year\", \"Value\" : \"poverty rate\", \"SUBJECT\": \"age group\"})"
   ]
  },
  {
   "cell_type": "markdown",
   "metadata": {},
   "source": [
    "### Internet access\n",
    "\n",
    "\n",
    "Percentages of households who has internet access"
   ]
  },
  {
   "cell_type": "code",
   "execution_count": 30,
   "metadata": {},
   "outputs": [],
   "source": [
    "int_access = pd.read_csv(\"data/korea/internet_access.csv\")"
   ]
  },
  {
   "cell_type": "code",
   "execution_count": 31,
   "metadata": {},
   "outputs": [
    {
     "data": {
      "text/html": [
       "<div>\n",
       "<style scoped>\n",
       "    .dataframe tbody tr th:only-of-type {\n",
       "        vertical-align: middle;\n",
       "    }\n",
       "\n",
       "    .dataframe tbody tr th {\n",
       "        vertical-align: top;\n",
       "    }\n",
       "\n",
       "    .dataframe thead th {\n",
       "        text-align: right;\n",
       "    }\n",
       "</style>\n",
       "<table border=\"1\" class=\"dataframe\">\n",
       "  <thead>\n",
       "    <tr style=\"text-align: right;\">\n",
       "      <th></th>\n",
       "      <th>LOCATION</th>\n",
       "      <th>INDICATOR</th>\n",
       "      <th>SUBJECT</th>\n",
       "      <th>MEASURE</th>\n",
       "      <th>FREQUENCY</th>\n",
       "      <th>TIME</th>\n",
       "      <th>Value</th>\n",
       "      <th>Flag Codes</th>\n",
       "    </tr>\n",
       "  </thead>\n",
       "  <tbody>\n",
       "    <tr>\n",
       "      <td>0</td>\n",
       "      <td>BEL</td>\n",
       "      <td>INTERNET</td>\n",
       "      <td>TOT</td>\n",
       "      <td>PC_HH</td>\n",
       "      <td>A</td>\n",
       "      <td>2005</td>\n",
       "      <td>50.1575</td>\n",
       "      <td>NaN</td>\n",
       "    </tr>\n",
       "    <tr>\n",
       "      <td>1</td>\n",
       "      <td>BEL</td>\n",
       "      <td>INTERNET</td>\n",
       "      <td>TOT</td>\n",
       "      <td>PC_HH</td>\n",
       "      <td>A</td>\n",
       "      <td>2006</td>\n",
       "      <td>53.9597</td>\n",
       "      <td>NaN</td>\n",
       "    </tr>\n",
       "    <tr>\n",
       "      <td>2</td>\n",
       "      <td>BEL</td>\n",
       "      <td>INTERNET</td>\n",
       "      <td>TOT</td>\n",
       "      <td>PC_HH</td>\n",
       "      <td>A</td>\n",
       "      <td>2007</td>\n",
       "      <td>60.1640</td>\n",
       "      <td>NaN</td>\n",
       "    </tr>\n",
       "    <tr>\n",
       "      <td>3</td>\n",
       "      <td>BEL</td>\n",
       "      <td>INTERNET</td>\n",
       "      <td>TOT</td>\n",
       "      <td>PC_HH</td>\n",
       "      <td>A</td>\n",
       "      <td>2008</td>\n",
       "      <td>63.6276</td>\n",
       "      <td>NaN</td>\n",
       "    </tr>\n",
       "    <tr>\n",
       "      <td>4</td>\n",
       "      <td>BEL</td>\n",
       "      <td>INTERNET</td>\n",
       "      <td>TOT</td>\n",
       "      <td>PC_HH</td>\n",
       "      <td>A</td>\n",
       "      <td>2009</td>\n",
       "      <td>67.4352</td>\n",
       "      <td>NaN</td>\n",
       "    </tr>\n",
       "  </tbody>\n",
       "</table>\n",
       "</div>"
      ],
      "text/plain": [
       "  LOCATION INDICATOR SUBJECT MEASURE FREQUENCY  TIME    Value Flag Codes\n",
       "0      BEL  INTERNET     TOT   PC_HH         A  2005  50.1575        NaN\n",
       "1      BEL  INTERNET     TOT   PC_HH         A  2006  53.9597        NaN\n",
       "2      BEL  INTERNET     TOT   PC_HH         A  2007  60.1640        NaN\n",
       "3      BEL  INTERNET     TOT   PC_HH         A  2008  63.6276        NaN\n",
       "4      BEL  INTERNET     TOT   PC_HH         A  2009  67.4352        NaN"
      ]
     },
     "execution_count": 31,
     "metadata": {},
     "output_type": "execute_result"
    }
   ],
   "source": [
    "int_access.head()"
   ]
  },
  {
   "cell_type": "code",
   "execution_count": 32,
   "metadata": {},
   "outputs": [],
   "source": [
    "# int_access[\"LOCATION\"].value_counts()"
   ]
  },
  {
   "cell_type": "code",
   "execution_count": 33,
   "metadata": {},
   "outputs": [
    {
     "data": {
      "text/plain": [
       "LOCATION        0\n",
       "INDICATOR       0\n",
       "SUBJECT         0\n",
       "MEASURE         0\n",
       "FREQUENCY       0\n",
       "TIME            0\n",
       "Value           0\n",
       "Flag Codes    456\n",
       "dtype: int64"
      ]
     },
     "execution_count": 33,
     "metadata": {},
     "output_type": "execute_result"
    }
   ],
   "source": [
    "int_access.isna().sum()"
   ]
  },
  {
   "cell_type": "code",
   "execution_count": 34,
   "metadata": {},
   "outputs": [
    {
     "data": {
      "text/plain": [
       "INTERNET    476\n",
       "Name: INDICATOR, dtype: int64"
      ]
     },
     "execution_count": 34,
     "metadata": {},
     "output_type": "execute_result"
    }
   ],
   "source": [
    "int_access[\"INDICATOR\"].value_counts()"
   ]
  },
  {
   "cell_type": "code",
   "execution_count": 35,
   "metadata": {},
   "outputs": [
    {
     "data": {
      "text/plain": [
       "TOT    476\n",
       "Name: SUBJECT, dtype: int64"
      ]
     },
     "execution_count": 35,
     "metadata": {},
     "output_type": "execute_result"
    }
   ],
   "source": [
    "int_access[\"SUBJECT\"].value_counts()"
   ]
  },
  {
   "cell_type": "code",
   "execution_count": 36,
   "metadata": {},
   "outputs": [
    {
     "data": {
      "text/plain": [
       "PC_HH    476\n",
       "Name: MEASURE, dtype: int64"
      ]
     },
     "execution_count": 36,
     "metadata": {},
     "output_type": "execute_result"
    }
   ],
   "source": [
    "int_access[\"MEASURE\"].value_counts()"
   ]
  },
  {
   "cell_type": "code",
   "execution_count": 37,
   "metadata": {},
   "outputs": [
    {
     "data": {
      "text/plain": [
       "A    476\n",
       "Name: FREQUENCY, dtype: int64"
      ]
     },
     "execution_count": 37,
     "metadata": {},
     "output_type": "execute_result"
    }
   ],
   "source": [
    "int_access[\"FREQUENCY\"].value_counts()"
   ]
  },
  {
   "cell_type": "code",
   "execution_count": 38,
   "metadata": {},
   "outputs": [],
   "source": [
    "int_access = int_access.drop(columns = [\"INDICATOR\", \"SUBJECT\", \"MEASURE\", \"FREQUENCY\", \"Flag Codes\"])"
   ]
  },
  {
   "cell_type": "code",
   "execution_count": 39,
   "metadata": {},
   "outputs": [],
   "source": [
    "int_access = int_access.rename(columns = {\"LOCATION\" : \"country\", \"TIME\" : \"year\", \"Value\" : \"internet access\"})"
   ]
  },
  {
   "cell_type": "code",
   "execution_count": null,
   "metadata": {},
   "outputs": [],
   "source": []
  },
  {
   "cell_type": "markdown",
   "metadata": {},
   "source": [
    "### Labour compensation per hour"
   ]
  },
  {
   "cell_type": "code",
   "execution_count": 40,
   "metadata": {},
   "outputs": [
    {
     "data": {
      "text/html": [
       "<div>\n",
       "<style scoped>\n",
       "    .dataframe tbody tr th:only-of-type {\n",
       "        vertical-align: middle;\n",
       "    }\n",
       "\n",
       "    .dataframe tbody tr th {\n",
       "        vertical-align: top;\n",
       "    }\n",
       "\n",
       "    .dataframe thead th {\n",
       "        text-align: right;\n",
       "    }\n",
       "</style>\n",
       "<table border=\"1\" class=\"dataframe\">\n",
       "  <thead>\n",
       "    <tr style=\"text-align: right;\">\n",
       "      <th></th>\n",
       "      <th>LOCATION</th>\n",
       "      <th>INDICATOR</th>\n",
       "      <th>SUBJECT</th>\n",
       "      <th>MEASURE</th>\n",
       "      <th>FREQUENCY</th>\n",
       "      <th>TIME</th>\n",
       "      <th>Value</th>\n",
       "      <th>Flag Codes</th>\n",
       "    </tr>\n",
       "  </thead>\n",
       "  <tbody>\n",
       "    <tr>\n",
       "      <td>0</td>\n",
       "      <td>AUS</td>\n",
       "      <td>LABCOMP</td>\n",
       "      <td>TOT</td>\n",
       "      <td>AGRWTH</td>\n",
       "      <td>A</td>\n",
       "      <td>1986</td>\n",
       "      <td>5.168118</td>\n",
       "      <td>NaN</td>\n",
       "    </tr>\n",
       "    <tr>\n",
       "      <td>1</td>\n",
       "      <td>AUS</td>\n",
       "      <td>LABCOMP</td>\n",
       "      <td>TOT</td>\n",
       "      <td>AGRWTH</td>\n",
       "      <td>A</td>\n",
       "      <td>1987</td>\n",
       "      <td>5.915590</td>\n",
       "      <td>NaN</td>\n",
       "    </tr>\n",
       "    <tr>\n",
       "      <td>2</td>\n",
       "      <td>AUS</td>\n",
       "      <td>LABCOMP</td>\n",
       "      <td>TOT</td>\n",
       "      <td>AGRWTH</td>\n",
       "      <td>A</td>\n",
       "      <td>1988</td>\n",
       "      <td>7.255069</td>\n",
       "      <td>NaN</td>\n",
       "    </tr>\n",
       "    <tr>\n",
       "      <td>3</td>\n",
       "      <td>AUS</td>\n",
       "      <td>LABCOMP</td>\n",
       "      <td>TOT</td>\n",
       "      <td>AGRWTH</td>\n",
       "      <td>A</td>\n",
       "      <td>1989</td>\n",
       "      <td>5.978699</td>\n",
       "      <td>NaN</td>\n",
       "    </tr>\n",
       "    <tr>\n",
       "      <td>4</td>\n",
       "      <td>AUS</td>\n",
       "      <td>LABCOMP</td>\n",
       "      <td>TOT</td>\n",
       "      <td>AGRWTH</td>\n",
       "      <td>A</td>\n",
       "      <td>1990</td>\n",
       "      <td>6.079849</td>\n",
       "      <td>NaN</td>\n",
       "    </tr>\n",
       "  </tbody>\n",
       "</table>\n",
       "</div>"
      ],
      "text/plain": [
       "  LOCATION INDICATOR SUBJECT MEASURE FREQUENCY  TIME     Value  Flag Codes\n",
       "0      AUS   LABCOMP     TOT  AGRWTH         A  1986  5.168118         NaN\n",
       "1      AUS   LABCOMP     TOT  AGRWTH         A  1987  5.915590         NaN\n",
       "2      AUS   LABCOMP     TOT  AGRWTH         A  1988  7.255069         NaN\n",
       "3      AUS   LABCOMP     TOT  AGRWTH         A  1989  5.978699         NaN\n",
       "4      AUS   LABCOMP     TOT  AGRWTH         A  1990  6.079849         NaN"
      ]
     },
     "execution_count": 40,
     "metadata": {},
     "output_type": "execute_result"
    }
   ],
   "source": [
    "lab_hour = pd.read_csv(\"data/korea/labour_compensation_per_hour.csv\")\n",
    "\n",
    "lab_hour.head()"
   ]
  },
  {
   "cell_type": "code",
   "execution_count": 41,
   "metadata": {},
   "outputs": [],
   "source": [
    "# lab_hour[\"LOCATION\"].value_counts()"
   ]
  },
  {
   "cell_type": "code",
   "execution_count": 42,
   "metadata": {},
   "outputs": [
    {
     "data": {
      "text/plain": [
       "LABCOMP    2323\n",
       "Name: INDICATOR, dtype: int64"
      ]
     },
     "execution_count": 42,
     "metadata": {},
     "output_type": "execute_result"
    }
   ],
   "source": [
    "lab_hour[\"INDICATOR\"].value_counts()\n"
   ]
  },
  {
   "cell_type": "code",
   "execution_count": 43,
   "metadata": {},
   "outputs": [
    {
     "data": {
      "text/plain": [
       "TOT    2323\n",
       "Name: SUBJECT, dtype: int64"
      ]
     },
     "execution_count": 43,
     "metadata": {},
     "output_type": "execute_result"
    }
   ],
   "source": [
    "lab_hour[\"SUBJECT\"].value_counts()"
   ]
  },
  {
   "cell_type": "code",
   "execution_count": 44,
   "metadata": {},
   "outputs": [
    {
     "data": {
      "text/plain": [
       "IDX2010    1183\n",
       "AGRWTH     1140\n",
       "Name: MEASURE, dtype: int64"
      ]
     },
     "execution_count": 44,
     "metadata": {},
     "output_type": "execute_result"
    }
   ],
   "source": [
    "lab_hour[\"MEASURE\"].value_counts()"
   ]
  },
  {
   "cell_type": "code",
   "execution_count": 45,
   "metadata": {},
   "outputs": [
    {
     "data": {
      "text/plain": [
       "A    2323\n",
       "Name: FREQUENCY, dtype: int64"
      ]
     },
     "execution_count": 45,
     "metadata": {},
     "output_type": "execute_result"
    }
   ],
   "source": [
    "lab_hour[\"FREQUENCY\"].value_counts()"
   ]
  },
  {
   "cell_type": "code",
   "execution_count": 46,
   "metadata": {},
   "outputs": [],
   "source": [
    "lab_hour = lab_hour.drop(columns = [\"INDICATOR\", \"SUBJECT\", \"MEASURE\", \"FREQUENCY\", \"Flag Codes\"])"
   ]
  },
  {
   "cell_type": "code",
   "execution_count": 47,
   "metadata": {},
   "outputs": [],
   "source": [
    "lab_hour = lab_hour.rename(columns = {\"LOCATION\" : \"country\", \"TIME\" : \"year\", \"Value\" : \"labour comp per hour\"})"
   ]
  },
  {
   "cell_type": "code",
   "execution_count": null,
   "metadata": {},
   "outputs": [],
   "source": []
  },
  {
   "cell_type": "markdown",
   "metadata": {},
   "source": [
    "### Unenployment Rate"
   ]
  },
  {
   "cell_type": "code",
   "execution_count": 48,
   "metadata": {},
   "outputs": [
    {
     "data": {
      "text/html": [
       "<div>\n",
       "<style scoped>\n",
       "    .dataframe tbody tr th:only-of-type {\n",
       "        vertical-align: middle;\n",
       "    }\n",
       "\n",
       "    .dataframe tbody tr th {\n",
       "        vertical-align: top;\n",
       "    }\n",
       "\n",
       "    .dataframe thead th {\n",
       "        text-align: right;\n",
       "    }\n",
       "</style>\n",
       "<table border=\"1\" class=\"dataframe\">\n",
       "  <thead>\n",
       "    <tr style=\"text-align: right;\">\n",
       "      <th></th>\n",
       "      <th>LOCATION</th>\n",
       "      <th>INDICATOR</th>\n",
       "      <th>SUBJECT</th>\n",
       "      <th>MEASURE</th>\n",
       "      <th>FREQUENCY</th>\n",
       "      <th>TIME</th>\n",
       "      <th>Value</th>\n",
       "      <th>Flag Codes</th>\n",
       "    </tr>\n",
       "  </thead>\n",
       "  <tbody>\n",
       "    <tr>\n",
       "      <td>0</td>\n",
       "      <td>AUS</td>\n",
       "      <td>UNEMP</td>\n",
       "      <td>MEN</td>\n",
       "      <td>PC_LF</td>\n",
       "      <td>A</td>\n",
       "      <td>1979</td>\n",
       "      <td>5.162579</td>\n",
       "      <td>NaN</td>\n",
       "    </tr>\n",
       "    <tr>\n",
       "      <td>1</td>\n",
       "      <td>AUS</td>\n",
       "      <td>UNEMP</td>\n",
       "      <td>MEN</td>\n",
       "      <td>PC_LF</td>\n",
       "      <td>A</td>\n",
       "      <td>1980</td>\n",
       "      <td>5.068766</td>\n",
       "      <td>NaN</td>\n",
       "    </tr>\n",
       "    <tr>\n",
       "      <td>2</td>\n",
       "      <td>AUS</td>\n",
       "      <td>UNEMP</td>\n",
       "      <td>MEN</td>\n",
       "      <td>PC_LF</td>\n",
       "      <td>A</td>\n",
       "      <td>1981</td>\n",
       "      <td>4.808415</td>\n",
       "      <td>NaN</td>\n",
       "    </tr>\n",
       "    <tr>\n",
       "      <td>3</td>\n",
       "      <td>AUS</td>\n",
       "      <td>UNEMP</td>\n",
       "      <td>MEN</td>\n",
       "      <td>PC_LF</td>\n",
       "      <td>A</td>\n",
       "      <td>1982</td>\n",
       "      <td>6.345981</td>\n",
       "      <td>NaN</td>\n",
       "    </tr>\n",
       "    <tr>\n",
       "      <td>4</td>\n",
       "      <td>AUS</td>\n",
       "      <td>UNEMP</td>\n",
       "      <td>MEN</td>\n",
       "      <td>PC_LF</td>\n",
       "      <td>A</td>\n",
       "      <td>1983</td>\n",
       "      <td>9.716337</td>\n",
       "      <td>NaN</td>\n",
       "    </tr>\n",
       "  </tbody>\n",
       "</table>\n",
       "</div>"
      ],
      "text/plain": [
       "  LOCATION INDICATOR SUBJECT MEASURE FREQUENCY  TIME     Value Flag Codes\n",
       "0      AUS     UNEMP     MEN   PC_LF         A  1979  5.162579        NaN\n",
       "1      AUS     UNEMP     MEN   PC_LF         A  1980  5.068766        NaN\n",
       "2      AUS     UNEMP     MEN   PC_LF         A  1981  4.808415        NaN\n",
       "3      AUS     UNEMP     MEN   PC_LF         A  1982  6.345981        NaN\n",
       "4      AUS     UNEMP     MEN   PC_LF         A  1983  9.716337        NaN"
      ]
     },
     "execution_count": 48,
     "metadata": {},
     "output_type": "execute_result"
    }
   ],
   "source": [
    "unemp_rate = pd.read_csv(\"data/korea/unemployment_rate.csv\")\n",
    "\n",
    "unemp_rate.head()"
   ]
  },
  {
   "cell_type": "code",
   "execution_count": 49,
   "metadata": {},
   "outputs": [
    {
     "data": {
      "text/plain": [
       "LOCATION          0\n",
       "INDICATOR         0\n",
       "SUBJECT           0\n",
       "MEASURE           0\n",
       "FREQUENCY         0\n",
       "TIME              0\n",
       "Value             0\n",
       "Flag Codes    28995\n",
       "dtype: int64"
      ]
     },
     "execution_count": 49,
     "metadata": {},
     "output_type": "execute_result"
    }
   ],
   "source": [
    "unemp_rate.isna().sum()"
   ]
  },
  {
   "cell_type": "code",
   "execution_count": 50,
   "metadata": {},
   "outputs": [],
   "source": [
    "# unemp_rate[\"LOCATION\"].value_counts()"
   ]
  },
  {
   "cell_type": "code",
   "execution_count": 51,
   "metadata": {},
   "outputs": [
    {
     "data": {
      "text/plain": [
       "UNEMP    29501\n",
       "Name: INDICATOR, dtype: int64"
      ]
     },
     "execution_count": 51,
     "metadata": {},
     "output_type": "execute_result"
    }
   ],
   "source": [
    "unemp_rate[\"INDICATOR\"].value_counts()"
   ]
  },
  {
   "cell_type": "code",
   "execution_count": 52,
   "metadata": {},
   "outputs": [
    {
     "data": {
      "text/plain": [
       "TOT      10460\n",
       "MEN       9525\n",
       "WOMEN     9516\n",
       "Name: SUBJECT, dtype: int64"
      ]
     },
     "execution_count": 52,
     "metadata": {},
     "output_type": "execute_result"
    }
   ],
   "source": [
    "unemp_rate[\"SUBJECT\"].value_counts()"
   ]
  },
  {
   "cell_type": "code",
   "execution_count": 53,
   "metadata": {},
   "outputs": [
    {
     "data": {
      "text/plain": [
       "PC_LF    29501\n",
       "Name: MEASURE, dtype: int64"
      ]
     },
     "execution_count": 53,
     "metadata": {},
     "output_type": "execute_result"
    }
   ],
   "source": [
    "unemp_rate[\"MEASURE\"].value_counts()"
   ]
  },
  {
   "cell_type": "code",
   "execution_count": 54,
   "metadata": {},
   "outputs": [
    {
     "data": {
      "text/plain": [
       "Q    13457\n",
       "M    12614\n",
       "A     3430\n",
       "Name: FREQUENCY, dtype: int64"
      ]
     },
     "execution_count": 54,
     "metadata": {},
     "output_type": "execute_result"
    }
   ],
   "source": [
    "unemp_rate[\"FREQUENCY\"].value_counts()"
   ]
  },
  {
   "cell_type": "code",
   "execution_count": 55,
   "metadata": {},
   "outputs": [
    {
     "data": {
      "text/plain": [
       "A    3430\n",
       "Name: FREQUENCY, dtype: int64"
      ]
     },
     "execution_count": 55,
     "metadata": {},
     "output_type": "execute_result"
    }
   ],
   "source": [
    "# droping extra rows for frequency and keeping just anual values\n",
    "\n",
    "unemp_rate = unemp_rate.drop(unemp_rate[(unemp_rate.FREQUENCY == \"M\")].index)\n",
    "\n",
    "unemp_rate = unemp_rate.drop(unemp_rate[unemp_rate.FREQUENCY == \"Q\"].index)\n",
    "unemp_rate[\"FREQUENCY\"].value_counts()"
   ]
  },
  {
   "cell_type": "code",
   "execution_count": 56,
   "metadata": {},
   "outputs": [],
   "source": [
    "#dropping extra rows for subject and keeping just total\n",
    "\n",
    "unemp_rate = unemp_rate.drop(unemp_rate[(unemp_rate.SUBJECT == \"MEN\")].index)\n",
    "\n",
    "unemp_rate = unemp_rate.drop(unemp_rate[unemp_rate.SUBJECT == \"WOMEN\"].index)"
   ]
  },
  {
   "cell_type": "code",
   "execution_count": 57,
   "metadata": {},
   "outputs": [
    {
     "data": {
      "text/plain": [
       "TOT    1213\n",
       "Name: SUBJECT, dtype: int64"
      ]
     },
     "execution_count": 57,
     "metadata": {},
     "output_type": "execute_result"
    }
   ],
   "source": [
    "unemp_rate[\"SUBJECT\"].value_counts()"
   ]
  },
  {
   "cell_type": "code",
   "execution_count": 58,
   "metadata": {},
   "outputs": [],
   "source": [
    "unemp_rate = unemp_rate.drop(columns = [\"INDICATOR\", \"SUBJECT\", \"MEASURE\", \"FREQUENCY\", \"Flag Codes\"])\n"
   ]
  },
  {
   "cell_type": "code",
   "execution_count": 59,
   "metadata": {},
   "outputs": [],
   "source": [
    "unemp_rate = unemp_rate.rename(columns = {\"LOCATION\" : \"country\", \"TIME\" : \"year\", \"Value\" : \"unemployment rate\"})"
   ]
  },
  {
   "cell_type": "code",
   "execution_count": 60,
   "metadata": {},
   "outputs": [
    {
     "data": {
      "text/html": [
       "<div>\n",
       "<style scoped>\n",
       "    .dataframe tbody tr th:only-of-type {\n",
       "        vertical-align: middle;\n",
       "    }\n",
       "\n",
       "    .dataframe tbody tr th {\n",
       "        vertical-align: top;\n",
       "    }\n",
       "\n",
       "    .dataframe thead th {\n",
       "        text-align: right;\n",
       "    }\n",
       "</style>\n",
       "<table border=\"1\" class=\"dataframe\">\n",
       "  <thead>\n",
       "    <tr style=\"text-align: right;\">\n",
       "      <th></th>\n",
       "      <th>country</th>\n",
       "      <th>year</th>\n",
       "      <th>unemployment rate</th>\n",
       "    </tr>\n",
       "  </thead>\n",
       "  <tbody>\n",
       "    <tr>\n",
       "      <td>0</td>\n",
       "      <td>AUS</td>\n",
       "      <td>1967</td>\n",
       "      <td>1.875000</td>\n",
       "    </tr>\n",
       "    <tr>\n",
       "      <td>1</td>\n",
       "      <td>AUS</td>\n",
       "      <td>1968</td>\n",
       "      <td>1.850000</td>\n",
       "    </tr>\n",
       "    <tr>\n",
       "      <td>2</td>\n",
       "      <td>AUS</td>\n",
       "      <td>1969</td>\n",
       "      <td>1.800000</td>\n",
       "    </tr>\n",
       "    <tr>\n",
       "      <td>3</td>\n",
       "      <td>AUS</td>\n",
       "      <td>1970</td>\n",
       "      <td>1.625000</td>\n",
       "    </tr>\n",
       "    <tr>\n",
       "      <td>4</td>\n",
       "      <td>AUS</td>\n",
       "      <td>1971</td>\n",
       "      <td>1.925000</td>\n",
       "    </tr>\n",
       "    <tr>\n",
       "      <td>...</td>\n",
       "      <td>...</td>\n",
       "      <td>...</td>\n",
       "      <td>...</td>\n",
       "    </tr>\n",
       "    <tr>\n",
       "      <td>1208</td>\n",
       "      <td>LTU</td>\n",
       "      <td>2015</td>\n",
       "      <td>9.119895</td>\n",
       "    </tr>\n",
       "    <tr>\n",
       "      <td>1209</td>\n",
       "      <td>LTU</td>\n",
       "      <td>2016</td>\n",
       "      <td>7.860914</td>\n",
       "    </tr>\n",
       "    <tr>\n",
       "      <td>1210</td>\n",
       "      <td>LTU</td>\n",
       "      <td>2017</td>\n",
       "      <td>7.071820</td>\n",
       "    </tr>\n",
       "    <tr>\n",
       "      <td>1211</td>\n",
       "      <td>LTU</td>\n",
       "      <td>2018</td>\n",
       "      <td>6.152077</td>\n",
       "    </tr>\n",
       "    <tr>\n",
       "      <td>1212</td>\n",
       "      <td>LTU</td>\n",
       "      <td>2019</td>\n",
       "      <td>6.255139</td>\n",
       "    </tr>\n",
       "  </tbody>\n",
       "</table>\n",
       "<p>1213 rows × 3 columns</p>\n",
       "</div>"
      ],
      "text/plain": [
       "     country  year  unemployment rate\n",
       "0        AUS  1967           1.875000\n",
       "1        AUS  1968           1.850000\n",
       "2        AUS  1969           1.800000\n",
       "3        AUS  1970           1.625000\n",
       "4        AUS  1971           1.925000\n",
       "...      ...   ...                ...\n",
       "1208     LTU  2015           9.119895\n",
       "1209     LTU  2016           7.860914\n",
       "1210     LTU  2017           7.071820\n",
       "1211     LTU  2018           6.152077\n",
       "1212     LTU  2019           6.255139\n",
       "\n",
       "[1213 rows x 3 columns]"
      ]
     },
     "execution_count": 60,
     "metadata": {},
     "output_type": "execute_result"
    }
   ],
   "source": [
    "unemp_rate.reset_index(drop = True)"
   ]
  },
  {
   "cell_type": "code",
   "execution_count": 61,
   "metadata": {},
   "outputs": [
    {
     "data": {
      "text/plain": [
       "country               object\n",
       "year                  object\n",
       "unemployment rate    float64\n",
       "dtype: object"
      ]
     },
     "execution_count": 61,
     "metadata": {},
     "output_type": "execute_result"
    }
   ],
   "source": [
    "unemp_rate.dtypes"
   ]
  },
  {
   "cell_type": "code",
   "execution_count": 62,
   "metadata": {},
   "outputs": [],
   "source": [
    "unemp_rate[\"year\"] = unemp_rate[\"year\"].astype(int)"
   ]
  },
  {
   "cell_type": "code",
   "execution_count": 63,
   "metadata": {},
   "outputs": [
    {
     "data": {
      "text/plain": [
       "country               object\n",
       "year                   int32\n",
       "unemployment rate    float64\n",
       "dtype: object"
      ]
     },
     "execution_count": 63,
     "metadata": {},
     "output_type": "execute_result"
    }
   ],
   "source": [
    "unemp_rate.dtypes"
   ]
  },
  {
   "cell_type": "code",
   "execution_count": 64,
   "metadata": {},
   "outputs": [],
   "source": [
    "house_debt = house_debt.merge(lab_hour, how = 'left',  on = [\"country\", \"year\"]).reset_index(drop = True)"
   ]
  },
  {
   "cell_type": "code",
   "execution_count": 65,
   "metadata": {},
   "outputs": [],
   "source": [
    "house_debt = house_debt.merge(poverty, how = 'left', on= [\"country\", \"year\"]).reset_index(drop = True)"
   ]
  },
  {
   "cell_type": "code",
   "execution_count": 66,
   "metadata": {},
   "outputs": [
    {
     "data": {
      "text/plain": [
       "country                   0\n",
       "year                      0\n",
       "household debt            0\n",
       "labour comp per hour     69\n",
       "age group               754\n",
       "poverty rate            754\n",
       "dtype: int64"
      ]
     },
     "execution_count": 66,
     "metadata": {},
     "output_type": "execute_result"
    }
   ],
   "source": [
    "house_debt.isna().sum()"
   ]
  },
  {
   "cell_type": "code",
   "execution_count": 67,
   "metadata": {},
   "outputs": [],
   "source": [
    "house_debt = house_debt.merge(int_access, how = 'left', on= [\"country\", \"year\"]).reset_index(drop = True)"
   ]
  },
  {
   "cell_type": "code",
   "execution_count": 68,
   "metadata": {},
   "outputs": [
    {
     "data": {
      "text/html": [
       "<div>\n",
       "<style scoped>\n",
       "    .dataframe tbody tr th:only-of-type {\n",
       "        vertical-align: middle;\n",
       "    }\n",
       "\n",
       "    .dataframe tbody tr th {\n",
       "        vertical-align: top;\n",
       "    }\n",
       "\n",
       "    .dataframe thead th {\n",
       "        text-align: right;\n",
       "    }\n",
       "</style>\n",
       "<table border=\"1\" class=\"dataframe\">\n",
       "  <thead>\n",
       "    <tr style=\"text-align: right;\">\n",
       "      <th></th>\n",
       "      <th>country</th>\n",
       "      <th>year</th>\n",
       "      <th>household debt</th>\n",
       "      <th>labour comp per hour</th>\n",
       "      <th>age group</th>\n",
       "      <th>poverty rate</th>\n",
       "      <th>internet access</th>\n",
       "    </tr>\n",
       "  </thead>\n",
       "  <tbody>\n",
       "    <tr>\n",
       "      <td>0</td>\n",
       "      <td>AUS</td>\n",
       "      <td>1995</td>\n",
       "      <td>94.86145</td>\n",
       "      <td>5.638905</td>\n",
       "      <td>NaN</td>\n",
       "      <td>NaN</td>\n",
       "      <td>NaN</td>\n",
       "    </tr>\n",
       "    <tr>\n",
       "      <td>1</td>\n",
       "      <td>AUS</td>\n",
       "      <td>1995</td>\n",
       "      <td>94.86145</td>\n",
       "      <td>52.416612</td>\n",
       "      <td>NaN</td>\n",
       "      <td>NaN</td>\n",
       "      <td>NaN</td>\n",
       "    </tr>\n",
       "    <tr>\n",
       "      <td>2</td>\n",
       "      <td>AUS</td>\n",
       "      <td>1996</td>\n",
       "      <td>98.62147</td>\n",
       "      <td>6.317506</td>\n",
       "      <td>NaN</td>\n",
       "      <td>NaN</td>\n",
       "      <td>NaN</td>\n",
       "    </tr>\n",
       "    <tr>\n",
       "      <td>3</td>\n",
       "      <td>AUS</td>\n",
       "      <td>1996</td>\n",
       "      <td>98.62147</td>\n",
       "      <td>55.728035</td>\n",
       "      <td>NaN</td>\n",
       "      <td>NaN</td>\n",
       "      <td>NaN</td>\n",
       "    </tr>\n",
       "    <tr>\n",
       "      <td>4</td>\n",
       "      <td>AUS</td>\n",
       "      <td>1997</td>\n",
       "      <td>106.62240</td>\n",
       "      <td>2.936676</td>\n",
       "      <td>NaN</td>\n",
       "      <td>NaN</td>\n",
       "      <td>NaN</td>\n",
       "    </tr>\n",
       "    <tr>\n",
       "      <td>...</td>\n",
       "      <td>...</td>\n",
       "      <td>...</td>\n",
       "      <td>...</td>\n",
       "      <td>...</td>\n",
       "      <td>...</td>\n",
       "      <td>...</td>\n",
       "      <td>...</td>\n",
       "    </tr>\n",
       "    <tr>\n",
       "      <td>3385</td>\n",
       "      <td>NZL</td>\n",
       "      <td>2017</td>\n",
       "      <td>121.73190</td>\n",
       "      <td>120.139827</td>\n",
       "      <td>NaN</td>\n",
       "      <td>NaN</td>\n",
       "      <td>NaN</td>\n",
       "    </tr>\n",
       "    <tr>\n",
       "      <td>3386</td>\n",
       "      <td>COL</td>\n",
       "      <td>2015</td>\n",
       "      <td>43.98483</td>\n",
       "      <td>NaN</td>\n",
       "      <td>NaN</td>\n",
       "      <td>NaN</td>\n",
       "      <td>NaN</td>\n",
       "    </tr>\n",
       "    <tr>\n",
       "      <td>3387</td>\n",
       "      <td>COL</td>\n",
       "      <td>2016</td>\n",
       "      <td>46.05379</td>\n",
       "      <td>NaN</td>\n",
       "      <td>NaN</td>\n",
       "      <td>NaN</td>\n",
       "      <td>NaN</td>\n",
       "    </tr>\n",
       "    <tr>\n",
       "      <td>3388</td>\n",
       "      <td>COL</td>\n",
       "      <td>2017</td>\n",
       "      <td>46.40100</td>\n",
       "      <td>NaN</td>\n",
       "      <td>NaN</td>\n",
       "      <td>NaN</td>\n",
       "      <td>NaN</td>\n",
       "    </tr>\n",
       "    <tr>\n",
       "      <td>3389</td>\n",
       "      <td>COL</td>\n",
       "      <td>2018</td>\n",
       "      <td>47.16065</td>\n",
       "      <td>NaN</td>\n",
       "      <td>NaN</td>\n",
       "      <td>NaN</td>\n",
       "      <td>NaN</td>\n",
       "    </tr>\n",
       "  </tbody>\n",
       "</table>\n",
       "<p>3390 rows × 7 columns</p>\n",
       "</div>"
      ],
      "text/plain": [
       "     country  year  household debt  labour comp per hour age group  \\\n",
       "0        AUS  1995        94.86145              5.638905       NaN   \n",
       "1        AUS  1995        94.86145             52.416612       NaN   \n",
       "2        AUS  1996        98.62147              6.317506       NaN   \n",
       "3        AUS  1996        98.62147             55.728035       NaN   \n",
       "4        AUS  1997       106.62240              2.936676       NaN   \n",
       "...      ...   ...             ...                   ...       ...   \n",
       "3385     NZL  2017       121.73190            120.139827       NaN   \n",
       "3386     COL  2015        43.98483                   NaN       NaN   \n",
       "3387     COL  2016        46.05379                   NaN       NaN   \n",
       "3388     COL  2017        46.40100                   NaN       NaN   \n",
       "3389     COL  2018        47.16065                   NaN       NaN   \n",
       "\n",
       "      poverty rate  internet access  \n",
       "0              NaN              NaN  \n",
       "1              NaN              NaN  \n",
       "2              NaN              NaN  \n",
       "3              NaN              NaN  \n",
       "4              NaN              NaN  \n",
       "...            ...              ...  \n",
       "3385           NaN              NaN  \n",
       "3386           NaN              NaN  \n",
       "3387           NaN              NaN  \n",
       "3388           NaN              NaN  \n",
       "3389           NaN              NaN  \n",
       "\n",
       "[3390 rows x 7 columns]"
      ]
     },
     "execution_count": 68,
     "metadata": {},
     "output_type": "execute_result"
    }
   ],
   "source": [
    "house_debt"
   ]
  },
  {
   "cell_type": "code",
   "execution_count": 69,
   "metadata": {},
   "outputs": [],
   "source": [
    "economic_info = house_debt.merge(unemp_rate, how = 'left', on= [\"country\", \"year\"]).reset_index(drop = True)"
   ]
  },
  {
   "cell_type": "code",
   "execution_count": 70,
   "metadata": {},
   "outputs": [
    {
     "data": {
      "text/plain": [
       "country                   0\n",
       "year                      0\n",
       "household debt            0\n",
       "labour comp per hour     69\n",
       "age group               754\n",
       "poverty rate            754\n",
       "internet access         951\n",
       "unemployment rate       237\n",
       "dtype: int64"
      ]
     },
     "execution_count": 70,
     "metadata": {},
     "output_type": "execute_result"
    }
   ],
   "source": [
    "economic_info.isna().sum()"
   ]
  },
  {
   "cell_type": "code",
   "execution_count": 71,
   "metadata": {},
   "outputs": [
    {
     "data": {
      "text/plain": [
       "3390"
      ]
     },
     "execution_count": 71,
     "metadata": {},
     "output_type": "execute_result"
    }
   ],
   "source": [
    "len(economic_info)"
   ]
  },
  {
   "cell_type": "code",
   "execution_count": 72,
   "metadata": {},
   "outputs": [],
   "source": [
    "country_code = {'AFG': 'Afghanistan','ALA': 'Aland Islands','ALB': 'Albania','DZA': 'Algeria','ASM': 'American Samoa','AND': 'Andorra','AGO': 'Angola','AIA': 'Anguilla','ATA': 'Antarctica','ATG': 'Antigua and Barbuda','ARG': 'Argentina','ARM': 'Armenia','ABW': 'Aruba','AUS': 'Australia','AUT': 'Austria','AZE': 'Azerbaijan','BHS': 'Bahamas','BHR': 'Bahrain','BGD': 'Bangladesh','BRB': 'Barbados','BLR': 'Belarus','BEL': 'Belgium','BLZ': 'Belize','BEN': 'Benin','BMU': 'Bermuda','BTN': 'Bhutan','BOL': 'Bolivia','BES': 'Bonaire, Saint Eustatius and Saba ','BIH': 'Bosnia and Herzegovina','BWA': 'Botswana','BVT': 'Bouvet Island','BRA': 'Brazil','IOT': 'British Indian Ocean Territory','VGB': 'British Virgin Islands','BRN': 'Brunei','BGR': 'Bulgaria','BFA': 'Burkina Faso','BDI': 'Burundi','KHM': 'Cambodia','CMR': 'Cameroon','CAN': 'Canada','CPV': 'Cape Verde','CYM': 'Cayman Islands','CAF': 'Central African Republic','TCD': 'Chad','CHL': 'Chile','CHN': 'China','CXR': 'Christmas Island','CCK': 'Cocos Islands','COL': 'Colombia','COM': 'Comoros','COK': 'Cook Islands','CRI': 'Costa Rica','HRV': 'Croatia','CUB': 'Cuba','CUW': 'Curacao','CYP': 'Cyprus','CZE': 'Czech Republic','COD': 'Democratic Republic of the Congo','DNK': 'Denmark','DJI': 'Djibouti','DMA': 'Dominica','DOM': 'Dominican Republic','TLS': 'East Timor','ECU': 'Ecuador','EGY': 'Egypt','SLV': 'El Salvador','GNQ': 'Equatorial Guinea','ERI': 'Eritrea','EST': 'Estonia','ETH': 'Ethiopia','FLK': 'Falkland Islands','FRO': 'Faroe Islands','FJI': 'Fiji','FIN': 'Finland','FRA': 'France','GUF': 'French Guiana','PYF': 'French Polynesia','ATF': 'French Southern Territories','GAB': 'Gabon','GMB': 'Gambia','GEO': 'Georgia','DEU': 'Germany','GHA': 'Ghana','GIB': 'Gibraltar','GRC': 'Greece','GRL': 'Greenland','GRD': 'Grenada','GLP': 'Guadeloupe','GUM': 'Guam','GTM': 'Guatemala','GGY': 'Guernsey','GIN': 'Guinea','GNB': 'Guinea-Bissau','GUY': 'Guyana','HTI': 'Haiti','HMD': 'Heard Island and McDonald Islands','HND': 'Honduras','HKG': 'Hong Kong','HUN': 'Hungary','ISL': 'Iceland','IND': 'India','IDN': 'Indonesia','IRN': 'Iran','IRQ': 'Iraq','IRL': 'Ireland','IMN': 'Isle of Man','ISR': 'Israel','ITA': 'Italy','CIV': 'Ivory Coast','JAM': 'Jamaica','JPN': 'Japan','JEY': 'Jersey','JOR': 'Jordan','KAZ': 'Kazakhstan','KEN': 'Kenya','KIR': 'Kiribati','XKX': 'Kosovo','KWT': 'Kuwait','KGZ': 'Kyrgyzstan','LAO': 'Laos','LVA': 'Latvia','LBN': 'Lebanon','LSO': 'Lesotho','LBR': 'Liberia','LBY': 'Libya','LIE': 'Liechtenstein','LTU': 'Lithuania','LUX': 'Luxembourg','MAC': 'Macao','MKD': 'Macedonia','MDG': 'Madagascar','MWI': 'Malawi','MYS': 'Malaysia','MDV': 'Maldives','MLI': 'Mali','MLT': 'Malta','MHL': 'Marshall Islands','MTQ': 'Martinique','MRT': 'Mauritania','MUS': 'Mauritius','MYT': 'Mayotte','MEX': 'Mexico','FSM': 'Micronesia','MDA': 'Moldova','MCO': 'Monaco','MNG': 'Mongolia','MNE': 'Montenegro','MSR': 'Montserrat','MAR': 'Morocco','MOZ': 'Mozambique','MMR': 'Myanmar','NAM': 'Namibia','NRU': 'Nauru','NPL': 'Nepal','NLD': 'Netherlands','ANT': 'Netherlands Antilles','NCL': 'New Caledonia','NZL': 'New Zealand','NIC': 'Nicaragua','NER': 'Niger','NGA': 'Nigeria','NIU': 'Niue','NFK': 'Norfolk Island','PRK': 'North Korea','MNP': 'Northern Mariana Islands','NOR': 'Norway','OMN': 'Oman','PAK': 'Pakistan','PLW': 'Palau','PSE': 'Palestinian Territory','PAN': 'Panama','PNG': 'Papua New Guinea','PRY': 'Paraguay','PER': 'Peru','PHL': 'Philippines','PCN': 'Pitcairn','POL': 'Poland','PRT': 'Portugal','PRI': 'Puerto Rico','QAT': 'Qatar','COG': 'Republic of the Congo','REU': 'Reunion','ROU': 'Romania','RUS': 'Russia','RWA': 'Rwanda','BLM': 'Saint Barthelemy','SHN': 'Saint Helena','KNA': 'Saint Kitts and Nevis','LCA': 'Saint Lucia','MAF': 'Saint Martin','SPM': 'Saint Pierre and Miquelon','VCT': 'Saint Vincent and the Grenadines','WSM': 'Samoa','SMR': 'San Marino','STP': 'Sao Tome and Principe','SAU': 'Saudi Arabia','SEN': 'Senegal','SRB': 'Serbia','SCG': 'Serbia and Montenegro','SYC': 'Seychelles','SLE': 'Sierra Leone','SGP': 'Singapore','SXM': 'Sint Maarten','SVK': 'Slovakia','SVN': 'Slovenia','SLB': 'Solomon Islands','SOM': 'Somalia','ZAF': 'South Africa','SGS': 'South Georgia and the South Sandwich Islands','KOR': 'South Korea','SSD': 'South Sudan','ESP': 'Spain','LKA': 'Sri Lanka','SDN': 'Sudan','SUR': 'Suriname','SJM': 'Svalbard and Jan Mayen','SWZ': 'Swaziland','SWE': 'Sweden','CHE': 'Switzerland','SYR': 'Syria','TWN': 'Taiwan','TJK': 'Tajikistan','TZA': 'Tanzania','THA': 'Thailand','TGO': 'Togo','TKL': 'Tokelau','TON': 'Tonga','TTO': 'Trinidad and Tobago','TUN': 'Tunisia','TUR': 'Turkey','TKM': 'Turkmenistan','TCA': 'Turks and Caicos Islands','TUV': 'Tuvalu','VIR': 'U.S. Virgin Islands','UGA': 'Uganda','UKR': 'Ukraine','ARE': 'United Arab Emirates','GBR': 'United Kingdom','USA': 'United States','UMI': 'United States Minor Outlying Islands','URY': 'Uruguay','UZB': 'Uzbekistan','VUT': 'Vanuatu','VAT': 'Vatican','VEN': 'Venezuela','VNM': 'Vietnam','WLF': 'Wallis and Futuna','ESH': 'Western Sahara','YEM': 'Yemen','ZMB': 'Zambia','ZWE': 'Zimbabwe'}"
   ]
  },
  {
   "cell_type": "code",
   "execution_count": 73,
   "metadata": {},
   "outputs": [],
   "source": [
    "#for country in economic_info[\"country\"]:\n",
    "#    if country in country_code:\n",
    "#        economic_info[\"country\"] = country"
   ]
  },
  {
   "cell_type": "code",
   "execution_count": 81,
   "metadata": {},
   "outputs": [],
   "source": [
    "for i in range(len(economic_info)):\n",
    "    economic_info.loc[i, \"country\"] = country_code[economic_info.loc[i, \"country\"]]"
   ]
  },
  {
   "cell_type": "code",
   "execution_count": 82,
   "metadata": {},
   "outputs": [
    {
     "data": {
      "text/html": [
       "<div>\n",
       "<style scoped>\n",
       "    .dataframe tbody tr th:only-of-type {\n",
       "        vertical-align: middle;\n",
       "    }\n",
       "\n",
       "    .dataframe tbody tr th {\n",
       "        vertical-align: top;\n",
       "    }\n",
       "\n",
       "    .dataframe thead th {\n",
       "        text-align: right;\n",
       "    }\n",
       "</style>\n",
       "<table border=\"1\" class=\"dataframe\">\n",
       "  <thead>\n",
       "    <tr style=\"text-align: right;\">\n",
       "      <th></th>\n",
       "      <th>country</th>\n",
       "      <th>year</th>\n",
       "      <th>household debt</th>\n",
       "      <th>labour comp per hour</th>\n",
       "      <th>age group</th>\n",
       "      <th>poverty rate</th>\n",
       "      <th>internet access</th>\n",
       "      <th>unemployment rate</th>\n",
       "    </tr>\n",
       "  </thead>\n",
       "  <tbody>\n",
       "    <tr>\n",
       "      <td>0</td>\n",
       "      <td>Australia</td>\n",
       "      <td>1995</td>\n",
       "      <td>94.86145</td>\n",
       "      <td>5.638905</td>\n",
       "      <td>NaN</td>\n",
       "      <td>NaN</td>\n",
       "      <td>NaN</td>\n",
       "      <td>8.472281</td>\n",
       "    </tr>\n",
       "    <tr>\n",
       "      <td>1</td>\n",
       "      <td>Australia</td>\n",
       "      <td>1995</td>\n",
       "      <td>94.86145</td>\n",
       "      <td>52.416612</td>\n",
       "      <td>NaN</td>\n",
       "      <td>NaN</td>\n",
       "      <td>NaN</td>\n",
       "      <td>8.472281</td>\n",
       "    </tr>\n",
       "    <tr>\n",
       "      <td>2</td>\n",
       "      <td>Australia</td>\n",
       "      <td>1996</td>\n",
       "      <td>98.62147</td>\n",
       "      <td>6.317506</td>\n",
       "      <td>NaN</td>\n",
       "      <td>NaN</td>\n",
       "      <td>NaN</td>\n",
       "      <td>8.506114</td>\n",
       "    </tr>\n",
       "    <tr>\n",
       "      <td>3</td>\n",
       "      <td>Australia</td>\n",
       "      <td>1996</td>\n",
       "      <td>98.62147</td>\n",
       "      <td>55.728035</td>\n",
       "      <td>NaN</td>\n",
       "      <td>NaN</td>\n",
       "      <td>NaN</td>\n",
       "      <td>8.506114</td>\n",
       "    </tr>\n",
       "    <tr>\n",
       "      <td>4</td>\n",
       "      <td>Australia</td>\n",
       "      <td>1997</td>\n",
       "      <td>106.62240</td>\n",
       "      <td>2.936676</td>\n",
       "      <td>NaN</td>\n",
       "      <td>NaN</td>\n",
       "      <td>NaN</td>\n",
       "      <td>8.362488</td>\n",
       "    </tr>\n",
       "    <tr>\n",
       "      <td>...</td>\n",
       "      <td>...</td>\n",
       "      <td>...</td>\n",
       "      <td>...</td>\n",
       "      <td>...</td>\n",
       "      <td>...</td>\n",
       "      <td>...</td>\n",
       "      <td>...</td>\n",
       "      <td>...</td>\n",
       "    </tr>\n",
       "    <tr>\n",
       "      <td>3385</td>\n",
       "      <td>New Zealand</td>\n",
       "      <td>2017</td>\n",
       "      <td>121.73190</td>\n",
       "      <td>120.139827</td>\n",
       "      <td>NaN</td>\n",
       "      <td>NaN</td>\n",
       "      <td>NaN</td>\n",
       "      <td>4.700000</td>\n",
       "    </tr>\n",
       "    <tr>\n",
       "      <td>3386</td>\n",
       "      <td>Colombia</td>\n",
       "      <td>2015</td>\n",
       "      <td>43.98483</td>\n",
       "      <td>NaN</td>\n",
       "      <td>NaN</td>\n",
       "      <td>NaN</td>\n",
       "      <td>NaN</td>\n",
       "      <td>8.960834</td>\n",
       "    </tr>\n",
       "    <tr>\n",
       "      <td>3387</td>\n",
       "      <td>Colombia</td>\n",
       "      <td>2016</td>\n",
       "      <td>46.05379</td>\n",
       "      <td>NaN</td>\n",
       "      <td>NaN</td>\n",
       "      <td>NaN</td>\n",
       "      <td>NaN</td>\n",
       "      <td>9.274167</td>\n",
       "    </tr>\n",
       "    <tr>\n",
       "      <td>3388</td>\n",
       "      <td>Colombia</td>\n",
       "      <td>2017</td>\n",
       "      <td>46.40100</td>\n",
       "      <td>NaN</td>\n",
       "      <td>NaN</td>\n",
       "      <td>NaN</td>\n",
       "      <td>NaN</td>\n",
       "      <td>9.425834</td>\n",
       "    </tr>\n",
       "    <tr>\n",
       "      <td>3389</td>\n",
       "      <td>Colombia</td>\n",
       "      <td>2018</td>\n",
       "      <td>47.16065</td>\n",
       "      <td>NaN</td>\n",
       "      <td>NaN</td>\n",
       "      <td>NaN</td>\n",
       "      <td>NaN</td>\n",
       "      <td>9.719167</td>\n",
       "    </tr>\n",
       "  </tbody>\n",
       "</table>\n",
       "<p>3390 rows × 8 columns</p>\n",
       "</div>"
      ],
      "text/plain": [
       "          country  year  household debt  labour comp per hour age group  \\\n",
       "0       Australia  1995        94.86145              5.638905       NaN   \n",
       "1       Australia  1995        94.86145             52.416612       NaN   \n",
       "2       Australia  1996        98.62147              6.317506       NaN   \n",
       "3       Australia  1996        98.62147             55.728035       NaN   \n",
       "4       Australia  1997       106.62240              2.936676       NaN   \n",
       "...           ...   ...             ...                   ...       ...   \n",
       "3385  New Zealand  2017       121.73190            120.139827       NaN   \n",
       "3386     Colombia  2015        43.98483                   NaN       NaN   \n",
       "3387     Colombia  2016        46.05379                   NaN       NaN   \n",
       "3388     Colombia  2017        46.40100                   NaN       NaN   \n",
       "3389     Colombia  2018        47.16065                   NaN       NaN   \n",
       "\n",
       "      poverty rate  internet access  unemployment rate  \n",
       "0              NaN              NaN           8.472281  \n",
       "1              NaN              NaN           8.472281  \n",
       "2              NaN              NaN           8.506114  \n",
       "3              NaN              NaN           8.506114  \n",
       "4              NaN              NaN           8.362488  \n",
       "...            ...              ...                ...  \n",
       "3385           NaN              NaN           4.700000  \n",
       "3386           NaN              NaN           8.960834  \n",
       "3387           NaN              NaN           9.274167  \n",
       "3388           NaN              NaN           9.425834  \n",
       "3389           NaN              NaN           9.719167  \n",
       "\n",
       "[3390 rows x 8 columns]"
      ]
     },
     "execution_count": 82,
     "metadata": {},
     "output_type": "execute_result"
    }
   ],
   "source": [
    "economic_info"
   ]
  },
  {
   "cell_type": "code",
   "execution_count": 83,
   "metadata": {},
   "outputs": [],
   "source": [
    "economic_info.to_csv(\"data/economic_info.csv\")"
   ]
  },
  {
   "cell_type": "code",
   "execution_count": null,
   "metadata": {},
   "outputs": [],
   "source": []
  }
 ],
 "metadata": {
  "kernelspec": {
   "display_name": "Python 3",
   "language": "python",
   "name": "python3"
  },
  "language_info": {
   "codemirror_mode": {
    "name": "ipython",
    "version": 3
   },
   "file_extension": ".py",
   "mimetype": "text/x-python",
   "name": "python",
   "nbconvert_exporter": "python",
   "pygments_lexer": "ipython3",
   "version": "3.7.4"
  }
 },
 "nbformat": 4,
 "nbformat_minor": 2
}
