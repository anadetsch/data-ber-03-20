{
 "cells": [
  {
   "cell_type": "markdown",
   "metadata": {},
   "source": [
    "## Challenge 1:\n",
    "\n",
    "#### Difference between expected value and mean:\n",
    "\n",
    "Mean is defined as the sum of a collection of numbers divided by the number of numbers in the collection. We know the exact numbers. \n",
    "Expected value (EV) is the long-run average value of repetitions of the experiment it represents. Is the mean that we expect to obtain when analysing a random collection of numbers. "
   ]
  },
  {
   "cell_type": "markdown",
   "metadata": {},
   "source": [
    "## Challenge 2:\n",
    "\n",
    "#### \"Problem\" in science with p-values?\n",
    "\n",
    "Non significant doesn't mean non effect. The biggest problem is assuming that, just because the p-value is outside some preconcepted threshold, the study should be discarted as having non effect. \n",
    "\n"
   ]
  },
  {
   "cell_type": "markdown",
   "metadata": {},
   "source": [
    "## Challenge 3:\n",
    "\n",
    "#### A/B Testing\n",
    "\n"
   ]
  }
 ],
 "metadata": {
  "kernelspec": {
   "display_name": "Python 3",
   "language": "python",
   "name": "python3"
  },
  "language_info": {
   "codemirror_mode": {
    "name": "ipython",
    "version": 3
   },
   "file_extension": ".py",
   "mimetype": "text/x-python",
   "name": "python",
   "nbconvert_exporter": "python",
   "pygments_lexer": "ipython3",
   "version": "3.7.4"
  }
 },
 "nbformat": 4,
 "nbformat_minor": 2
}
