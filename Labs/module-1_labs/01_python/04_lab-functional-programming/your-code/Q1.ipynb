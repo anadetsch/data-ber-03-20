{
 "cells": [
  {
   "cell_type": "markdown",
   "metadata": {},
   "source": [
    "In the cell below, create a Python function that wraps your previous solution for the Bag of Words lab.\n",
    "\n",
    "Requirements:\n",
    "\n",
    "1. Your function should accept the following parameters:\n",
    "    * `docs` [REQUIRED] - array of document paths.\n",
    "    * `stop_words` [OPTIONAL] - array of stop words. The default value is an empty array.\n",
    "\n",
    "1. Your function should return a Python object that contains the following:\n",
    "    * `bag_of_words` - array of strings of normalized unique words in the corpus.\n",
    "    * `term_freq` - array of the term-frequency vectors."
   ]
  },
  {
   "cell_type": "code",
   "execution_count": 23,
   "metadata": {},
   "outputs": [],
   "source": [
    "import pandas as pd\n",
    "import numpy as np\n",
    "\n",
    "    \n",
    " #   \"\"\"\n",
    " #   Loop `corpus`. Append the terms in each doc into the `bag_of_words` array. The terms in `bag_of_words` \n",
    " #   should be unique which means before adding each term you need to check if it's already added to the array.\n",
    " #   In addition, check if each term is in the `stop_words` array. Only append the term to `bag_of_words`\n",
    " #   if it is not a stop word.\n",
    " #   \"\"\"\n",
    "\n",
    "# Define function\n",
    "# In the function, first define the variables you will use such as `corpus`, `bag_of_words`, and `term_freq`.\n",
    "\n",
    "def get_bow_from_docs(docs, stop_words=[]):\n",
    "    corpus = []\n",
    "    bag_of_words = []\n",
    "    term_freq = []\n",
    "    corpus_clean = []\n",
    "\n",
    "    for document in docs:\n",
    "        with open(document,'r') as f:\n",
    "            lines = f.readlines()[0]\n",
    "            corpus.append(lines)\n",
    "    \n",
    "    for doc in corpus:\n",
    "        corpus_clean.append(doc.lower().replace(\".\",\"\"))\n",
    "\n",
    "    for sentence in corpus_clean:\n",
    "        words = sentence.split(\" \")\n",
    "        for w in words:\n",
    "            if w in stop_words:\n",
    "                continue\n",
    "            if w not in bag_of_words:\n",
    "                bag_of_words.append(w)\n",
    "\n",
    "\n",
    "    for sentence in corpus_clean:\n",
    "        storing_list = []\n",
    "        terms = sentence.split()\n",
    "        for word in bag_of_words:\n",
    "            if word in terms:\n",
    "                storing_list.append(1)\n",
    "            else: \n",
    "                storing_list.append(0)\n",
    "\n",
    "        term_freq.append(storing_list)\n",
    "    \n",
    "\n",
    "    return {\n",
    "        \"bag_of_words\": bag_of_words,\n",
    "        \"term_freq\": term_freq\n",
    "    }\n",
    "\n",
    "    "
   ]
  },
  {
   "cell_type": "markdown",
   "metadata": {},
   "source": [
    "Test your function without stop words. You should see the output like below:\n",
    "\n",
    "```{'bag_of_words': ['ironhack', 'is', 'cool', 'i', 'love', 'am', 'a', 'student', 'at'], 'term_freq': [[1, 1, 1, 0, 0, 0, 0, 0, 0], [1, 0, 0, 1, 1, 0, 0, 0, 0], [1, 0, 0, 1, 0, 1, 1, 1, 1]]}```"
   ]
  },
  {
   "cell_type": "code",
   "execution_count": 24,
   "metadata": {},
   "outputs": [
    {
     "name": "stdout",
     "output_type": "stream",
     "text": [
      "{'bag_of_words': ['ironhack', 'is', 'cool', 'i', 'love', 'am', 'a', 'student', 'at'], 'term_freq': [[1, 1, 1, 0, 0, 0, 0, 0, 0], [1, 0, 0, 1, 1, 0, 0, 0, 0], [1, 0, 0, 1, 0, 1, 1, 1, 1]]}\n"
     ]
    }
   ],
   "source": [
    "# Define doc paths array\n",
    "docs = ['doc1-Copy1.txt', 'doc2-Copy1.txt', 'doc3-Copy1.txt']\n",
    "\n",
    "# Obtain BoW from your function\n",
    "bow = get_bow_from_docs(docs)\n",
    "\n",
    "# Print BoW\n",
    "print(bow)"
   ]
  },
  {
   "cell_type": "markdown",
   "metadata": {},
   "source": [
    "If your attempt above is successful, nice work done!\n",
    "\n",
    "Now test your function again with the stop words. In the previous lab we defined the stop words in a large array. In this lab, we'll import the stop words from Scikit-Learn."
   ]
  },
  {
   "cell_type": "code",
   "execution_count": 25,
   "metadata": {},
   "outputs": [
    {
     "name": "stdout",
     "output_type": "stream",
     "text": [
      "frozenset({'than', 'first', 'well', 'being', 'our', 'i', 'of', 'between', 'nobody', 'its', 'empty', 'this', 'keep', 'whatever', 'further', 'thru', 'from', 'became', 'amount', 'upon', 'by', 'so', 'ours', 'can', 'to', 'elsewhere', 'her', 'down', 'for', 'she', 'inc', 'fifteen', 'couldnt', 'anyone', 'one', 'without', 'nevertheless', 'through', 'un', 'side', 'under', 'been', 'each', 'serious', 're', 'should', 'never', 'although', 'every', 'too', 'any', 'meanwhile', 'the', 'latterly', 'show', 'something', 'and', 'my', 'but', 'wherever', 'whereafter', 'ie', 'what', 'such', 'ltd', 'eight', 'here', 'which', 'hasnt', 'seem', 'sometimes', 'whereby', 'nor', 'him', 'nothing', 'somehow', 'beyond', 'give', 'until', 'get', 'put', 'latter', 'may', 'still', 'am', 'made', 'other', 'part', 'go', 'is', 'cannot', 'their', 'had', 'whereas', 'since', 'except', 'are', 'describe', 'via', 'anything', 'six', 'eg', 'could', 'twelve', 'below', 'found', 'formerly', 'we', 'however', 'forty', 'becoming', 'nowhere', 'though', 'on', 'also', 'was', 'fifty', 'thick', 'thence', 'already', 'a', 'interest', 'often', 'top', 'must', 'you', 'against', 'within', 'how', 'only', 'etc', 'before', 'whom', 'along', 'not', 'behind', 'anyway', 'enough', 'few', 'whole', 'when', 'during', 'both', 'almost', 'none', 'whenever', 'seeming', 'ten', 'fill', 'everything', 'last', 'namely', 'myself', 'seems', 'throughout', 'more', 'noone', 'hereby', 'mine', 'amongst', 'then', 'thereby', 'several', 'up', 'done', 'if', 'those', 'two', 'someone', 'very', 'herein', 'over', 'once', 'themselves', 'next', 'around', 'thereupon', 'us', 'even', 'seemed', 'where', 'whither', 'everywhere', 'wherein', 'front', 'mill', 'yet', 'co', 'eleven', 'toward', 'con', 'nine', 'alone', 'after', 'whose', 'hers', 'all', 'were', 'rather', 'same', 'amoungst', 'out', 'have', 'as', 'either', 'whereupon', 'into', 'moreover', 'neither', 'become', 'perhaps', 'back', 'who', 'again', 'thereafter', 'hundred', 'they', 'whoever', 'while', 'at', 'less', 'own', 'whence', 'anywhere', 'your', 'beforehand', 'cry', 'find', 'in', 'about', 'besides', 'former', 'twenty', 'detail', 'his', 'five', 'yourselves', 'yourself', 'see', 'that', 'together', 'it', 'full', 'ourselves', 'them', 'due', 'no', 'name', 'these', 'per', 'system', 'three', 'yours', 'sometime', 'somewhere', 'much', 'there', 'take', 'some', 'itself', 'bill', 'please', 'above', 'will', 'fire', 'call', 'afterwards', 'with', 'beside', 'everyone', 'now', 'bottom', 'be', 'whether', 'towards', 'might', 'cant', 'becomes', 'therefore', 'thus', 'herself', 'least', 'indeed', 'most', 'hence', 'otherwise', 'third', 'else', 'anyhow', 'because', 'others', 'another', 'many', 'would', 'himself', 'onto', 'me', 'do', 'an', 'hereafter', 'sincere', 'has', 'thin', 'four', 'sixty', 'he', 'hereupon', 'across', 'mostly', 'why', 'ever', 'always', 'move', 'among', 'or', 'de', 'off', 'therein'})\n"
     ]
    }
   ],
   "source": [
    "from sklearn.feature_extraction import stop_words\n",
    "print(stop_words.ENGLISH_STOP_WORDS)"
   ]
  },
  {
   "cell_type": "markdown",
   "metadata": {},
   "source": [
    "You should have seen a large list of words that looks like:\n",
    "\n",
    "```frozenset({'across', 'mine', 'cannot', ...})```\n",
    "\n",
    "`frozenset` is a type of Python object that is immutable. In this lab you can use it just like an array without conversion."
   ]
  },
  {
   "cell_type": "markdown",
   "metadata": {},
   "source": [
    "Next, test your function with supplying `stop_words.ENGLISH_STOP_WORDS` as the second parameter."
   ]
  },
  {
   "cell_type": "code",
   "execution_count": 28,
   "metadata": {},
   "outputs": [
    {
     "name": "stdout",
     "output_type": "stream",
     "text": [
      "{'bag_of_words': ['ironhack', 'cool', 'love', 'student'], 'term_freq': [[1, 1, 0, 0], [1, 0, 1, 0], [1, 0, 0, 1]]}\n"
     ]
    }
   ],
   "source": [
    "bow = get_bow_from_docs(docs, stop_words.ENGLISH_STOP_WORDS)\n",
    "\n",
    "print(bow)"
   ]
  },
  {
   "cell_type": "markdown",
   "metadata": {},
   "source": [
    "You should have seen:\n",
    "\n",
    "```{'bag_of_words': ['ironhack', 'cool', 'love', 'student'], 'term_freq': [[1, 1, 0, 0], [1, 0, 1, 0], [1, 0, 0, 1]]}```"
   ]
  },
  {
   "cell_type": "code",
   "execution_count": null,
   "metadata": {},
   "outputs": [],
   "source": []
  }
 ],
 "metadata": {
  "kernelspec": {
   "display_name": "Python 3",
   "language": "python",
   "name": "python3"
  },
  "language_info": {
   "codemirror_mode": {
    "name": "ipython",
    "version": 3
   },
   "file_extension": ".py",
   "mimetype": "text/x-python",
   "name": "python",
   "nbconvert_exporter": "python",
   "pygments_lexer": "ipython3",
   "version": "3.7.4"
  }
 },
 "nbformat": 4,
 "nbformat_minor": 4
}
