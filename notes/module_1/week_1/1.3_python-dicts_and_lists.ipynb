{
 "cells": [
  {
   "cell_type": "markdown",
   "metadata": {},
   "source": [
    "# Dicts & Lists\n",
    "\n",
    "## 1. Using `dict`s for control flow\n",
    "\n",
    "We're at a supermarket. For all customers that are checking out, we want to give them a little something to make them less grumpy.\n",
    "\n",
    "For purchases:\n",
    "```\n",
    "x < 10 : Chocolate\n",
    "10 <= x < 20 : Beer\n",
    "20 <= x < 30 : Wine\n",
    "30 <= x < 40 : Avocado\n",
    "```\n"
   ]
  },
  {
   "cell_type": "code",
   "execution_count": 3,
   "metadata": {},
   "outputs": [],
   "source": [
    "import random\n",
    "\n",
    "shoppers = random.sample(range(40), 20)"
   ]
  },
  {
   "cell_type": "code",
   "execution_count": 4,
   "metadata": {},
   "outputs": [
    {
     "data": {
      "text/plain": [
       "[2, 10, 8, 18, 17, 31, 3, 13, 32, 23, 26, 20, 21, 36, 35, 33, 30, 9, 1, 22]"
      ]
     },
     "execution_count": 4,
     "metadata": {},
     "output_type": "execute_result"
    }
   ],
   "source": [
    "shoppers"
   ]
  },
  {
   "cell_type": "markdown",
   "metadata": {},
   "source": [
    "Sampling with replacement"
   ]
  },
  {
   "cell_type": "code",
   "execution_count": 5,
   "metadata": {},
   "outputs": [],
   "source": [
    "shoppers_n = random.choices(range(40), k = 20)"
   ]
  },
  {
   "cell_type": "code",
   "execution_count": 6,
   "metadata": {},
   "outputs": [
    {
     "data": {
      "text/plain": [
       "[39, 30, 23, 37, 38, 0, 17, 16, 2, 1, 21, 33, 27, 24, 22, 19, 5, 23, 8, 2]"
      ]
     },
     "execution_count": 6,
     "metadata": {},
     "output_type": "execute_result"
    }
   ],
   "source": [
    "shoppers_n"
   ]
  },
  {
   "cell_type": "code",
   "execution_count": 11,
   "metadata": {},
   "outputs": [
    {
     "name": "stdout",
     "output_type": "stream",
     "text": [
      "Avocado\n",
      "Avocado\n",
      "Wine\n",
      "Avocado\n",
      "Avocado\n",
      "Chocolate\n",
      "Beer\n",
      "Beer\n",
      "Chocolate\n",
      "Chocolate\n",
      "Wine\n",
      "Avocado\n",
      "Wine\n",
      "Wine\n",
      "Wine\n",
      "Beer\n",
      "Chocolate\n",
      "Wine\n",
      "Chocolate\n",
      "Chocolate\n"
     ]
    }
   ],
   "source": [
    "for purchase_price in shoppers_n:\n",
    "    if purchase_price < 10:\n",
    "        print(\"Chocolate\")\n",
    "    elif purchase_price < 20:\n",
    "        print(\"Beer\")\n",
    "    elif purchase_price < 30:\n",
    "        print(\"Wine\")\n",
    "    elif purchase_price < 40:\n",
    "        print(\"Avocado\")"
   ]
  },
  {
   "cell_type": "markdown",
   "metadata": {},
   "source": [
    "Simplify by not checking for ranges:"
   ]
  },
  {
   "cell_type": "code",
   "execution_count": 12,
   "metadata": {},
   "outputs": [
    {
     "data": {
      "text/plain": [
       "[39, 30, 23, 37, 38, 0, 17, 16, 2, 1, 21, 33, 27, 24, 22, 19, 5, 23, 8, 2]"
      ]
     },
     "execution_count": 12,
     "metadata": {},
     "output_type": "execute_result"
    }
   ],
   "source": [
    "shoppers_n"
   ]
  },
  {
   "cell_type": "code",
   "execution_count": 13,
   "metadata": {},
   "outputs": [
    {
     "data": {
      "text/plain": [
       "3"
      ]
     },
     "execution_count": 13,
     "metadata": {},
     "output_type": "execute_result"
    }
   ],
   "source": [
    "int(shoppers_n[0]/10)"
   ]
  },
  {
   "cell_type": "code",
   "execution_count": 14,
   "metadata": {},
   "outputs": [
    {
     "data": {
      "text/plain": [
       "1"
      ]
     },
     "execution_count": 14,
     "metadata": {},
     "output_type": "execute_result"
    }
   ],
   "source": [
    "int(shoppers_n[6]/10)"
   ]
  },
  {
   "cell_type": "code",
   "execution_count": 15,
   "metadata": {},
   "outputs": [
    {
     "data": {
      "text/plain": [
       "0"
      ]
     },
     "execution_count": 15,
     "metadata": {},
     "output_type": "execute_result"
    }
   ],
   "source": [
    "int(shoppers_n[8]/10)"
   ]
  },
  {
   "cell_type": "code",
   "execution_count": 16,
   "metadata": {},
   "outputs": [
    {
     "name": "stdout",
     "output_type": "stream",
     "text": [
      "Avocado\n",
      "Avocado\n",
      "Wine\n",
      "Avocado\n",
      "Avocado\n",
      "Chocolate\n",
      "Beer\n",
      "Beer\n",
      "Chocolate\n",
      "Chocolate\n",
      "Wine\n",
      "Avocado\n",
      "Wine\n",
      "Wine\n",
      "Wine\n",
      "Beer\n",
      "Chocolate\n",
      "Wine\n",
      "Chocolate\n",
      "Chocolate\n"
     ]
    }
   ],
   "source": [
    "for purchase_price in shoppers_n:\n",
    "    purchase_price = int(purchase_price/10)\n",
    "    if purchase_price == 3:\n",
    "        print(\"Avocado\")\n",
    "    elif purchase_price == 2:\n",
    "        print(\"Wine\")\n",
    "    elif purchase_price == 1:\n",
    "        print(\"Beer\")\n",
    "    else:\n",
    "        print(\"Chocolate\")"
   ]
  },
  {
   "cell_type": "markdown",
   "metadata": {},
   "source": [
    "Add dicts:"
   ]
  },
  {
   "cell_type": "code",
   "execution_count": 17,
   "metadata": {},
   "outputs": [],
   "source": [
    "rewards = {0 : \"Chocolate\", \n",
    "           1 : \"Beer\", \n",
    "           2 : \"Wine\", \n",
    "           3 : \"Avocado\"}"
   ]
  },
  {
   "cell_type": "code",
   "execution_count": 18,
   "metadata": {},
   "outputs": [
    {
     "data": {
      "text/plain": [
       "{0: 'Chocolate', 1: 'Beer', 2: 'Wine', 3: 'Avocado'}"
      ]
     },
     "execution_count": 18,
     "metadata": {},
     "output_type": "execute_result"
    }
   ],
   "source": [
    "rewards"
   ]
  },
  {
   "cell_type": "code",
   "execution_count": 19,
   "metadata": {},
   "outputs": [
    {
     "data": {
      "text/plain": [
       "'Chocolate'"
      ]
     },
     "execution_count": 19,
     "metadata": {},
     "output_type": "execute_result"
    }
   ],
   "source": [
    "# in this case inside the brackets we don't give position but key lable.\n",
    "rewards[0]"
   ]
  },
  {
   "cell_type": "code",
   "execution_count": 20,
   "metadata": {},
   "outputs": [
    {
     "name": "stdout",
     "output_type": "stream",
     "text": [
      "Avocado\n",
      "Avocado\n",
      "Wine\n",
      "Avocado\n",
      "Avocado\n",
      "Chocolate\n",
      "Beer\n",
      "Beer\n",
      "Chocolate\n",
      "Chocolate\n",
      "Wine\n",
      "Avocado\n",
      "Wine\n",
      "Wine\n",
      "Wine\n",
      "Beer\n",
      "Chocolate\n",
      "Wine\n",
      "Chocolate\n",
      "Chocolate\n"
     ]
    }
   ],
   "source": [
    "for purchase_price in shoppers_n:\n",
    "    purchase_price = int(purchase_price/10)\n",
    "    print(rewards[purchase_price])"
   ]
  },
  {
   "cell_type": "markdown",
   "metadata": {},
   "source": [
    "Storing functions in dicts"
   ]
  },
  {
   "cell_type": "code",
   "execution_count": 32,
   "metadata": {},
   "outputs": [],
   "source": [
    "def print_chocolate():\n",
    "    print(\"Chocolate\")"
   ]
  },
  {
   "cell_type": "code",
   "execution_count": 33,
   "metadata": {},
   "outputs": [
    {
     "name": "stdout",
     "output_type": "stream",
     "text": [
      "Chocolate\n"
     ]
    }
   ],
   "source": [
    "print_chocolate()"
   ]
  },
  {
   "cell_type": "code",
   "execution_count": 34,
   "metadata": {},
   "outputs": [
    {
     "data": {
      "text/plain": [
       "<function __main__.print_chocolate()>"
      ]
     },
     "execution_count": 34,
     "metadata": {},
     "output_type": "execute_result"
    }
   ],
   "source": [
    "print_chocolate"
   ]
  },
  {
   "cell_type": "code",
   "execution_count": 35,
   "metadata": {},
   "outputs": [],
   "source": [
    "def print_beer():\n",
    "    print(\"Beer\")\n",
    "    \n",
    "def print_wine():\n",
    "    print(\"Wine\")\n",
    "    \n",
    "def print_avocado():\n",
    "    print(\"Avocado\")"
   ]
  },
  {
   "cell_type": "code",
   "execution_count": 36,
   "metadata": {},
   "outputs": [
    {
     "name": "stdout",
     "output_type": "stream",
     "text": [
      "Beer\n"
     ]
    }
   ],
   "source": [
    "print_beer()"
   ]
  },
  {
   "cell_type": "code",
   "execution_count": 37,
   "metadata": {},
   "outputs": [
    {
     "name": "stdout",
     "output_type": "stream",
     "text": [
      "Chocolate\n",
      "Beer\n",
      "Wine\n",
      "Avocado\n"
     ]
    }
   ],
   "source": [
    "# in this case we are calling the function already in the dict and we don't want to do this.\n",
    "\n",
    "reward_printers = {0 : print_chocolate(),\n",
    "                  1 : print_beer(),\n",
    "                  2 : print_wine(),\n",
    "                  3 : print_avocado()}"
   ]
  },
  {
   "cell_type": "code",
   "execution_count": 38,
   "metadata": {},
   "outputs": [
    {
     "data": {
      "text/plain": [
       "{0: None, 1: None, 2: None, 3: None}"
      ]
     },
     "execution_count": 38,
     "metadata": {},
     "output_type": "execute_result"
    }
   ],
   "source": [
    "reward_printers"
   ]
  },
  {
   "cell_type": "code",
   "execution_count": 39,
   "metadata": {},
   "outputs": [],
   "source": [
    "for purchase_price in shoppers_n:\n",
    "    purchase_price = int(purchase_price/10)\n",
    "    reward_printers[purchase_price]"
   ]
  },
  {
   "cell_type": "code",
   "execution_count": 40,
   "metadata": {},
   "outputs": [],
   "source": [
    "# here we are telling our dictionary that if we call the function, it should return the function.\n",
    "\n",
    "rewards_printers = {0 : print_chocolate,\n",
    "                   1 : print_beer,\n",
    "                   2 : print_wine,\n",
    "                   3 : print_avocado}"
   ]
  },
  {
   "cell_type": "code",
   "execution_count": 42,
   "metadata": {},
   "outputs": [
    {
     "data": {
      "text/plain": [
       "{0: <function __main__.print_chocolate()>,\n",
       " 1: <function __main__.print_beer()>,\n",
       " 2: <function __main__.print_wine()>,\n",
       " 3: <function __main__.print_avocado()>}"
      ]
     },
     "execution_count": 42,
     "metadata": {},
     "output_type": "execute_result"
    }
   ],
   "source": [
    "rewards_printers"
   ]
  },
  {
   "cell_type": "code",
   "execution_count": 46,
   "metadata": {},
   "outputs": [
    {
     "name": "stdout",
     "output_type": "stream",
     "text": [
      "Avocado\n",
      "Avocado\n",
      "Wine\n",
      "Avocado\n",
      "Avocado\n",
      "Chocolate\n",
      "Beer\n",
      "Beer\n",
      "Chocolate\n",
      "Chocolate\n",
      "Wine\n",
      "Avocado\n",
      "Wine\n",
      "Wine\n",
      "Wine\n",
      "Beer\n",
      "Chocolate\n",
      "Wine\n",
      "Chocolate\n",
      "Chocolate\n"
     ]
    }
   ],
   "source": [
    "for purchase_price in shoppers_n:\n",
    "    purchase_price = int(purchase_price / 10)\n",
    "    # need to call the function, so use the parentheses. \n",
    "    rewards_printers[purchase_price]()"
   ]
  },
  {
   "cell_type": "markdown",
   "metadata": {},
   "source": [
    "## 2. Using `dict`s to keep scores"
   ]
  },
  {
   "cell_type": "code",
   "execution_count": 47,
   "metadata": {},
   "outputs": [],
   "source": [
    "text = \"Fischers Fritz fischt frische Fische\""
   ]
  },
  {
   "cell_type": "code",
   "execution_count": 48,
   "metadata": {},
   "outputs": [
    {
     "data": {
      "text/plain": [
       "'fischers fritz fischt frische fische'"
      ]
     },
     "execution_count": 48,
     "metadata": {},
     "output_type": "execute_result"
    }
   ],
   "source": [
    "# remove case-sensitivity\n",
    "text.lower()"
   ]
  },
  {
   "cell_type": "code",
   "execution_count": null,
   "metadata": {},
   "outputs": [],
   "source": [
    "letter_occurences = {}\n",
    "\n",
    "for letter in text.lower():\n",
    "    "
   ]
  }
 ],
 "metadata": {
  "kernelspec": {
   "display_name": "Python 3",
   "language": "python",
   "name": "python3"
  },
  "language_info": {
   "codemirror_mode": {
    "name": "ipython",
    "version": 3
   },
   "file_extension": ".py",
   "mimetype": "text/x-python",
   "name": "python",
   "nbconvert_exporter": "python",
   "pygments_lexer": "ipython3",
   "version": "3.8.2"
  }
 },
 "nbformat": 4,
 "nbformat_minor": 4
}
