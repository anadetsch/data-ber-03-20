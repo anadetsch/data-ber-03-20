{
 "cells": [
  {
   "cell_type": "markdown",
   "metadata": {},
   "source": [
    "# Python - List Comprehensions"
   ]
  },
  {
   "cell_type": "code",
   "execution_count": 1,
   "metadata": {},
   "outputs": [],
   "source": [
    "sample = list(range(10))"
   ]
  },
  {
   "cell_type": "code",
   "execution_count": 2,
   "metadata": {},
   "outputs": [
    {
     "data": {
      "text/plain": [
       "[0, 1, 2, 3, 4, 5, 6, 7, 8, 9]"
      ]
     },
     "execution_count": 2,
     "metadata": {},
     "output_type": "execute_result"
    }
   ],
   "source": [
    "sample"
   ]
  },
  {
   "cell_type": "code",
   "execution_count": 3,
   "metadata": {},
   "outputs": [
    {
     "data": {
      "text/plain": [
       "[10, 11, 12, 13, 14, 15, 16, 17, 18, 19]"
      ]
     },
     "execution_count": 3,
     "metadata": {},
     "output_type": "execute_result"
    }
   ],
   "source": [
    "# adding 10 to each element\n",
    "\n",
    "sample_plus_10 = []\n",
    "\n",
    "for i in sample:\n",
    "    sample_plus_10.append(i + 10)\n",
    "    \n",
    "sample_plus_10"
   ]
  },
  {
   "cell_type": "code",
   "execution_count": 5,
   "metadata": {},
   "outputs": [
    {
     "data": {
      "text/plain": [
       "[0, 1, 2, 3, 4, 5, 6, 7, 8, 9]"
      ]
     },
     "execution_count": 5,
     "metadata": {},
     "output_type": "execute_result"
    }
   ],
   "source": [
    "sample"
   ]
  },
  {
   "cell_type": "code",
   "execution_count": 4,
   "metadata": {},
   "outputs": [
    {
     "data": {
      "text/plain": [
       "[10, 11, 12, 13, 14, 15, 16, 17, 18, 19]"
      ]
     },
     "execution_count": 4,
     "metadata": {},
     "output_type": "execute_result"
    }
   ],
   "source": [
    "[i + 10 for i in sample]"
   ]
  },
  {
   "cell_type": "markdown",
   "metadata": {},
   "source": [
    "List comprehensions\n",
    "\n",
    "- use brackets to tell python you want to apply list comprehensions\n",
    "    []\n",
    "- a list comprehensions returns a list\n",
    "\n",
    "[1. component: function or transformation  2. component: loop]"
   ]
  },
  {
   "cell_type": "code",
   "execution_count": 6,
   "metadata": {},
   "outputs": [
    {
     "data": {
      "text/plain": [
       "list"
      ]
     },
     "execution_count": 6,
     "metadata": {},
     "output_type": "execute_result"
    }
   ],
   "source": [
    "type([i + 10 for i in sample])"
   ]
  },
  {
   "cell_type": "code",
   "execution_count": 7,
   "metadata": {},
   "outputs": [],
   "source": [
    "sample_plus_10 = [i + 10 for i in sample]"
   ]
  },
  {
   "cell_type": "code",
   "execution_count": 8,
   "metadata": {},
   "outputs": [
    {
     "data": {
      "text/plain": [
       "[10, 11, 12, 13, 14, 15, 16, 17, 18, 19]"
      ]
     },
     "execution_count": 8,
     "metadata": {},
     "output_type": "execute_result"
    }
   ],
   "source": [
    "sample_plus_10"
   ]
  },
  {
   "cell_type": "code",
   "execution_count": 9,
   "metadata": {},
   "outputs": [
    {
     "data": {
      "text/plain": [
       "[0, 1, 4, 9, 16, 25, 36, 49, 64, 81]"
      ]
     },
     "execution_count": 9,
     "metadata": {},
     "output_type": "execute_result"
    }
   ],
   "source": [
    "[i ** 2 for i in sample]"
   ]
  },
  {
   "cell_type": "markdown",
   "metadata": {},
   "source": [
    "Combining it with control flow"
   ]
  },
  {
   "cell_type": "code",
   "execution_count": 10,
   "metadata": {},
   "outputs": [],
   "source": [
    "import random \n",
    "\n",
    "another_sample = random.sample(range(100), 40)"
   ]
  },
  {
   "cell_type": "code",
   "execution_count": 12,
   "metadata": {},
   "outputs": [
    {
     "data": {
      "text/plain": [
       "[15, 36, 27, 16, 18, 49, 6, 41, 83, 81]"
      ]
     },
     "execution_count": 12,
     "metadata": {},
     "output_type": "execute_result"
    }
   ],
   "source": [
    "another_sample[:10]"
   ]
  },
  {
   "cell_type": "code",
   "execution_count": 13,
   "metadata": {},
   "outputs": [
    {
     "data": {
      "text/plain": [
       "[33,\n",
       " 13,\n",
       " 15,\n",
       " 3,\n",
       " 25,\n",
       " 95,\n",
       " 5,\n",
       " 85,\n",
       " 59,\n",
       " 35,\n",
       " 41,\n",
       " 63,\n",
       " 1,\n",
       " 37,\n",
       " 79,\n",
       " 43,\n",
       " 51,\n",
       " 71,\n",
       " 93,\n",
       " 65,\n",
       " 9,\n",
       " 77]"
      ]
     },
     "execution_count": 13,
     "metadata": {},
     "output_type": "execute_result"
    }
   ],
   "source": [
    "# iterate over another_sample, and keep only those elements that are even\n",
    "# for those that are even, subtract \n",
    "\n",
    "even_minus_three = []\n",
    "for i in another_sample:\n",
    "    # check if i is even\n",
    "    if (i % 2) == 0:\n",
    "        # if it is even, append the list with i - 3\n",
    "        even_minus_three.append(i - 3)\n",
    "        \n",
    "even_minus_three"
   ]
  },
  {
   "cell_type": "code",
   "execution_count": 14,
   "metadata": {},
   "outputs": [
    {
     "data": {
      "text/plain": [
       "[33,\n",
       " 13,\n",
       " 15,\n",
       " 3,\n",
       " 25,\n",
       " 95,\n",
       " 5,\n",
       " 85,\n",
       " 59,\n",
       " 35,\n",
       " 41,\n",
       " 63,\n",
       " 1,\n",
       " 37,\n",
       " 79,\n",
       " 43,\n",
       " 51,\n",
       " 71,\n",
       " 93,\n",
       " 65,\n",
       " 9,\n",
       " 77]"
      ]
     },
     "execution_count": 14,
     "metadata": {},
     "output_type": "execute_result"
    }
   ],
   "source": [
    "# rewriting in list comprehension\n",
    "\n",
    "[i - 3 for i in another_sample if (i % 2) == 0]"
   ]
  },
  {
   "cell_type": "code",
   "execution_count": 15,
   "metadata": {},
   "outputs": [
    {
     "data": {
      "text/plain": [
       "[15,\n",
       " 33,\n",
       " 27,\n",
       " 13,\n",
       " 15,\n",
       " 49,\n",
       " 3,\n",
       " 41,\n",
       " 83,\n",
       " 81,\n",
       " 25,\n",
       " 31,\n",
       " 67,\n",
       " 95,\n",
       " 5,\n",
       " 17,\n",
       " 63,\n",
       " 85,\n",
       " 59,\n",
       " 35,\n",
       " 1,\n",
       " 19,\n",
       " 29,\n",
       " 41,\n",
       " 63,\n",
       " 61,\n",
       " 1,\n",
       " 37,\n",
       " 85,\n",
       " 79,\n",
       " 43,\n",
       " 51,\n",
       " 59,\n",
       " 9,\n",
       " 71,\n",
       " 25,\n",
       " 93,\n",
       " 65,\n",
       " 9,\n",
       " 77]"
      ]
     },
     "execution_count": 15,
     "metadata": {},
     "output_type": "execute_result"
    }
   ],
   "source": [
    "# iterate over another_sample, and keep only those elements that are even\n",
    "# for those that are even, subtract 3, for those that are odd, append the original number\n",
    "\n",
    "even_minus_three = []\n",
    "for i in another_sample:\n",
    "    # check if i is even\n",
    "    if (i % 2) == 0:\n",
    "        # if it is even, append the list with i - 3\n",
    "        even_minus_three.append(i - 3)\n",
    "    else:\n",
    "        even_minus_three.append(i)\n",
    "        \n",
    "even_minus_three"
   ]
  },
  {
   "cell_type": "code",
   "execution_count": 16,
   "metadata": {},
   "outputs": [
    {
     "data": {
      "text/plain": [
       "[15,\n",
       " 33,\n",
       " 27,\n",
       " 13,\n",
       " 15,\n",
       " 49,\n",
       " 3,\n",
       " 41,\n",
       " 83,\n",
       " 81,\n",
       " 25,\n",
       " 31,\n",
       " 67,\n",
       " 95,\n",
       " 5,\n",
       " 17,\n",
       " 63,\n",
       " 85,\n",
       " 59,\n",
       " 35,\n",
       " 1,\n",
       " 19,\n",
       " 29,\n",
       " 41,\n",
       " 63,\n",
       " 61,\n",
       " 1,\n",
       " 37,\n",
       " 85,\n",
       " 79,\n",
       " 43,\n",
       " 51,\n",
       " 59,\n",
       " 9,\n",
       " 71,\n",
       " 25,\n",
       " 93,\n",
       " 65,\n",
       " 9,\n",
       " 77]"
      ]
     },
     "execution_count": 16,
     "metadata": {},
     "output_type": "execute_result"
    }
   ],
   "source": [
    "# iterate over another_sample, and keep only those elements that are even\n",
    "# for those that are even, subtract 3, for those that are odd, append the original number\n",
    "#using ternary operator\n",
    "\n",
    "even_minus_three = []\n",
    "for i in another_sample:\n",
    "    even_minus_three.append(i - 3 if (i % 2) == 0 else i)\n",
    "        \n",
    "even_minus_three"
   ]
  },
  {
   "cell_type": "code",
   "execution_count": 17,
   "metadata": {},
   "outputs": [
    {
     "data": {
      "text/plain": [
       "[15,\n",
       " 33,\n",
       " 27,\n",
       " 13,\n",
       " 15,\n",
       " 49,\n",
       " 3,\n",
       " 41,\n",
       " 83,\n",
       " 81,\n",
       " 25,\n",
       " 31,\n",
       " 67,\n",
       " 95,\n",
       " 5,\n",
       " 17,\n",
       " 63,\n",
       " 85,\n",
       " 59,\n",
       " 35,\n",
       " 1,\n",
       " 19,\n",
       " 29,\n",
       " 41,\n",
       " 63,\n",
       " 61,\n",
       " 1,\n",
       " 37,\n",
       " 85,\n",
       " 79,\n",
       " 43,\n",
       " 51,\n",
       " 59,\n",
       " 9,\n",
       " 71,\n",
       " 25,\n",
       " 93,\n",
       " 65,\n",
       " 9,\n",
       " 77]"
      ]
     },
     "execution_count": 17,
     "metadata": {},
     "output_type": "execute_result"
    }
   ],
   "source": [
    "# put this in list comprehension\n",
    "\n",
    "[i - 3 if (i % 2) == 0 else i for i in another_sample]"
   ]
  },
  {
   "cell_type": "code",
   "execution_count": null,
   "metadata": {},
   "outputs": [],
   "source": []
  }
 ],
 "metadata": {
  "kernelspec": {
   "display_name": "Python 3",
   "language": "python",
   "name": "python3"
  },
  "language_info": {
   "codemirror_mode": {
    "name": "ipython",
    "version": 3
   },
   "file_extension": ".py",
   "mimetype": "text/x-python",
   "name": "python",
   "nbconvert_exporter": "python",
   "pygments_lexer": "ipython3",
   "version": "3.8.2"
  }
 },
 "nbformat": 4,
 "nbformat_minor": 4
}
