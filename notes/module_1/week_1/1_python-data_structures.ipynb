{
 "cells": [
  {
   "cell_type": "markdown",
   "metadata": {},
   "source": [
    "# this is a markdown\n"
   ]
  },
  {
   "cell_type": "markdown",
   "metadata": {},
   "source": [
    "to create a markdown cell you press ESC and after that M. \n",
    "to start typing, press Enter"
   ]
  },
  {
   "cell_type": "markdown",
   "metadata": {},
   "source": [
    "# Data Structures\n",
    "\n",
    "## I. Primitives\n",
    "\n",
    "Examples:\n",
    "```\n",
    "int: 57\n",
    "float: 57.1\n",
    "str: \"foo\"\n",
    "bool: True | False\n",
    "```\n",
    "\n",
    "## II. Collections (or Containers)\n",
    "\n",
    "### [list]:\n",
    "- most used\n",
    "- usually used to store similar object types\n",
    "- queue-like (there is a line order): chaotic gathering of elements/objects that are waiting for something to get done\n",
    "\n",
    "- [] <- brackets\n",
    "- Super-power: **Mutability**\n",
    "    - add/remove \n",
    "    - re-order/sort\n",
    "\n",
    "### {dict}:\n",
    "- \"organized\", \"labeled\"\n",
    "- containers that care about where something is supposed to get stored\n",
    "\n",
    "- {} <- braces or curly braces\n",
    "- Super-power: **Key-value pairs**\n",
    "\n",
    "### (tuples):\n",
    "- \"strict\"\n",
    "\n",
    "- () <- parentheses (plural), parenthesis (singular)\n",
    "- Super-power: **Immutable**"
   ]
  },
  {
   "cell_type": "code",
   "execution_count": null,
   "metadata": {},
   "outputs": [],
   "source": []
  }
 ],
 "metadata": {
  "kernelspec": {
   "display_name": "Python 3",
   "language": "python",
   "name": "python3"
  },
  "language_info": {
   "codemirror_mode": {
    "name": "ipython",
    "version": 3
   },
   "file_extension": ".py",
   "mimetype": "text/x-python",
   "name": "python",
   "nbconvert_exporter": "python",
   "pygments_lexer": "ipython3",
   "version": "3.8.2"
  }
 },
 "nbformat": 4,
 "nbformat_minor": 4
}
