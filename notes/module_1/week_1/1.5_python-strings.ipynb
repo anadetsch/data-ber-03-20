{
 "cells": [
  {
   "cell_type": "markdown",
   "metadata": {},
   "source": [
    "# Python - Strings\n",
    "\n",
    "## 1. String operations\n",
    "\n",
    "Concatenation"
   ]
  },
  {
   "cell_type": "code",
   "execution_count": 3,
   "metadata": {},
   "outputs": [
    {
     "name": "stdout",
     "output_type": "stream",
     "text": [
      "Hello World\n"
     ]
    }
   ],
   "source": [
    "a = \"Hello\"\n",
    "b = \"World\"\n",
    "\n",
    "print(a + \" \" + b)"
   ]
  },
  {
   "cell_type": "code",
   "execution_count": 5,
   "metadata": {},
   "outputs": [],
   "source": [
    "c = \"over\"\n",
    "d = \"the\"\n",
    "e = \"rainbow\"\n",
    "\n",
    "com = \" \".join([a, b, c, d, e])"
   ]
  },
  {
   "cell_type": "markdown",
   "metadata": {},
   "source": [
    "Splitting strings"
   ]
  },
  {
   "cell_type": "code",
   "execution_count": 6,
   "metadata": {},
   "outputs": [
    {
     "data": {
      "text/plain": [
       "['Hello', 'World', 'over', 'the', 'rainbow']"
      ]
     },
     "execution_count": 6,
     "metadata": {},
     "output_type": "execute_result"
    }
   ],
   "source": [
    "com.split(\" \")"
   ]
  },
  {
   "cell_type": "code",
   "execution_count": 7,
   "metadata": {},
   "outputs": [
    {
     "data": {
      "text/plain": [
       "['Hello', 'World', 'over', 'the', 'rainbow']"
      ]
     },
     "execution_count": 7,
     "metadata": {},
     "output_type": "execute_result"
    }
   ],
   "source": [
    "# whitespace is default\n",
    "com.split()"
   ]
  },
  {
   "cell_type": "markdown",
   "metadata": {},
   "source": [
    "Stripping, trailling or leading whitespaces"
   ]
  },
  {
   "cell_type": "code",
   "execution_count": 9,
   "metadata": {},
   "outputs": [
    {
     "data": {
      "text/plain": [
       "' Hello World '"
      ]
     },
     "execution_count": 9,
     "metadata": {},
     "output_type": "execute_result"
    }
   ],
   "source": [
    "f = \" Hello World \"\n",
    "\n",
    "f"
   ]
  },
  {
   "cell_type": "code",
   "execution_count": 10,
   "metadata": {},
   "outputs": [
    {
     "data": {
      "text/plain": [
       "'Hello World'"
      ]
     },
     "execution_count": 10,
     "metadata": {},
     "output_type": "execute_result"
    }
   ],
   "source": [
    "f.strip()"
   ]
  },
  {
   "cell_type": "code",
   "execution_count": 11,
   "metadata": {},
   "outputs": [
    {
     "data": {
      "text/plain": [
       "' Hello World'"
      ]
     },
     "execution_count": 11,
     "metadata": {},
     "output_type": "execute_result"
    }
   ],
   "source": [
    "f.rstrip()"
   ]
  },
  {
   "cell_type": "code",
   "execution_count": 12,
   "metadata": {},
   "outputs": [
    {
     "data": {
      "text/plain": [
       "'Hello World '"
      ]
     },
     "execution_count": 12,
     "metadata": {},
     "output_type": "execute_result"
    }
   ],
   "source": [
    "f.lstrip()"
   ]
  },
  {
   "cell_type": "code",
   "execution_count": 13,
   "metadata": {},
   "outputs": [
    {
     "data": {
      "text/plain": [
       "'HelloWorld'"
      ]
     },
     "execution_count": 13,
     "metadata": {},
     "output_type": "execute_result"
    }
   ],
   "source": [
    "# you don't want to use replace\n",
    "\n",
    "f.replace(\" \", \"\")"
   ]
  },
  {
   "cell_type": "markdown",
   "metadata": {},
   "source": [
    "Removing case-sensitivity by lowering all characters"
   ]
  },
  {
   "cell_type": "code",
   "execution_count": 17,
   "metadata": {},
   "outputs": [
    {
     "data": {
      "text/plain": [
       "['India', 'ice', 'iris']"
      ]
     },
     "execution_count": 17,
     "metadata": {},
     "output_type": "execute_result"
    }
   ],
   "source": [
    "g = [\"India\", \"ice\", \"Hund\", \"iris\", \"Vogel\"]\n",
    "\n",
    "words_with_i = []\n",
    "for word in g:\n",
    "    if word.lower().startswith(\"i\"):\n",
    "        words_with_i.append(word)\n",
    "        \n",
    "words_with_i"
   ]
  },
  {
   "cell_type": "markdown",
   "metadata": {},
   "source": [
    "Replace characters"
   ]
  },
  {
   "cell_type": "code",
   "execution_count": 21,
   "metadata": {},
   "outputs": [
    {
     "name": "stdout",
     "output_type": "stream",
     "text": [
      "'Is it any wonder?'\n"
     ]
    }
   ],
   "source": [
    "h = \"'Is it any wonder?'\"\n",
    "print(h)"
   ]
  },
  {
   "cell_type": "code",
   "execution_count": 22,
   "metadata": {},
   "outputs": [
    {
     "name": "stdout",
     "output_type": "stream",
     "text": [
      "\"Is it any wonder\"\n"
     ]
    }
   ],
   "source": [
    "print(\"\\\"Is it any wonder\\\"\")"
   ]
  },
  {
   "cell_type": "code",
   "execution_count": 24,
   "metadata": {},
   "outputs": [
    {
     "name": "stdout",
     "output_type": "stream",
     "text": [
      "\"Is it any wonder?\"\n"
     ]
    }
   ],
   "source": [
    "print(h.replace(\"'\", '\"'))"
   ]
  },
  {
   "cell_type": "code",
   "execution_count": 28,
   "metadata": {},
   "outputs": [
    {
     "data": {
      "text/plain": [
       "'Hello, World. Who? Me!'"
      ]
     },
     "execution_count": 28,
     "metadata": {},
     "output_type": "execute_result"
    }
   ],
   "source": [
    "text = \"Hello, World. Who? Me!\"\n",
    "\n",
    "text"
   ]
  },
  {
   "cell_type": "code",
   "execution_count": 32,
   "metadata": {},
   "outputs": [
    {
     "data": {
      "text/plain": [
       "'Hello World Who Me'"
      ]
     },
     "execution_count": 32,
     "metadata": {},
     "output_type": "execute_result"
    }
   ],
   "source": [
    "# method chaining\n",
    "clean = (text\n",
    "         .replace(\",\", \"\")\n",
    "         .replace(\".\", \"\")\n",
    "         .replace(\"?\", \"\")\n",
    "         .replace(\"!\", \"\"))\n",
    "\n",
    "clean"
   ]
  },
  {
   "cell_type": "code",
   "execution_count": 33,
   "metadata": {},
   "outputs": [
    {
     "data": {
      "text/plain": [
       "'Hello World Who Me'"
      ]
     },
     "execution_count": 33,
     "metadata": {},
     "output_type": "execute_result"
    }
   ],
   "source": [
    "signs = \",.?!\"\n",
    "\n",
    "t = text\n",
    "for char in signs:\n",
    "    t = t.replace(char, \"\")\n",
    "\n",
    "t"
   ]
  },
  {
   "cell_type": "markdown",
   "metadata": {},
   "source": [
    "Removing characters by identifying patterns.\n",
    "\n",
    "Remove the last character of each 'word'."
   ]
  },
  {
   "cell_type": "code",
   "execution_count": 34,
   "metadata": {},
   "outputs": [
    {
     "data": {
      "text/plain": [
       "'Hello, World. Who? Me!'"
      ]
     },
     "execution_count": 34,
     "metadata": {},
     "output_type": "execute_result"
    }
   ],
   "source": [
    "text"
   ]
  },
  {
   "cell_type": "code",
   "execution_count": 35,
   "metadata": {},
   "outputs": [
    {
     "data": {
      "text/plain": [
       "['Hello,', 'World.', 'Who?', 'Me!']"
      ]
     },
     "execution_count": 35,
     "metadata": {},
     "output_type": "execute_result"
    }
   ],
   "source": [
    "text.split(\" \")"
   ]
  },
  {
   "cell_type": "code",
   "execution_count": 37,
   "metadata": {},
   "outputs": [
    {
     "data": {
      "text/plain": [
       "'Hello World Who Me'"
      ]
     },
     "execution_count": 37,
     "metadata": {},
     "output_type": "execute_result"
    }
   ],
   "source": [
    "words_only = []\n",
    "\n",
    "for word in text.split(\" \"):\n",
    "    words_only.append(word[:-1])\n",
    "    \n",
    "\" \".join(words_only)"
   ]
  },
  {
   "cell_type": "markdown",
   "metadata": {},
   "source": [
    "Using regex"
   ]
  },
  {
   "cell_type": "code",
   "execution_count": 38,
   "metadata": {},
   "outputs": [],
   "source": [
    "import re"
   ]
  },
  {
   "cell_type": "code",
   "execution_count": 40,
   "metadata": {},
   "outputs": [
    {
     "data": {
      "text/plain": [
       "'Hello World Who Me'"
      ]
     },
     "execution_count": 40,
     "metadata": {},
     "output_type": "execute_result"
    }
   ],
   "source": [
    "word_pattern = r\"\\w+\"\n",
    "\" \".join(re.findall(word_pattern, text))"
   ]
  },
  {
   "cell_type": "code",
   "execution_count": 41,
   "metadata": {},
   "outputs": [
    {
     "data": {
      "text/plain": [
       "'Hello World Who Me'"
      ]
     },
     "execution_count": 41,
     "metadata": {},
     "output_type": "execute_result"
    }
   ],
   "source": [
    "\" \".join(re.findall(r\"\\w+\", text))"
   ]
  },
  {
   "cell_type": "markdown",
   "metadata": {},
   "source": [
    "## 2. String interpolation"
   ]
  },
  {
   "cell_type": "code",
   "execution_count": 44,
   "metadata": {},
   "outputs": [
    {
     "data": {
      "text/plain": [
       "'Whitney Axel'"
      ]
     },
     "execution_count": 44,
     "metadata": {},
     "output_type": "execute_result"
    }
   ],
   "source": [
    "name = \"Whitney Axel\"\n",
    "\n",
    "name"
   ]
  },
  {
   "cell_type": "code",
   "execution_count": 48,
   "metadata": {},
   "outputs": [
    {
     "name": "stdout",
     "output_type": "stream",
     "text": [
      "Hello, my name is Whitney Axel!\n"
     ]
    }
   ],
   "source": [
    "print(f\"Hello, my name is {name}!\")"
   ]
  },
  {
   "cell_type": "code",
   "execution_count": 49,
   "metadata": {},
   "outputs": [
    {
     "name": "stdout",
     "output_type": "stream",
     "text": [
      "Hello, my name is Ana!\n"
     ]
    }
   ],
   "source": [
    "name_1 = \"Ana\"\n",
    "\n",
    "print(f\"Hello, my name is {name_1}!\")"
   ]
  },
  {
   "cell_type": "code",
   "execution_count": 53,
   "metadata": {},
   "outputs": [
    {
     "name": "stdout",
     "output_type": "stream",
     "text": [
      "Hi, my name is Whitney Axel!\n"
     ]
    }
   ],
   "source": [
    "print(f\"Hi, my name is {name + '!'}\")"
   ]
  },
  {
   "cell_type": "code",
   "execution_count": 54,
   "metadata": {},
   "outputs": [
    {
     "name": "stdout",
     "output_type": "stream",
     "text": [
      "Hi, my names are Whitney AxelWhitney AxelWhitney AxelWhitney AxelWhitney Axel\n"
     ]
    }
   ],
   "source": [
    "print(f\"Hi, my names are {name*5}\")"
   ]
  },
  {
   "cell_type": "markdown",
   "metadata": {},
   "source": [
    "Given some table:\n",
    "\n",
    "| name | fruit | quantity |\n",
    "|------|-------|----------|\n",
    "| TC   | Lemon | 7000     |\n",
    "| Ilse | Apple | 1 |\n",
    "| Ana | Passionfruit | 10 |\n",
    "| Alejandro | Mango | 33 |"
   ]
  },
  {
   "cell_type": "code",
   "execution_count": 55,
   "metadata": {},
   "outputs": [],
   "source": [
    "fruits = [{\"name\" : \"TC\",\n",
    "          \"fruit\" : \"Lemon\",\n",
    "          \"quantity\" : 7000},\n",
    "         {\"name\" : \"Ilse\",\n",
    "          \"fruit\" : \"Apple\",\n",
    "          \"quantity\" : 1},\n",
    "         {\"name\" : \"Ana\",\n",
    "          \"fruit\" : \"Passionfruit\",\n",
    "          \"quantity\" : 10},\n",
    "         {\"name\" : \"Alejandro\",\n",
    "          \"fruit\" : \"Mango\",\n",
    "          \"quantity\" : 33}]"
   ]
  },
  {
   "cell_type": "code",
   "execution_count": 56,
   "metadata": {},
   "outputs": [
    {
     "data": {
      "text/plain": [
       "[{'name': 'TC', 'fruit': 'Lemon', 'quantity': 7000},\n",
       " {'name': 'Ilse', 'fruit': 'Apple', 'quantity': 1},\n",
       " {'name': 'Ana', 'fruit': 'Passionfruit', 'quantity': 10},\n",
       " {'name': 'Alejandro', 'fruit': 'Mango', 'quantity': 33}]"
      ]
     },
     "execution_count": 56,
     "metadata": {},
     "output_type": "execute_result"
    }
   ],
   "source": [
    "fruits"
   ]
  },
  {
   "cell_type": "code",
   "execution_count": 58,
   "metadata": {},
   "outputs": [
    {
     "name": "stdout",
     "output_type": "stream",
     "text": [
      "TC has 7000 Lemon.\n",
      "Ilse has 1 Apple.\n",
      "Ana has 10 Passionfruit.\n",
      "Alejandro has 33 Mango.\n"
     ]
    }
   ],
   "source": [
    "for student in fruits:\n",
    "    print(f\"{student['name']} has {student['quantity']} {student['fruit']}.\")"
   ]
  },
  {
   "cell_type": "markdown",
   "metadata": {},
   "source": [
    "Add control flow for plural, using a ternary operator"
   ]
  },
  {
   "cell_type": "code",
   "execution_count": 60,
   "metadata": {},
   "outputs": [
    {
     "name": "stdout",
     "output_type": "stream",
     "text": [
      "plural\n"
     ]
    }
   ],
   "source": [
    "a = 10\n",
    "print(\"singular\" if a == 1 else \"plural\")"
   ]
  },
  {
   "cell_type": "code",
   "execution_count": 63,
   "metadata": {},
   "outputs": [
    {
     "name": "stdout",
     "output_type": "stream",
     "text": [
      "TC has 7000 Lemons.\n",
      "Ilse has 1 Apple.\n",
      "Ana has 10 Passionfruits.\n",
      "Alejandro has 33 Mangos.\n"
     ]
    }
   ],
   "source": [
    "for student in fruits:\n",
    "    print(f\"{student['name']} has {student['quantity']} {student['fruit']}\\\n",
    "{'s' if student['quantity'] > 1 else ''}.\")"
   ]
  },
  {
   "cell_type": "markdown",
   "metadata": {},
   "source": [
    "Exercise: Use `str.format()`"
   ]
  },
  {
   "cell_type": "markdown",
   "metadata": {},
   "source": [
    "### 2.1. Using string interpolation to debug\n",
    "\n",
    "Iterating over a dictionary"
   ]
  },
  {
   "cell_type": "code",
   "execution_count": 77,
   "metadata": {},
   "outputs": [],
   "source": [
    "ex = {\"tree\" : \"leaf\",\n",
    "     \"legume\" : \"lentil\",\n",
    "     \"operating system\" : \"mac\",\n",
    "     \"animal\" : \"panda\"}"
   ]
  },
  {
   "cell_type": "code",
   "execution_count": 78,
   "metadata": {},
   "outputs": [
    {
     "data": {
      "text/plain": [
       "dict"
      ]
     },
     "execution_count": 78,
     "metadata": {},
     "output_type": "execute_result"
    }
   ],
   "source": [
    "type(ex)"
   ]
  },
  {
   "cell_type": "code",
   "execution_count": 79,
   "metadata": {},
   "outputs": [
    {
     "data": {
      "text/plain": [
       "{'tree': 'leaf',\n",
       " 'legume': 'lentil',\n",
       " 'operating system': 'mac',\n",
       " 'animal': 'panda'}"
      ]
     },
     "execution_count": 79,
     "metadata": {},
     "output_type": "execute_result"
    }
   ],
   "source": [
    "ex"
   ]
  },
  {
   "cell_type": "code",
   "execution_count": 80,
   "metadata": {},
   "outputs": [
    {
     "name": "stdout",
     "output_type": "stream",
     "text": [
      "9\n",
      "8\n",
      "7\n"
     ]
    }
   ],
   "source": [
    "for i in [9, 8, 7]:\n",
    "    print(i)"
   ]
  },
  {
   "cell_type": "code",
   "execution_count": 81,
   "metadata": {},
   "outputs": [
    {
     "name": "stdout",
     "output_type": "stream",
     "text": [
      "tree\n",
      "legume\n",
      "operating system\n",
      "animal\n"
     ]
    }
   ],
   "source": [
    "for i in ex: \n",
    "    print(i)"
   ]
  },
  {
   "cell_type": "markdown",
   "metadata": {},
   "source": [
    "when you iterate over a dictionary, the i in the for loop is just iterating over the key"
   ]
  },
  {
   "cell_type": "code",
   "execution_count": 86,
   "metadata": {},
   "outputs": [
    {
     "name": "stdout",
     "output_type": "stream",
     "text": [
      "This is the 1. iteration\n",
      "entry is of type <class 'str'>\n",
      "tree\n",
      "The value is: leaf\n",
      "--------------------\n",
      "\n",
      "This is the 2. iteration\n",
      "entry is of type <class 'str'>\n",
      "legume\n",
      "The value is: lentil\n",
      "--------------------\n",
      "\n",
      "This is the 3. iteration\n",
      "entry is of type <class 'str'>\n",
      "operating system\n",
      "The value is: mac\n",
      "--------------------\n",
      "\n",
      "This is the 4. iteration\n",
      "entry is of type <class 'str'>\n",
      "animal\n",
      "The value is: panda\n",
      "--------------------\n",
      "\n"
     ]
    }
   ],
   "source": [
    "i = 1\n",
    "for entry in ex:\n",
    "    print(f\"This is the {i}. iteration\")\n",
    "    i += 1\n",
    "    print(f\"entry is of type {type(entry)}\")\n",
    "    print(entry)\n",
    "    print(f\"The value is: {ex[entry]}\")\n",
    "    print(\"-\"*20 + '\\n')"
   ]
  },
  {
   "cell_type": "markdown",
   "metadata": {},
   "source": [
    "Alternatively:"
   ]
  },
  {
   "cell_type": "code",
   "execution_count": 87,
   "metadata": {},
   "outputs": [
    {
     "data": {
      "text/plain": [
       "dict_items([('tree', 'leaf'), ('legume', 'lentil'), ('operating system', 'mac'), ('animal', 'panda')])"
      ]
     },
     "execution_count": 87,
     "metadata": {},
     "output_type": "execute_result"
    }
   ],
   "source": [
    "ex.items()"
   ]
  },
  {
   "cell_type": "code",
   "execution_count": 88,
   "metadata": {},
   "outputs": [
    {
     "data": {
      "text/plain": [
       "[('tree', 'leaf'),\n",
       " ('legume', 'lentil'),\n",
       " ('operating system', 'mac'),\n",
       " ('animal', 'panda')]"
      ]
     },
     "execution_count": 88,
     "metadata": {},
     "output_type": "execute_result"
    }
   ],
   "source": [
    "list(ex.items())"
   ]
  },
  {
   "cell_type": "code",
   "execution_count": 89,
   "metadata": {},
   "outputs": [
    {
     "data": {
      "text/plain": [
       "dict_items"
      ]
     },
     "execution_count": 89,
     "metadata": {},
     "output_type": "execute_result"
    }
   ],
   "source": [
    "type(ex.items())"
   ]
  },
  {
   "cell_type": "code",
   "execution_count": 90,
   "metadata": {},
   "outputs": [
    {
     "name": "stdout",
     "output_type": "stream",
     "text": [
      "('tree', 'leaf')\n",
      "('legume', 'lentil')\n",
      "('operating system', 'mac')\n",
      "('animal', 'panda')\n"
     ]
    }
   ],
   "source": [
    "for entry in ex.items():\n",
    "    print(entry)"
   ]
  },
  {
   "cell_type": "markdown",
   "metadata": {},
   "source": [
    "Now we have a tuple and the tuple has 2 elements"
   ]
  },
  {
   "cell_type": "code",
   "execution_count": 91,
   "metadata": {},
   "outputs": [
    {
     "name": "stdout",
     "output_type": "stream",
     "text": [
      "1\n",
      "2\n"
     ]
    }
   ],
   "source": [
    "fish = (1, 2)\n",
    "print(fish[0])\n",
    "print(fish[1])"
   ]
  },
  {
   "cell_type": "code",
   "execution_count": 94,
   "metadata": {},
   "outputs": [
    {
     "name": "stdout",
     "output_type": "stream",
     "text": [
      "The key is: tree\n",
      "It's value is: leaf\n",
      "--------------------\n",
      "\n",
      "The key is: legume\n",
      "It's value is: lentil\n",
      "--------------------\n",
      "\n",
      "The key is: operating system\n",
      "It's value is: mac\n",
      "--------------------\n",
      "\n",
      "The key is: animal\n",
      "It's value is: panda\n",
      "--------------------\n",
      "\n"
     ]
    }
   ],
   "source": [
    "for entry in ex.items():\n",
    "    print(f\"The key is: {entry[0]}\")\n",
    "    print(f\"It's value is: {entry[1]}\")\n",
    "    print(\"-\" * 20 + '\\n')"
   ]
  },
  {
   "cell_type": "markdown",
   "metadata": {},
   "source": [
    "Using tuple decomposition / tuple unpacking"
   ]
  },
  {
   "cell_type": "code",
   "execution_count": 95,
   "metadata": {},
   "outputs": [
    {
     "data": {
      "text/plain": [
       "(1, 2)"
      ]
     },
     "execution_count": 95,
     "metadata": {},
     "output_type": "execute_result"
    }
   ],
   "source": [
    "fish"
   ]
  },
  {
   "cell_type": "code",
   "execution_count": 96,
   "metadata": {},
   "outputs": [],
   "source": [
    "first_fish, second_fish = fish"
   ]
  },
  {
   "cell_type": "code",
   "execution_count": 97,
   "metadata": {},
   "outputs": [
    {
     "data": {
      "text/plain": [
       "1"
      ]
     },
     "execution_count": 97,
     "metadata": {},
     "output_type": "execute_result"
    }
   ],
   "source": [
    "first_fish"
   ]
  },
  {
   "cell_type": "code",
   "execution_count": 98,
   "metadata": {},
   "outputs": [
    {
     "data": {
      "text/plain": [
       "2"
      ]
     },
     "execution_count": 98,
     "metadata": {},
     "output_type": "execute_result"
    }
   ],
   "source": [
    "second_fish"
   ]
  },
  {
   "cell_type": "code",
   "execution_count": 99,
   "metadata": {},
   "outputs": [
    {
     "name": "stdout",
     "output_type": "stream",
     "text": [
      "The key is: tree\n",
      "It's value is: leaf\n",
      "--------------------\n",
      "\n",
      "The key is: legume\n",
      "It's value is: lentil\n",
      "--------------------\n",
      "\n",
      "The key is: operating system\n",
      "It's value is: mac\n",
      "--------------------\n",
      "\n",
      "The key is: animal\n",
      "It's value is: panda\n",
      "--------------------\n",
      "\n"
     ]
    }
   ],
   "source": [
    "for key, value in ex.items():\n",
    "    print(f\"The key is: {key}\")\n",
    "    print(f\"It's value is: {value}\")\n",
    "    print(\"-\" * 20 + '\\n')"
   ]
  }
 ],
 "metadata": {
  "kernelspec": {
   "display_name": "Python 3",
   "language": "python",
   "name": "python3"
  },
  "language_info": {
   "codemirror_mode": {
    "name": "ipython",
    "version": 3
   },
   "file_extension": ".py",
   "mimetype": "text/x-python",
   "name": "python",
   "nbconvert_exporter": "python",
   "pygments_lexer": "ipython3",
   "version": "3.8.2"
  }
 },
 "nbformat": 4,
 "nbformat_minor": 4
}
