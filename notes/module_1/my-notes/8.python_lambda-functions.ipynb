{
 "cells": [
  {
   "cell_type": "markdown",
   "metadata": {},
   "source": [
    "# Lambda Functions\n",
    "\n",
    "they are functions without a name\n",
    "Lambda functions are typically short expressions.\n",
    "\n",
    "\n",
    "## Defininf a Lambda Function\n",
    "\n",
    "For the most part, any lambda expression can also be written as a function (but not vice versa). \n",
    "\n",
    "When writing a Lambda:\n",
    "    - use the syntax of declaring a lambda\n",
    "    - then listing the inputes of the lambda \n",
    "    - followed by a colon \n",
    "    - then the expression"
   ]
  },
  {
   "cell_type": "code",
   "execution_count": 2,
   "metadata": {},
   "outputs": [],
   "source": [
    "# Below is a lambda function that takes a number and returns its square\n",
    "\n",
    "square = lambda x: x * x\n",
    "\n",
    "# Here we have a function that returns the same result as the Lambda function\n",
    "def square_function(x):\n",
    "    return x * x\n"
   ]
  },
  {
   "cell_type": "code",
   "execution_count": 3,
   "metadata": {},
   "outputs": [
    {
     "data": {
      "text/plain": [
       "25"
      ]
     },
     "execution_count": 3,
     "metadata": {},
     "output_type": "execute_result"
    }
   ],
   "source": [
    "square(5)"
   ]
  },
  {
   "cell_type": "code",
   "execution_count": 4,
   "metadata": {},
   "outputs": [
    {
     "data": {
      "text/plain": [
       "25"
      ]
     },
     "execution_count": 4,
     "metadata": {},
     "output_type": "execute_result"
    }
   ],
   "source": [
    "square_function(5)"
   ]
  },
  {
   "cell_type": "code",
   "execution_count": 5,
   "metadata": {},
   "outputs": [
    {
     "data": {
      "text/plain": [
       "11"
      ]
     },
     "execution_count": 5,
     "metadata": {},
     "output_type": "execute_result"
    }
   ],
   "source": [
    "# We can pass multiple arguments\n",
    "\n",
    "summarize = lambda a, b: a + b\n",
    "\n",
    "summarize(5 ,6)"
   ]
  },
  {
   "cell_type": "markdown",
   "metadata": {},
   "source": [
    "### If Statements in Lambda Functions\n",
    "\n",
    "- here we specify the if AFTER we specify the action"
   ]
  },
  {
   "cell_type": "code",
   "execution_count": 6,
   "metadata": {},
   "outputs": [],
   "source": [
    "div = lambda num, denom: num / denom if (denom != 0) else 0"
   ]
  },
  {
   "cell_type": "code",
   "execution_count": 7,
   "metadata": {},
   "outputs": [
    {
     "data": {
      "text/plain": [
       "0.5"
      ]
     },
     "execution_count": 7,
     "metadata": {},
     "output_type": "execute_result"
    }
   ],
   "source": [
    "div(5, 10)"
   ]
  },
  {
   "cell_type": "code",
   "execution_count": 8,
   "metadata": {},
   "outputs": [
    {
     "data": {
      "text/plain": [
       "0"
      ]
     },
     "execution_count": 8,
     "metadata": {},
     "output_type": "execute_result"
    }
   ],
   "source": [
    "div(10, 0)"
   ]
  },
  {
   "cell_type": "markdown",
   "metadata": {},
   "source": [
    "### Lambdas in the Return Statement of a Function\n",
    "\n",
    "We can use lambda expressions to return a function from a function"
   ]
  },
  {
   "cell_type": "code",
   "execution_count": 10,
   "metadata": {},
   "outputs": [],
   "source": [
    "def generate_range(lower):\n",
    "    return lambda upper: range(lower, upper)"
   ]
  },
  {
   "cell_type": "code",
   "execution_count": 11,
   "metadata": {},
   "outputs": [],
   "source": [
    "custom_range = generate_range(0)"
   ]
  },
  {
   "cell_type": "code",
   "execution_count": 12,
   "metadata": {},
   "outputs": [
    {
     "data": {
      "text/plain": [
       "range(0, 10)"
      ]
     },
     "execution_count": 12,
     "metadata": {},
     "output_type": "execute_result"
    }
   ],
   "source": [
    "custom_range(10)\n",
    "range(0, 10)"
   ]
  },
  {
   "cell_type": "code",
   "execution_count": 13,
   "metadata": {},
   "outputs": [
    {
     "data": {
      "text/plain": [
       "[0, 1, 2, 3, 4, 5, 6, 7, 8, 9]"
      ]
     },
     "execution_count": 13,
     "metadata": {},
     "output_type": "execute_result"
    }
   ],
   "source": [
    "[x for x in custom_range(10)]"
   ]
  },
  {
   "cell_type": "code",
   "execution_count": 15,
   "metadata": {},
   "outputs": [
    {
     "data": {
      "text/plain": [
       "[0, 1, 2, 3, 4]"
      ]
     },
     "execution_count": 15,
     "metadata": {},
     "output_type": "execute_result"
    }
   ],
   "source": [
    "[x for x in custom_range(5)]"
   ]
  },
  {
   "cell_type": "markdown",
   "metadata": {},
   "source": [
    "### Lambdas in List Comprehensions\n",
    "\n",
    "Lambdas are great when we want to generate a list in a quick and concise manner.\n",
    "We can apply the lambda expression to every element in the list and generate a new list."
   ]
  },
  {
   "cell_type": "code",
   "execution_count": 16,
   "metadata": {},
   "outputs": [
    {
     "data": {
      "text/plain": [
       "[1, 4, 9, 16, 25, 36, 49, 64, 81]"
      ]
     },
     "execution_count": 16,
     "metadata": {},
     "output_type": "execute_result"
    }
   ],
   "source": [
    "# Generating the squares of all numbers 1 through 10\n",
    "\n",
    "square = lambda x: x * x\n",
    "\n",
    "# generate the numbers using the range function while applying the lambda\n",
    "squared = [square(x) for x in range(1, 10)]\n",
    "\n",
    "squared"
   ]
  },
  {
   "cell_type": "markdown",
   "metadata": {},
   "source": [
    "We can also use lambda to transform existing list"
   ]
  },
  {
   "cell_type": "code",
   "execution_count": 17,
   "metadata": {},
   "outputs": [
    {
     "data": {
      "text/plain": [
       "['Calculus', 'Philosophy', 'Art History', 'Computer Science']"
      ]
     },
     "execution_count": 17,
     "metadata": {},
     "output_type": "execute_result"
    }
   ],
   "source": [
    "# replace a dash with a space in a list\n",
    "\n",
    "school_dash = ['Calculus', 'Philosophy', 'Art-History', 'Computer-Science']\n",
    "\n",
    "school_space = [(lambda x: x.replace('-', ' '))(x) for x in school_dash]\n",
    "\n",
    "school_space"
   ]
  },
  {
   "cell_type": "markdown",
   "metadata": {},
   "source": [
    "### Lambda as Arguments in Functions\n"
   ]
  },
  {
   "cell_type": "code",
   "execution_count": 18,
   "metadata": {},
   "outputs": [
    {
     "data": {
      "text/plain": [
       "['Computer Science', 'Calculus', 'Philosophy', 'Art History']"
      ]
     },
     "execution_count": 18,
     "metadata": {},
     "output_type": "execute_result"
    }
   ],
   "source": [
    "# Let's create our own sorting function and sort by the last letter of the school subject.\n",
    "\n",
    "# 1. create a lambda function that returns the last letter.\n",
    "last = lambda x: x[-1]\n",
    "\n",
    "# 2. sort using this function as a sorting key.\n",
    "sorted(school_space, key = last)"
   ]
  },
  {
   "cell_type": "markdown",
   "metadata": {},
   "source": [
    "### Advantages and Disadvantages of Lambda Functions\n",
    "\n",
    "##### Advantages:\n",
    "- Lambda functions are concise since they only contain one expression.\n",
    "- Lambda can be passed around without a variable (hence why they are considered anonymous).\n",
    "- Lambda functions return automatically.\n",
    "\n",
    "##### Disadvantages:\n",
    "- Sometimes lambda functions can over-complicate. \n",
    "- They use different syntax"
   ]
  }
 ],
 "metadata": {
  "kernelspec": {
   "display_name": "Python 3",
   "language": "python",
   "name": "python3"
  },
  "language_info": {
   "codemirror_mode": {
    "name": "ipython",
    "version": 3
   },
   "file_extension": ".py",
   "mimetype": "text/x-python",
   "name": "python",
   "nbconvert_exporter": "python",
   "pygments_lexer": "ipython3",
   "version": "3.8.2"
  }
 },
 "nbformat": 4,
 "nbformat_minor": 4
}
