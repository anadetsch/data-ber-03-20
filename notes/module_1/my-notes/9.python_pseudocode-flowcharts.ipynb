{
 "cells": [
  {
   "cell_type": "markdown",
   "metadata": {},
   "source": [
    "## Pseudocode & Flowcharts\n",
    "\n",
    "#### What is Pseudo-code?\n",
    "is an informal coding practice to help plan algorithms and tain programmatic thinking. \n",
    "\n",
    "\n",
    "### Do's & Don'ts:\n",
    "##### Do's:\n",
    "- Use control structure\n",
    "- Use proper naming conventions\n",
    "- Indentations and white spaces are the key\n",
    "- Keep it simple\n",
    "- Keep it concise\n",
    "\n",
    "##### Don'ts:\n",
    "- Don't make your pseudo-code abstract\n",
    "- Don't be too generalized\n",
    "\n",
    "\n",
    "#### Examples:\n",
    "\n",
    "##### Task 1:\n",
    "Write a program that asks the user for a temperature in Fahrenheit and prints out the same temperatur in Celsius"
   ]
  },
  {
   "cell_type": "code",
   "execution_count": 4,
   "metadata": {},
   "outputs": [],
   "source": [
    "# Pseudo-code\n",
    "\n",
    "# x = Get user input\n",
    "# y = Convert x to Celsius"
   ]
  },
  {
   "cell_type": "code",
   "execution_count": 5,
   "metadata": {},
   "outputs": [
    {
     "name": "stdout",
     "output_type": "stream",
     "text": [
      "Please input a temperature in Fahrenheit: 125\n",
      "Your temperature in Celsius is: 51.666666666666664\n"
     ]
    }
   ],
   "source": [
    "# Code:\n",
    "\n",
    "x = input('Please input a temperature in Fahrenheit: ')\n",
    "y = (float(x)-32) * 5/9\n",
    "\n",
    "print(f'Your temperature in Celsius is: {y}')"
   ]
  },
  {
   "cell_type": "markdown",
   "metadata": {},
   "source": [
    "##### Task 2:\n",
    "Write a program that converts from Fahrenheit to Celsius or from Celsius to Fahrenheit, depending on the user's choice."
   ]
  },
  {
   "cell_type": "code",
   "execution_count": 6,
   "metadata": {},
   "outputs": [],
   "source": [
    "# Pseudo-code:\n",
    "\n",
    "#x = input \"Press 1 to convert from Fahrenheit to Celsius or Press 2 to convert from Celsius to Fahrenheit.\"\n",
    "#y = input ask what number? \n",
    "#z = choice\n",
    "#\n",
    "#if z = 1 (1 is pressed)\n",
    "#    do f to c conversion\n",
    "#    print output\n",
    "#elif z = 2 (2 is pressed)\n",
    "#    do c to f conversion\n",
    "#    print output\n",
    "#else\n",
    "#    print(\"Please enter either 1 or 2\")"
   ]
  },
  {
   "cell_type": "code",
   "execution_count": 10,
   "metadata": {},
   "outputs": [
    {
     "name": "stdout",
     "output_type": "stream",
     "text": [
      "Press 1 to convert from Fahrenheit to Celsius or Press 2 to convert from Celsius to Fahrenheit.5\n",
      "What is the number you want to convert?123\n",
      "Please enter either 1 or 2\n"
     ]
    }
   ],
   "source": [
    "# Code:\n",
    "\n",
    "x = int(input(\"Press 1 to convert from Fahrenheit to Celsius or Press 2 to convert from Celsius to Fahrenheit.\"))\n",
    "y = input(\"What is the number you want to convert?\")\n",
    "z = float(x)\n",
    "\n",
    "if z == 1:\n",
    "    y = (float(y) - 32) * 5/9\n",
    "    print(y)\n",
    "elif z == 2:\n",
    "    y = float(y) * 9/5 +32\n",
    "    print(y)\n",
    "else:\n",
    "    print(\"Please enter either 1 or 2\")"
   ]
  },
  {
   "cell_type": "markdown",
   "metadata": {},
   "source": [
    "##### Improving\n",
    "\n",
    "evoiting the error messages and improving use experience"
   ]
  },
  {
   "cell_type": "code",
   "execution_count": 11,
   "metadata": {},
   "outputs": [],
   "source": [
    "# Pseudo-code:\n",
    "# \n",
    "# flag1 = entered value is wrong\n",
    "# while flag1 is wrong\n",
    "#     x = input \"Press 1 to convert from Fahrenheit to Celsius or Press 2 to convert from Celsius to Fahrenheit.\"\n",
    "#     if x is not 1 or 2\n",
    "#         print error message\n",
    "#     else\n",
    "#     z = choice\n",
    "#     flag1 = entered value is correct\n",
    "#     \n",
    "# flag 2 = entered number is not a number\n",
    "# while flag2 is wrong\n",
    "#     y = input aks what number?\n",
    "#     if y is not number\n",
    "#         print error message\n",
    "#     else \n",
    "#         convert y into float number\n",
    "#         flag2 = entered value is correct\n",
    "#     \n",
    "# if z = 1 (1 is pressed)\n",
    "#     do f to c conversion\n",
    "#     print output\n",
    "# else (2 is pressed)\n",
    "#     do c to f conversion\n",
    "#     print output"
   ]
  },
  {
   "cell_type": "code",
   "execution_count": 12,
   "metadata": {},
   "outputs": [
    {
     "name": "stdout",
     "output_type": "stream",
     "text": [
      "Press 1 to convert from Fahrenheit to Celsius or Press 2 to convert from Celsius to Fahrenheit.5\n",
      "Error: Please enter either 1 or 2\n",
      "Press 1 to convert from Fahrenheit to Celsius or Press 2 to convert from Celsius to Fahrenheit.3\n",
      "Error: Please enter either 1 or 2\n",
      "Press 1 to convert from Fahrenheit to Celsius or Press 2 to convert from Celsius to Fahrenheit.1\n",
      "What is the number you want to convert?77\n",
      "25.0\n"
     ]
    }
   ],
   "source": [
    "# Code:\n",
    "flag1 = False\n",
    "while flag1 == False:\n",
    "    x = input(\"Press 1 to convert from Fahrenheit to Celsius or Press 2 to convert from Celsius to Fahrenheit.\")\n",
    "    if x not in ['1', '2']:\n",
    "        print('Error: Please enter either 1 or 2')\n",
    "    else:\n",
    "        z = int(x)\n",
    "        flag1 = True\n",
    "        \n",
    "flag2 = False\n",
    "while flag2 == False:\n",
    "    y = input(\"What is the number you want to convert?\")\n",
    "    if y.replace(\".\", \"\", 1).lstrip('+-').isdigit()==False:\n",
    "        print('Error: Please enter a number')\n",
    "    else:\n",
    "        y = float(y)\n",
    "        flag2 = True\n",
    "        \n",
    "if z == 1:\n",
    "    y = (y -32) * 5/9\n",
    "    print(y)\n",
    "else: \n",
    "    y = y * 9/5 +32\n",
    "    print(y)"
   ]
  },
  {
   "cell_type": "markdown",
   "metadata": {},
   "source": [
    "### What is Flowchart?\n",
    "is a type of diagram that represents the workflow of process of an algorithm. \n",
    "It shows the steps as symbols of various kinds and their order/sequence.\n",
    "\n",
    "Are a visual representation of data flow. Are useful in writing a program or algorithm and explaining it to others or collaborating with them on it. \n",
    "They can:\n",
    "- Demonstrate the way code is organized.\n",
    "- Visualize the execution of code within a program. \n",
    "- Show the structure of a website or application.\n",
    "- Understand how users navigate a website or program.\n"
   ]
  }
 ],
 "metadata": {
  "kernelspec": {
   "display_name": "Python 3",
   "language": "python",
   "name": "python3"
  },
  "language_info": {
   "codemirror_mode": {
    "name": "ipython",
    "version": 3
   },
   "file_extension": ".py",
   "mimetype": "text/x-python",
   "name": "python",
   "nbconvert_exporter": "python",
   "pygments_lexer": "ipython3",
   "version": "3.8.2"
  }
 },
 "nbformat": 4,
 "nbformat_minor": 4
}
